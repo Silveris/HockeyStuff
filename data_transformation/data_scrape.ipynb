{
 "cells": [
  {
   "cell_type": "code",
   "execution_count": 1,
   "metadata": {},
   "outputs": [],
   "source": [
    "import pandas as pd \n",
    "import os\n",
    "import sys\n",
    "from bs4 import BeautifulSoup\n",
    "import requests"
   ]
  },
  {
   "cell_type": "code",
   "execution_count": 2,
   "metadata": {},
   "outputs": [],
   "source": [
    "url = 'https://www.hockey-reference.com/leagues/NHL_2020_skaters.html'\n",
    "response = requests.get(url)\n",
    "soup = BeautifulSoup(response.text, 'lxml')"
   ]
  },
  {
   "cell_type": "code",
   "execution_count": 3,
   "metadata": {},
   "outputs": [],
   "source": [
    "data = []\n",
    "list_header = []"
   ]
  },
  {
   "cell_type": "code",
   "execution_count": 4,
   "metadata": {},
   "outputs": [],
   "source": [
    "results = soup.find('table', id='stats')"
   ]
  },
  {
   "cell_type": "code",
   "execution_count": 5,
   "metadata": {},
   "outputs": [
    {
     "output_type": "execute_result",
     "data": {
      "text/plain": "  Unnamed: 0_level_0 Unnamed: 1_level_0 Unnamed: 2_level_0 Unnamed: 3_level_0  \\\n                  Rk             Player                Age                 Tm   \n0                  1  Justin Abdelkader                 32                DET   \n1                  2       Pontus Aberg                 26                TOR   \n2                  3     Vitaly Abramov                 21                OTT   \n3                  4       Noel Acciari                 28                FLA   \n4                  5    Andrew Agozzino                 29                TOT   \n\n  Unnamed: 4_level_0 Unnamed: 5_level_0 Scoring        Unnamed: 9_level_0  \\\n                 Pos                 GP       G  A PTS                +/-   \n0                 LW                 49       0  3   3                -14   \n1                 LW                  5       0  1   1                  0   \n2                 RW                  2       1  0   1                  0   \n3                  C                 66      20  7  27                  2   \n4                 LW                 22       1  2   3                  3   \n\n   ... Assists Shot Data       Ice Time        Unnamed: 23_level_0  \\\n   ...      SH         S    S%      TOI   ATOI                 BLK   \n0  ...       0        40   0.0      565  11:32                  26   \n1  ...       0         4   0.0       44   8:42                   1   \n2  ...       0         3  33.3       12   5:47                   0   \n3  ...       0       108  18.5     1054  15:58                 103   \n4  ...       0        10  10.0      162   7:21                   7   \n\n  Unnamed: 24_level_0 Unnamed: 25_level_0 Unnamed: 26_level_0  \\\n                  HIT                 FOW                 FOL   \n0                 103                  38                  31   \n1                   1                   0                   0   \n2                   0                   0                   0   \n3                 121                 381                 414   \n4                  25                  38                  37   \n\n  Unnamed: 27_level_0  \n                  FO%  \n0                55.1  \n1                 NaN  \n2                 NaN  \n3                47.9  \n4                50.7  \n\n[5 rows x 28 columns]",
      "text/html": "<div>\n<style scoped>\n    .dataframe tbody tr th:only-of-type {\n        vertical-align: middle;\n    }\n\n    .dataframe tbody tr th {\n        vertical-align: top;\n    }\n\n    .dataframe thead tr th {\n        text-align: left;\n    }\n</style>\n<table border=\"1\" class=\"dataframe\">\n  <thead>\n    <tr>\n      <th></th>\n      <th>Unnamed: 0_level_0</th>\n      <th>Unnamed: 1_level_0</th>\n      <th>Unnamed: 2_level_0</th>\n      <th>Unnamed: 3_level_0</th>\n      <th>Unnamed: 4_level_0</th>\n      <th>Unnamed: 5_level_0</th>\n      <th colspan=\"3\" halign=\"left\">Scoring</th>\n      <th>Unnamed: 9_level_0</th>\n      <th>...</th>\n      <th>Assists</th>\n      <th colspan=\"2\" halign=\"left\">Shot Data</th>\n      <th colspan=\"2\" halign=\"left\">Ice Time</th>\n      <th>Unnamed: 23_level_0</th>\n      <th>Unnamed: 24_level_0</th>\n      <th>Unnamed: 25_level_0</th>\n      <th>Unnamed: 26_level_0</th>\n      <th>Unnamed: 27_level_0</th>\n    </tr>\n    <tr>\n      <th></th>\n      <th>Rk</th>\n      <th>Player</th>\n      <th>Age</th>\n      <th>Tm</th>\n      <th>Pos</th>\n      <th>GP</th>\n      <th>G</th>\n      <th>A</th>\n      <th>PTS</th>\n      <th>+/-</th>\n      <th>...</th>\n      <th>SH</th>\n      <th>S</th>\n      <th>S%</th>\n      <th>TOI</th>\n      <th>ATOI</th>\n      <th>BLK</th>\n      <th>HIT</th>\n      <th>FOW</th>\n      <th>FOL</th>\n      <th>FO%</th>\n    </tr>\n  </thead>\n  <tbody>\n    <tr>\n      <td>0</td>\n      <td>1</td>\n      <td>Justin Abdelkader</td>\n      <td>32</td>\n      <td>DET</td>\n      <td>LW</td>\n      <td>49</td>\n      <td>0</td>\n      <td>3</td>\n      <td>3</td>\n      <td>-14</td>\n      <td>...</td>\n      <td>0</td>\n      <td>40</td>\n      <td>0.0</td>\n      <td>565</td>\n      <td>11:32</td>\n      <td>26</td>\n      <td>103</td>\n      <td>38</td>\n      <td>31</td>\n      <td>55.1</td>\n    </tr>\n    <tr>\n      <td>1</td>\n      <td>2</td>\n      <td>Pontus Aberg</td>\n      <td>26</td>\n      <td>TOR</td>\n      <td>LW</td>\n      <td>5</td>\n      <td>0</td>\n      <td>1</td>\n      <td>1</td>\n      <td>0</td>\n      <td>...</td>\n      <td>0</td>\n      <td>4</td>\n      <td>0.0</td>\n      <td>44</td>\n      <td>8:42</td>\n      <td>1</td>\n      <td>1</td>\n      <td>0</td>\n      <td>0</td>\n      <td>NaN</td>\n    </tr>\n    <tr>\n      <td>2</td>\n      <td>3</td>\n      <td>Vitaly Abramov</td>\n      <td>21</td>\n      <td>OTT</td>\n      <td>RW</td>\n      <td>2</td>\n      <td>1</td>\n      <td>0</td>\n      <td>1</td>\n      <td>0</td>\n      <td>...</td>\n      <td>0</td>\n      <td>3</td>\n      <td>33.3</td>\n      <td>12</td>\n      <td>5:47</td>\n      <td>0</td>\n      <td>0</td>\n      <td>0</td>\n      <td>0</td>\n      <td>NaN</td>\n    </tr>\n    <tr>\n      <td>3</td>\n      <td>4</td>\n      <td>Noel Acciari</td>\n      <td>28</td>\n      <td>FLA</td>\n      <td>C</td>\n      <td>66</td>\n      <td>20</td>\n      <td>7</td>\n      <td>27</td>\n      <td>2</td>\n      <td>...</td>\n      <td>0</td>\n      <td>108</td>\n      <td>18.5</td>\n      <td>1054</td>\n      <td>15:58</td>\n      <td>103</td>\n      <td>121</td>\n      <td>381</td>\n      <td>414</td>\n      <td>47.9</td>\n    </tr>\n    <tr>\n      <td>4</td>\n      <td>5</td>\n      <td>Andrew Agozzino</td>\n      <td>29</td>\n      <td>TOT</td>\n      <td>LW</td>\n      <td>22</td>\n      <td>1</td>\n      <td>2</td>\n      <td>3</td>\n      <td>3</td>\n      <td>...</td>\n      <td>0</td>\n      <td>10</td>\n      <td>10.0</td>\n      <td>162</td>\n      <td>7:21</td>\n      <td>7</td>\n      <td>25</td>\n      <td>38</td>\n      <td>37</td>\n      <td>50.7</td>\n    </tr>\n  </tbody>\n</table>\n<p>5 rows × 28 columns</p>\n</div>"
     },
     "metadata": {},
     "execution_count": 5
    }
   ],
   "source": [
    "df = pd.read_html(str(results))\n",
    "df = df[0]\n",
    "df.head()"
   ]
  },
  {
   "cell_type": "code",
   "execution_count": 6,
   "metadata": {},
   "outputs": [
    {
     "output_type": "execute_result",
     "data": {
      "text/plain": "Index(['Rk', 'Player', 'Age', 'Tm', 'Pos', 'GP', 'G', 'A', 'PTS', '+/-', 'PIM',\n       'PS', 'EV', 'PP', 'SH', 'GW', 'EV', 'PP', 'SH', 'S', 'S%', 'TOI',\n       'ATOI', 'BLK', 'HIT', 'FOW', 'FOL', 'FO%'],\n      dtype='object')"
     },
     "metadata": {},
     "execution_count": 6
    }
   ],
   "source": [
    "df.columns = df.columns.droplevel()\n",
    "df.columns"
   ]
  },
  {
   "cell_type": "code",
   "execution_count": 7,
   "metadata": {},
   "outputs": [
    {
     "output_type": "execute_result",
     "data": {
      "text/plain": "  Rk             Player Age   Tm Pos  GP   G  A PTS  +/-  ... SH    S    S%  \\\n0  1  Justin Abdelkader  32  DET  LW  49   0  3   3  -14  ...  0   40   0.0   \n1  2       Pontus Aberg  26  TOR  LW   5   0  1   1    0  ...  0    4   0.0   \n2  3     Vitaly Abramov  21  OTT  RW   2   1  0   1    0  ...  0    3  33.3   \n3  4       Noel Acciari  28  FLA   C  66  20  7  27    2  ...  0  108  18.5   \n4  5    Andrew Agozzino  29  TOT  LW  22   1  2   3    3  ...  0   10  10.0   \n\n    TOI   ATOI  BLK  HIT  FOW  FOL   FO%  \n0   565  11:32   26  103   38   31  55.1  \n1    44   8:42    1    1    0    0   NaN  \n2    12   5:47    0    0    0    0   NaN  \n3  1054  15:58  103  121  381  414  47.9  \n4   162   7:21    7   25   38   37  50.7  \n\n[5 rows x 28 columns]",
      "text/html": "<div>\n<style scoped>\n    .dataframe tbody tr th:only-of-type {\n        vertical-align: middle;\n    }\n\n    .dataframe tbody tr th {\n        vertical-align: top;\n    }\n\n    .dataframe thead th {\n        text-align: right;\n    }\n</style>\n<table border=\"1\" class=\"dataframe\">\n  <thead>\n    <tr style=\"text-align: right;\">\n      <th></th>\n      <th>Rk</th>\n      <th>Player</th>\n      <th>Age</th>\n      <th>Tm</th>\n      <th>Pos</th>\n      <th>GP</th>\n      <th>G</th>\n      <th>A</th>\n      <th>PTS</th>\n      <th>+/-</th>\n      <th>...</th>\n      <th>SH</th>\n      <th>S</th>\n      <th>S%</th>\n      <th>TOI</th>\n      <th>ATOI</th>\n      <th>BLK</th>\n      <th>HIT</th>\n      <th>FOW</th>\n      <th>FOL</th>\n      <th>FO%</th>\n    </tr>\n  </thead>\n  <tbody>\n    <tr>\n      <td>0</td>\n      <td>1</td>\n      <td>Justin Abdelkader</td>\n      <td>32</td>\n      <td>DET</td>\n      <td>LW</td>\n      <td>49</td>\n      <td>0</td>\n      <td>3</td>\n      <td>3</td>\n      <td>-14</td>\n      <td>...</td>\n      <td>0</td>\n      <td>40</td>\n      <td>0.0</td>\n      <td>565</td>\n      <td>11:32</td>\n      <td>26</td>\n      <td>103</td>\n      <td>38</td>\n      <td>31</td>\n      <td>55.1</td>\n    </tr>\n    <tr>\n      <td>1</td>\n      <td>2</td>\n      <td>Pontus Aberg</td>\n      <td>26</td>\n      <td>TOR</td>\n      <td>LW</td>\n      <td>5</td>\n      <td>0</td>\n      <td>1</td>\n      <td>1</td>\n      <td>0</td>\n      <td>...</td>\n      <td>0</td>\n      <td>4</td>\n      <td>0.0</td>\n      <td>44</td>\n      <td>8:42</td>\n      <td>1</td>\n      <td>1</td>\n      <td>0</td>\n      <td>0</td>\n      <td>NaN</td>\n    </tr>\n    <tr>\n      <td>2</td>\n      <td>3</td>\n      <td>Vitaly Abramov</td>\n      <td>21</td>\n      <td>OTT</td>\n      <td>RW</td>\n      <td>2</td>\n      <td>1</td>\n      <td>0</td>\n      <td>1</td>\n      <td>0</td>\n      <td>...</td>\n      <td>0</td>\n      <td>3</td>\n      <td>33.3</td>\n      <td>12</td>\n      <td>5:47</td>\n      <td>0</td>\n      <td>0</td>\n      <td>0</td>\n      <td>0</td>\n      <td>NaN</td>\n    </tr>\n    <tr>\n      <td>3</td>\n      <td>4</td>\n      <td>Noel Acciari</td>\n      <td>28</td>\n      <td>FLA</td>\n      <td>C</td>\n      <td>66</td>\n      <td>20</td>\n      <td>7</td>\n      <td>27</td>\n      <td>2</td>\n      <td>...</td>\n      <td>0</td>\n      <td>108</td>\n      <td>18.5</td>\n      <td>1054</td>\n      <td>15:58</td>\n      <td>103</td>\n      <td>121</td>\n      <td>381</td>\n      <td>414</td>\n      <td>47.9</td>\n    </tr>\n    <tr>\n      <td>4</td>\n      <td>5</td>\n      <td>Andrew Agozzino</td>\n      <td>29</td>\n      <td>TOT</td>\n      <td>LW</td>\n      <td>22</td>\n      <td>1</td>\n      <td>2</td>\n      <td>3</td>\n      <td>3</td>\n      <td>...</td>\n      <td>0</td>\n      <td>10</td>\n      <td>10.0</td>\n      <td>162</td>\n      <td>7:21</td>\n      <td>7</td>\n      <td>25</td>\n      <td>38</td>\n      <td>37</td>\n      <td>50.7</td>\n    </tr>\n  </tbody>\n</table>\n<p>5 rows × 28 columns</p>\n</div>"
     },
     "metadata": {},
     "execution_count": 7
    }
   ],
   "source": [
    "df.head()"
   ]
  },
  {
   "cell_type": "code",
   "execution_count": 9,
   "metadata": {},
   "outputs": [],
   "source": [
    "df.columns = ['Rk', 'Player', 'Age', 'Tm', 'Pos', 'GP', 'G', 'A', 'PTS', '+/-', 'PIM',\n",
    "       'PS', 'EV_G', 'PP_G', 'SH_G', 'GW', 'EV_A', 'PP_A', 'SH_A', 'S', 'S%', 'TOI',\n",
    "       'ATOI', 'BLK', 'HIT', 'FOW', 'FOL', 'FO%']\n",
    "adjusted_df = df[df['Rk'] != 'Rk']"
   ]
  },
  {
   "cell_type": "code",
   "execution_count": 17,
   "metadata": {},
   "outputs": [],
   "source": [
    "adjusted_df.to_csv(\"../data/unclean2020.csv\")"
   ]
  },
  {
   "cell_type": "code",
   "execution_count": null,
   "metadata": {},
   "outputs": [],
   "source": []
  }
 ],
 "metadata": {
  "language_info": {
   "codemirror_mode": {
    "name": "ipython",
    "version": 3
   },
   "file_extension": ".py",
   "mimetype": "text/x-python",
   "name": "python",
   "nbconvert_exporter": "python",
   "pygments_lexer": "ipython3",
   "version": 3
  },
  "orig_nbformat": 2,
  "kernelspec": {
   "name": "python_defaultSpec_1594337977109",
   "display_name": "Python 3.7.4 64-bit ('Kyle': virtualenv)"
  }
 },
 "nbformat": 4,
 "nbformat_minor": 2
}
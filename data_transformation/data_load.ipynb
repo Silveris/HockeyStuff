{
 "cells": [
  {
   "cell_type": "code",
   "execution_count": 1,
   "metadata": {},
   "outputs": [],
   "source": [
    "import pandas as pd\n",
    "# import matplotlib.pyplot as plt\n",
    "import pymongo"
   ]
  },
  {
   "cell_type": "code",
   "execution_count": 2,
   "metadata": {},
   "outputs": [],
   "source": [
    "file = \"../data/clean_hockey_data.csv\"\n",
    "nhl_df = pd.read_csv(file)"
   ]
  },
  {
   "cell_type": "code",
   "execution_count": 3,
   "metadata": {},
   "outputs": [],
   "source": [
    "file2 = \"../data/clean2020.csv\"\n",
    "nhl2020_df = pd.read_csv(file2)"
   ]
  },
  {
   "cell_type": "code",
   "execution_count": 4,
   "metadata": {},
   "outputs": [
    {
     "output_type": "execute_result",
     "data": {
      "text/plain": "   Unnamed: 0  Rk             Player         ID  Age Pos   Tm    GP   G   A  \\\n0           0   1     Connor McDavid  mcdavco01   20   C  EDM  82.0  30  70   \n1           1   2      Sidney Crosby  crosbsi01   29   C  PIT  75.0  44  45   \n2           2   3       Patrick Kane   kanepa01   28  RW  CHI  82.0  34  55   \n3           3   4  Nicklas Backstrom  backsni02   29   C  WSH  82.0  23  63   \n4           4   5    Nikita Kucherov  kucheni01   23  RW  TBL  74.0  40  45   \n\n   ...  HART  Votes  Season   G/60min   A/60min  PTS/60min  HIT/60min  \\\n0  ...     1   1604    2017  1.038661  2.423543   3.462204   1.177149   \n1  ...     0   1104    2017  1.770624  1.810865   3.581489   3.219316   \n2  ...     0    206    2017  1.163056  1.881414   3.044470   0.957811   \n3  ...     0     60    2017  0.921844  2.525050   3.446894   1.803607   \n4  ...     0    119    2017  1.668985  1.877608   3.546592   1.251739   \n\n   BLK/60min  PIM/60min    S/60min  \n0   1.004039   0.900173   8.690133  \n1   1.086519   0.965795  10.261569  \n2   0.513113   1.094641   9.988597  \n3   1.322645   1.523046   6.492986  \n4   0.834492   1.585535  10.264256  \n\n[5 rows x 40 columns]",
      "text/html": "<div>\n<style scoped>\n    .dataframe tbody tr th:only-of-type {\n        vertical-align: middle;\n    }\n\n    .dataframe tbody tr th {\n        vertical-align: top;\n    }\n\n    .dataframe thead th {\n        text-align: right;\n    }\n</style>\n<table border=\"1\" class=\"dataframe\">\n  <thead>\n    <tr style=\"text-align: right;\">\n      <th></th>\n      <th>Unnamed: 0</th>\n      <th>Rk</th>\n      <th>Player</th>\n      <th>ID</th>\n      <th>Age</th>\n      <th>Pos</th>\n      <th>Tm</th>\n      <th>GP</th>\n      <th>G</th>\n      <th>A</th>\n      <th>...</th>\n      <th>HART</th>\n      <th>Votes</th>\n      <th>Season</th>\n      <th>G/60min</th>\n      <th>A/60min</th>\n      <th>PTS/60min</th>\n      <th>HIT/60min</th>\n      <th>BLK/60min</th>\n      <th>PIM/60min</th>\n      <th>S/60min</th>\n    </tr>\n  </thead>\n  <tbody>\n    <tr>\n      <td>0</td>\n      <td>0</td>\n      <td>1</td>\n      <td>Connor McDavid</td>\n      <td>mcdavco01</td>\n      <td>20</td>\n      <td>C</td>\n      <td>EDM</td>\n      <td>82.0</td>\n      <td>30</td>\n      <td>70</td>\n      <td>...</td>\n      <td>1</td>\n      <td>1604</td>\n      <td>2017</td>\n      <td>1.038661</td>\n      <td>2.423543</td>\n      <td>3.462204</td>\n      <td>1.177149</td>\n      <td>1.004039</td>\n      <td>0.900173</td>\n      <td>8.690133</td>\n    </tr>\n    <tr>\n      <td>1</td>\n      <td>1</td>\n      <td>2</td>\n      <td>Sidney Crosby</td>\n      <td>crosbsi01</td>\n      <td>29</td>\n      <td>C</td>\n      <td>PIT</td>\n      <td>75.0</td>\n      <td>44</td>\n      <td>45</td>\n      <td>...</td>\n      <td>0</td>\n      <td>1104</td>\n      <td>2017</td>\n      <td>1.770624</td>\n      <td>1.810865</td>\n      <td>3.581489</td>\n      <td>3.219316</td>\n      <td>1.086519</td>\n      <td>0.965795</td>\n      <td>10.261569</td>\n    </tr>\n    <tr>\n      <td>2</td>\n      <td>2</td>\n      <td>3</td>\n      <td>Patrick Kane</td>\n      <td>kanepa01</td>\n      <td>28</td>\n      <td>RW</td>\n      <td>CHI</td>\n      <td>82.0</td>\n      <td>34</td>\n      <td>55</td>\n      <td>...</td>\n      <td>0</td>\n      <td>206</td>\n      <td>2017</td>\n      <td>1.163056</td>\n      <td>1.881414</td>\n      <td>3.044470</td>\n      <td>0.957811</td>\n      <td>0.513113</td>\n      <td>1.094641</td>\n      <td>9.988597</td>\n    </tr>\n    <tr>\n      <td>3</td>\n      <td>3</td>\n      <td>4</td>\n      <td>Nicklas Backstrom</td>\n      <td>backsni02</td>\n      <td>29</td>\n      <td>C</td>\n      <td>WSH</td>\n      <td>82.0</td>\n      <td>23</td>\n      <td>63</td>\n      <td>...</td>\n      <td>0</td>\n      <td>60</td>\n      <td>2017</td>\n      <td>0.921844</td>\n      <td>2.525050</td>\n      <td>3.446894</td>\n      <td>1.803607</td>\n      <td>1.322645</td>\n      <td>1.523046</td>\n      <td>6.492986</td>\n    </tr>\n    <tr>\n      <td>4</td>\n      <td>4</td>\n      <td>5</td>\n      <td>Nikita Kucherov</td>\n      <td>kucheni01</td>\n      <td>23</td>\n      <td>RW</td>\n      <td>TBL</td>\n      <td>74.0</td>\n      <td>40</td>\n      <td>45</td>\n      <td>...</td>\n      <td>0</td>\n      <td>119</td>\n      <td>2017</td>\n      <td>1.668985</td>\n      <td>1.877608</td>\n      <td>3.546592</td>\n      <td>1.251739</td>\n      <td>0.834492</td>\n      <td>1.585535</td>\n      <td>10.264256</td>\n    </tr>\n  </tbody>\n</table>\n<p>5 rows × 40 columns</p>\n</div>"
     },
     "metadata": {},
     "execution_count": 4
    }
   ],
   "source": [
    "nhl_df.head()"
   ]
  },
  {
   "cell_type": "code",
   "execution_count": 5,
   "metadata": {},
   "outputs": [
    {
     "output_type": "execute_result",
     "data": {
      "text/plain": "   Unnamed: 0               Player  Age   Tm Pos  GP  G   A  PTS  +/-  ...  \\\n0           2         Nick Ritchie   24  ANA  LW  41  8  11   19    3  ...   \n1           5           Troy Terry   22  ANA   C  47  4  11   15   -5  ...   \n2           6  Nicolas Deslauriers   28  ANA  LW  59  7   6   13   -1  ...   \n3           7            Max Jones   21  ANA  LW  59  8   4   12   -6  ...   \n4           8          Max Comtois   21  ANA  LW  29  5   6   11   -4  ...   \n\n   SH_A    S    S%  TOI   ATOI  BLK  HIT  FOW  FOL   FO%  \n0     0   70  11.4  590  14:23   13   79    1    7  12.5  \n1     0   73   5.5  682  14:31    9    3    3    5  37.5  \n2     0   64  10.9  577   9:47   32  137    0    0   NaN  \n3     0  102   7.8  842  14:16   18   82   11   16  40.7  \n4     0   32  15.6  405  13:58    8   61    3   13  18.8  \n\n[5 rows x 28 columns]",
      "text/html": "<div>\n<style scoped>\n    .dataframe tbody tr th:only-of-type {\n        vertical-align: middle;\n    }\n\n    .dataframe tbody tr th {\n        vertical-align: top;\n    }\n\n    .dataframe thead th {\n        text-align: right;\n    }\n</style>\n<table border=\"1\" class=\"dataframe\">\n  <thead>\n    <tr style=\"text-align: right;\">\n      <th></th>\n      <th>Unnamed: 0</th>\n      <th>Player</th>\n      <th>Age</th>\n      <th>Tm</th>\n      <th>Pos</th>\n      <th>GP</th>\n      <th>G</th>\n      <th>A</th>\n      <th>PTS</th>\n      <th>+/-</th>\n      <th>...</th>\n      <th>SH_A</th>\n      <th>S</th>\n      <th>S%</th>\n      <th>TOI</th>\n      <th>ATOI</th>\n      <th>BLK</th>\n      <th>HIT</th>\n      <th>FOW</th>\n      <th>FOL</th>\n      <th>FO%</th>\n    </tr>\n  </thead>\n  <tbody>\n    <tr>\n      <td>0</td>\n      <td>2</td>\n      <td>Nick Ritchie</td>\n      <td>24</td>\n      <td>ANA</td>\n      <td>LW</td>\n      <td>41</td>\n      <td>8</td>\n      <td>11</td>\n      <td>19</td>\n      <td>3</td>\n      <td>...</td>\n      <td>0</td>\n      <td>70</td>\n      <td>11.4</td>\n      <td>590</td>\n      <td>14:23</td>\n      <td>13</td>\n      <td>79</td>\n      <td>1</td>\n      <td>7</td>\n      <td>12.5</td>\n    </tr>\n    <tr>\n      <td>1</td>\n      <td>5</td>\n      <td>Troy Terry</td>\n      <td>22</td>\n      <td>ANA</td>\n      <td>C</td>\n      <td>47</td>\n      <td>4</td>\n      <td>11</td>\n      <td>15</td>\n      <td>-5</td>\n      <td>...</td>\n      <td>0</td>\n      <td>73</td>\n      <td>5.5</td>\n      <td>682</td>\n      <td>14:31</td>\n      <td>9</td>\n      <td>3</td>\n      <td>3</td>\n      <td>5</td>\n      <td>37.5</td>\n    </tr>\n    <tr>\n      <td>2</td>\n      <td>6</td>\n      <td>Nicolas Deslauriers</td>\n      <td>28</td>\n      <td>ANA</td>\n      <td>LW</td>\n      <td>59</td>\n      <td>7</td>\n      <td>6</td>\n      <td>13</td>\n      <td>-1</td>\n      <td>...</td>\n      <td>0</td>\n      <td>64</td>\n      <td>10.9</td>\n      <td>577</td>\n      <td>9:47</td>\n      <td>32</td>\n      <td>137</td>\n      <td>0</td>\n      <td>0</td>\n      <td>NaN</td>\n    </tr>\n    <tr>\n      <td>3</td>\n      <td>7</td>\n      <td>Max Jones</td>\n      <td>21</td>\n      <td>ANA</td>\n      <td>LW</td>\n      <td>59</td>\n      <td>8</td>\n      <td>4</td>\n      <td>12</td>\n      <td>-6</td>\n      <td>...</td>\n      <td>0</td>\n      <td>102</td>\n      <td>7.8</td>\n      <td>842</td>\n      <td>14:16</td>\n      <td>18</td>\n      <td>82</td>\n      <td>11</td>\n      <td>16</td>\n      <td>40.7</td>\n    </tr>\n    <tr>\n      <td>4</td>\n      <td>8</td>\n      <td>Max Comtois</td>\n      <td>21</td>\n      <td>ANA</td>\n      <td>LW</td>\n      <td>29</td>\n      <td>5</td>\n      <td>6</td>\n      <td>11</td>\n      <td>-4</td>\n      <td>...</td>\n      <td>0</td>\n      <td>32</td>\n      <td>15.6</td>\n      <td>405</td>\n      <td>13:58</td>\n      <td>8</td>\n      <td>61</td>\n      <td>3</td>\n      <td>13</td>\n      <td>18.8</td>\n    </tr>\n  </tbody>\n</table>\n<p>5 rows × 28 columns</p>\n</div>"
     },
     "metadata": {},
     "execution_count": 5
    }
   ],
   "source": [
    "nhl2020_df.head()"
   ]
  },
  {
   "cell_type": "code",
   "execution_count": 6,
   "metadata": {},
   "outputs": [],
   "source": [
    "# Pass in a df and a category, and the function will produce a new df grouped by that category and displaying \n",
    "# the average (or median) of each category\n",
    "def groupby_avg(df, category):\n",
    "    # Groups the df by a category\n",
    "    temp_df = df.groupby([category])\n",
    "\n",
    "    # Calculates the average stats for each group\n",
    "    cat_group = temp_df[category].max()\n",
    "    avg_goals = temp_df[\"G/60min\"].mean()\n",
    "    avg_assists = temp_df[\"A/60min\"].mean()\n",
    "    avg_pts = temp_df[\"PTS/60min\"].mean()\n",
    "    avg_hits = temp_df[\"HIT/60min\"].mean()\n",
    "    avg_blocks = temp_df[\"BLK/60min\"].mean()\n",
    "    avg_s = temp_df[\"S/60min\"].mean()\n",
    "    avg_shootperc = temp_df[\"S_percent\"].mean()\n",
    "    avg_pim = temp_df[\"PIM/60min\"].mean()\n",
    "    med_pim = temp_df[\"PIM/60min\"].median()\n",
    "    count = temp_df[\"Player\"].count()\n",
    "\n",
    "    # Builds the new df\n",
    "    new_df = pd.DataFrame({\n",
    "        category: cat_group,\n",
    "        \"Avg G/60min\" : avg_goals,\n",
    "        \"Avg A/60min\" : avg_assists,\n",
    "        \"Avg PTS/60min\" : avg_pts,\n",
    "        \"Avg HIT/60min\" : avg_hits,\n",
    "        \"Avg BLK/60min\" : avg_blocks,\n",
    "        \"Avg S/60min\" : avg_s,\n",
    "        \"Avg S_percent\" : avg_shootperc,\n",
    "        \"Avg PIM/60min\" : avg_pim,\n",
    "        \"Med PIM/60min\" : med_pim,\n",
    "        \"Num Players\" : count\n",
    "    })\n",
    "    return new_df\n",
    "\n",
    "\n",
    "def groupby_median(df, category):\n",
    "    temp_df = df.groupby([category])\n",
    "\n",
    "    med_goals = temp_df[\"G/60min\"].median()\n",
    "    med_assists = temp_df[\"A/60min\"].median()\n",
    "    med_pts = temp_df[\"PTS/60min\"].median()\n",
    "    med_hits = temp_df[\"HIT/60min\"].median()\n",
    "    med_blocks = temp_df[\"BLK/60min\"].median()\n",
    "    med_shhotperc = temp_df[\"S_percent\"].median()\n",
    "    med_pim = temp_df[\"PIM/60min\"].median()\n",
    "    count = temp_df[\"Player\"].count()\n",
    "\n",
    "\n",
    "    new_df = pd.DataFrame({\n",
    "        \"Med G/60min\" : med_goals,\n",
    "        \"Med A/60min\" : med_assists,\n",
    "        \"Med PTS/60min\" : med_pts,\n",
    "        \"Med HIT/60min\" : med_hits,\n",
    "        \"Med BLK/60min\" : med_blocks,\n",
    "        \"Med PIM/60min\" : med_pim,\n",
    "        \"Num Players\" : count\n",
    "    })\n",
    "    return new_df"
   ]
  },
  {
   "cell_type": "code",
   "execution_count": 7,
   "metadata": {},
   "outputs": [],
   "source": [
    "# Df grouping by 2 categories\n",
    "def multi_groupby_med(df, category1, category2):\n",
    "    temp_df = df.groupby([category1, category2])\n",
    "\n",
    "    med_goals = temp_df[\"G/60min\"].median()\n",
    "    med_assists = temp_df[\"A/60min\"].median()\n",
    "    med_pts = temp_df[\"PTS/60min\"].median()\n",
    "    med_hits = temp_df[\"HIT/60min\"].median()\n",
    "    med_blocks = temp_df[\"BLK/60min\"].median()\n",
    "    med_pim = temp_df[\"PIM/60min\"].median()\n",
    "    count = temp_df[\"Age\"].count()\n",
    "\n",
    "    new_df = pd.DataFrame({\n",
    "        \"Med G/60min\" : med_goals,\n",
    "        \"Med A/60min\" : med_assists,\n",
    "        \"Med PTS/60min\" : med_pts,\n",
    "        \"Med HIT/60min\" : med_hits,\n",
    "        \"Med BLK/60min\" : med_blocks,\n",
    "        \"Med PIM/60min\" : med_pim,\n",
    "        \"Num Players\" : count\n",
    "    })\n",
    "    return new_df\n",
    "\n",
    "def multi_groupby_avg(df, category1, category2):\n",
    "    temp_df = df.groupby([category1, category2])\n",
    "\n",
    "    avg_goals = temp_df[\"G/60min\"].mean()\n",
    "    avg_assists = temp_df[\"A/60min\"].mean()\n",
    "    avg_pts = temp_df[\"PTS/60min\"].mean()\n",
    "    avg_hits = temp_df[\"HIT/60min\"].mean()\n",
    "    avg_blocks = temp_df[\"BLK/60min\"].mean()\n",
    "    avg_pim = temp_df[\"PIM/60min\"].mean()\n",
    "    med_pim = temp_df[\"PIM/60min\"].median()\n",
    "    avg_s = temp_df[\"S/60min\"].mean()\n",
    "    count = temp_df[\"Age\"].count()\n",
    "\n",
    "    new_df = pd.DataFrame({\n",
    "        \"Avg G/60min\" : avg_goals,\n",
    "        \"Avg A/60min\" : avg_assists,\n",
    "        \"Avg PTS/60min\" : avg_pts,\n",
    "        \"Avg HIT/60min\" : avg_hits,\n",
    "        \"Avg BLK/60min\" : avg_blocks,\n",
    "        \"Avg PIM/60min\" : avg_pim,\n",
    "        \"Med PIM/60min\" : med_pim,\n",
    "        \"Avg S/60min\" : avg_s,\n",
    "        \"Avg Players\" : count\n",
    "    })\n",
    "    return new_df"
   ]
  },
  {
   "cell_type": "code",
   "execution_count": 8,
   "metadata": {},
   "outputs": [],
   "source": [
    "def seasonyears_filter(df, years_list):\n",
    "    new_df = df[df.Season.isin(years_list)]\n",
    "    return new_df\n",
    "\n",
    "# Groups a df into 3 sets of 3 years\n",
    "def three_year_group(df):\n",
    "    years = [2004, 2005, 2006, 2009, 2010, 2011, 2016, 2017, 2018]\n",
    "    new_df = df[df.Season.isin(years)]\n",
    "\n",
    "    bins = [2004, 2006, 2011, 2018]\n",
    "    groups = [\"2004-06\", \"2009-11\", \"2016-18\"]\n",
    "    new_df[\"Season_group\"] = pd.cut(new_df[\"Season\"], bins, labels=groups, include_lowest=True)\n",
    "    # grouped_df = multi_groupby_avg(new_df, \"Age\", \"Season_group\")\n",
    "    return new_df"
   ]
  },
  {
   "cell_type": "code",
   "execution_count": null,
   "metadata": {},
   "outputs": [],
   "source": [
    "forwards_data = nhl_df[(nhl_df[\"Pos\"] != \"D\") & (nhl_df[\"Age\"] >= 20)]\n",
    "defensemen_data = nhl_df[(nhl_df[\"Pos\"] == \"D\") & (nhl_df[\"Age\"] >= 20)]"
   ]
  },
  {
   "cell_type": "markdown",
   "metadata": {},
   "source": [
    "# dfs to be moved to database"
   ]
  },
  {
   "cell_type": "code",
   "execution_count": 9,
   "metadata": {},
   "outputs": [
    {
     "output_type": "execute_result",
     "data": {
      "text/plain": "   Unnamed: 0  Rk             Player         ID  Age Pos   Tm    GP   G   A  \\\n0           0   1     Connor McDavid  mcdavco01   20   C  EDM  82.0  30  70   \n1           1   2      Sidney Crosby  crosbsi01   29   C  PIT  75.0  44  45   \n2           2   3       Patrick Kane   kanepa01   28  RW  CHI  82.0  34  55   \n3           3   4  Nicklas Backstrom  backsni02   29   C  WSH  82.0  23  63   \n4           4   5    Nikita Kucherov  kucheni01   23  RW  TBL  74.0  40  45   \n\n   ...  HART  Votes  Season   G/60min   A/60min  PTS/60min  HIT/60min  \\\n0  ...     1   1604    2017  1.038661  2.423543   3.462204   1.177149   \n1  ...     0   1104    2017  1.770624  1.810865   3.581489   3.219316   \n2  ...     0    206    2017  1.163056  1.881414   3.044470   0.957811   \n3  ...     0     60    2017  0.921844  2.525050   3.446894   1.803607   \n4  ...     0    119    2017  1.668985  1.877608   3.546592   1.251739   \n\n   BLK/60min  PIM/60min    S/60min  \n0   1.004039   0.900173   8.690133  \n1   1.086519   0.965795  10.261569  \n2   0.513113   1.094641   9.988597  \n3   1.322645   1.523046   6.492986  \n4   0.834492   1.585535  10.264256  \n\n[5 rows x 40 columns]",
      "text/html": "<div>\n<style scoped>\n    .dataframe tbody tr th:only-of-type {\n        vertical-align: middle;\n    }\n\n    .dataframe tbody tr th {\n        vertical-align: top;\n    }\n\n    .dataframe thead th {\n        text-align: right;\n    }\n</style>\n<table border=\"1\" class=\"dataframe\">\n  <thead>\n    <tr style=\"text-align: right;\">\n      <th></th>\n      <th>Unnamed: 0</th>\n      <th>Rk</th>\n      <th>Player</th>\n      <th>ID</th>\n      <th>Age</th>\n      <th>Pos</th>\n      <th>Tm</th>\n      <th>GP</th>\n      <th>G</th>\n      <th>A</th>\n      <th>...</th>\n      <th>HART</th>\n      <th>Votes</th>\n      <th>Season</th>\n      <th>G/60min</th>\n      <th>A/60min</th>\n      <th>PTS/60min</th>\n      <th>HIT/60min</th>\n      <th>BLK/60min</th>\n      <th>PIM/60min</th>\n      <th>S/60min</th>\n    </tr>\n  </thead>\n  <tbody>\n    <tr>\n      <td>0</td>\n      <td>0</td>\n      <td>1</td>\n      <td>Connor McDavid</td>\n      <td>mcdavco01</td>\n      <td>20</td>\n      <td>C</td>\n      <td>EDM</td>\n      <td>82.0</td>\n      <td>30</td>\n      <td>70</td>\n      <td>...</td>\n      <td>1</td>\n      <td>1604</td>\n      <td>2017</td>\n      <td>1.038661</td>\n      <td>2.423543</td>\n      <td>3.462204</td>\n      <td>1.177149</td>\n      <td>1.004039</td>\n      <td>0.900173</td>\n      <td>8.690133</td>\n    </tr>\n    <tr>\n      <td>1</td>\n      <td>1</td>\n      <td>2</td>\n      <td>Sidney Crosby</td>\n      <td>crosbsi01</td>\n      <td>29</td>\n      <td>C</td>\n      <td>PIT</td>\n      <td>75.0</td>\n      <td>44</td>\n      <td>45</td>\n      <td>...</td>\n      <td>0</td>\n      <td>1104</td>\n      <td>2017</td>\n      <td>1.770624</td>\n      <td>1.810865</td>\n      <td>3.581489</td>\n      <td>3.219316</td>\n      <td>1.086519</td>\n      <td>0.965795</td>\n      <td>10.261569</td>\n    </tr>\n    <tr>\n      <td>2</td>\n      <td>2</td>\n      <td>3</td>\n      <td>Patrick Kane</td>\n      <td>kanepa01</td>\n      <td>28</td>\n      <td>RW</td>\n      <td>CHI</td>\n      <td>82.0</td>\n      <td>34</td>\n      <td>55</td>\n      <td>...</td>\n      <td>0</td>\n      <td>206</td>\n      <td>2017</td>\n      <td>1.163056</td>\n      <td>1.881414</td>\n      <td>3.044470</td>\n      <td>0.957811</td>\n      <td>0.513113</td>\n      <td>1.094641</td>\n      <td>9.988597</td>\n    </tr>\n    <tr>\n      <td>3</td>\n      <td>3</td>\n      <td>4</td>\n      <td>Nicklas Backstrom</td>\n      <td>backsni02</td>\n      <td>29</td>\n      <td>C</td>\n      <td>WSH</td>\n      <td>82.0</td>\n      <td>23</td>\n      <td>63</td>\n      <td>...</td>\n      <td>0</td>\n      <td>60</td>\n      <td>2017</td>\n      <td>0.921844</td>\n      <td>2.525050</td>\n      <td>3.446894</td>\n      <td>1.803607</td>\n      <td>1.322645</td>\n      <td>1.523046</td>\n      <td>6.492986</td>\n    </tr>\n    <tr>\n      <td>4</td>\n      <td>4</td>\n      <td>5</td>\n      <td>Nikita Kucherov</td>\n      <td>kucheni01</td>\n      <td>23</td>\n      <td>RW</td>\n      <td>TBL</td>\n      <td>74.0</td>\n      <td>40</td>\n      <td>45</td>\n      <td>...</td>\n      <td>0</td>\n      <td>119</td>\n      <td>2017</td>\n      <td>1.668985</td>\n      <td>1.877608</td>\n      <td>3.546592</td>\n      <td>1.251739</td>\n      <td>0.834492</td>\n      <td>1.585535</td>\n      <td>10.264256</td>\n    </tr>\n  </tbody>\n</table>\n<p>5 rows × 40 columns</p>\n</div>"
     },
     "metadata": {},
     "execution_count": 9
    }
   ],
   "source": [
    "complete_nhl_df = nhl_df\n",
    "complete_nhl_df.head()"
   ]
  },
  {
   "cell_type": "code",
   "execution_count": 10,
   "metadata": {},
   "outputs": [
    {
     "output_type": "execute_result",
     "data": {
      "text/plain": "     Age  Avg G/60min  Avg A/60min  Avg PTS/60min  Avg HIT/60min  \\\nAge                                                                \n18    18     0.824067     1.148905       1.972972       2.490490   \n19    19     0.616434     1.000604       1.617038       3.519958   \n20    20     0.673296     0.995643       1.668939       3.063742   \n21    21     0.613062     0.951827       1.564889       3.575405   \n22    22     0.589820     0.928056       1.517876       3.951092   \n\n     Avg BLK/60min  Avg S/60min  Avg S_percent  Avg PIM/60min  Med PIM/60min  \\\nAge                                                                            \n18        1.401981     7.343056      10.941667       1.739567       1.191372   \n19        1.890612     6.572784       8.770732       1.736700       1.368243   \n20        1.597840     6.738494       9.348246       1.977292       1.416767   \n21        1.734297     6.527488       8.644836       2.310811       1.665270   \n22        1.929304     6.426348       8.447611       2.505728       1.701871   \n\n     Num Players  \nAge               \n18            24  \n19           123  \n20           228  \n21           426  \n22           565  ",
      "text/html": "<div>\n<style scoped>\n    .dataframe tbody tr th:only-of-type {\n        vertical-align: middle;\n    }\n\n    .dataframe tbody tr th {\n        vertical-align: top;\n    }\n\n    .dataframe thead th {\n        text-align: right;\n    }\n</style>\n<table border=\"1\" class=\"dataframe\">\n  <thead>\n    <tr style=\"text-align: right;\">\n      <th></th>\n      <th>Age</th>\n      <th>Avg G/60min</th>\n      <th>Avg A/60min</th>\n      <th>Avg PTS/60min</th>\n      <th>Avg HIT/60min</th>\n      <th>Avg BLK/60min</th>\n      <th>Avg S/60min</th>\n      <th>Avg S_percent</th>\n      <th>Avg PIM/60min</th>\n      <th>Med PIM/60min</th>\n      <th>Num Players</th>\n    </tr>\n    <tr>\n      <th>Age</th>\n      <th></th>\n      <th></th>\n      <th></th>\n      <th></th>\n      <th></th>\n      <th></th>\n      <th></th>\n      <th></th>\n      <th></th>\n      <th></th>\n      <th></th>\n    </tr>\n  </thead>\n  <tbody>\n    <tr>\n      <td>18</td>\n      <td>18</td>\n      <td>0.824067</td>\n      <td>1.148905</td>\n      <td>1.972972</td>\n      <td>2.490490</td>\n      <td>1.401981</td>\n      <td>7.343056</td>\n      <td>10.941667</td>\n      <td>1.739567</td>\n      <td>1.191372</td>\n      <td>24</td>\n    </tr>\n    <tr>\n      <td>19</td>\n      <td>19</td>\n      <td>0.616434</td>\n      <td>1.000604</td>\n      <td>1.617038</td>\n      <td>3.519958</td>\n      <td>1.890612</td>\n      <td>6.572784</td>\n      <td>8.770732</td>\n      <td>1.736700</td>\n      <td>1.368243</td>\n      <td>123</td>\n    </tr>\n    <tr>\n      <td>20</td>\n      <td>20</td>\n      <td>0.673296</td>\n      <td>0.995643</td>\n      <td>1.668939</td>\n      <td>3.063742</td>\n      <td>1.597840</td>\n      <td>6.738494</td>\n      <td>9.348246</td>\n      <td>1.977292</td>\n      <td>1.416767</td>\n      <td>228</td>\n    </tr>\n    <tr>\n      <td>21</td>\n      <td>21</td>\n      <td>0.613062</td>\n      <td>0.951827</td>\n      <td>1.564889</td>\n      <td>3.575405</td>\n      <td>1.734297</td>\n      <td>6.527488</td>\n      <td>8.644836</td>\n      <td>2.310811</td>\n      <td>1.665270</td>\n      <td>426</td>\n    </tr>\n    <tr>\n      <td>22</td>\n      <td>22</td>\n      <td>0.589820</td>\n      <td>0.928056</td>\n      <td>1.517876</td>\n      <td>3.951092</td>\n      <td>1.929304</td>\n      <td>6.426348</td>\n      <td>8.447611</td>\n      <td>2.505728</td>\n      <td>1.701871</td>\n      <td>565</td>\n    </tr>\n  </tbody>\n</table>\n</div>"
     },
     "metadata": {},
     "execution_count": 10
    }
   ],
   "source": [
    "# age_df = groupby_avg(forwards_data, \"Age\")\n",
    "age_df = groupby_avg(complete_nhl_df, \"Age\")\n",
    "age_df.head()"
   ]
  },
  {
   "cell_type": "code",
   "execution_count": null,
   "metadata": {},
   "outputs": [],
   "source": [
    "# d_age_df = groupby_avg(defensemen_data, \"Age\")\n",
    "# d_age_df.head()"
   ]
  },
  {
   "cell_type": "code",
   "execution_count": 11,
   "metadata": {},
   "outputs": [
    {
     "output_type": "execute_result",
     "data": {
      "text/plain": "        Season  Avg G/60min  Avg A/60min  Avg PTS/60min  Avg HIT/60min  \\\nSeason                                                                   \n2004      2004     0.514478     0.828224       1.342702       0.000000   \n2006      2006     0.609734     1.009904       1.619638       0.000000   \n2007      2007     0.576399     0.966838       1.543237       0.000000   \n2008      2008     0.534129     0.888737       1.422866       4.500742   \n2009      2009     0.569995     0.951735       1.521730       2.477101   \n\n        Avg BLK/60min  Avg S/60min  Avg S_percent  Avg PIM/60min  \\\nSeason                                                             \n2004         0.000000     5.705203       8.308504       4.328171   \n2006         0.000000     6.174615       8.911111       4.131063   \n2007         0.000000     6.090347       8.576645       3.631224   \n2008         2.339818     5.935895       8.137239       3.691121   \n2009         1.288872     6.098845       8.465959       3.611024   \n\n        Med PIM/60min  Num Players  \nSeason                              \n2004         2.272317          635  \n2006         2.882364          630  \n2007         2.395814          608  \n2008         2.148876          623  \n2009         2.240199         1225  ",
      "text/html": "<div>\n<style scoped>\n    .dataframe tbody tr th:only-of-type {\n        vertical-align: middle;\n    }\n\n    .dataframe tbody tr th {\n        vertical-align: top;\n    }\n\n    .dataframe thead th {\n        text-align: right;\n    }\n</style>\n<table border=\"1\" class=\"dataframe\">\n  <thead>\n    <tr style=\"text-align: right;\">\n      <th></th>\n      <th>Season</th>\n      <th>Avg G/60min</th>\n      <th>Avg A/60min</th>\n      <th>Avg PTS/60min</th>\n      <th>Avg HIT/60min</th>\n      <th>Avg BLK/60min</th>\n      <th>Avg S/60min</th>\n      <th>Avg S_percent</th>\n      <th>Avg PIM/60min</th>\n      <th>Med PIM/60min</th>\n      <th>Num Players</th>\n    </tr>\n    <tr>\n      <th>Season</th>\n      <th></th>\n      <th></th>\n      <th></th>\n      <th></th>\n      <th></th>\n      <th></th>\n      <th></th>\n      <th></th>\n      <th></th>\n      <th></th>\n      <th></th>\n    </tr>\n  </thead>\n  <tbody>\n    <tr>\n      <td>2004</td>\n      <td>2004</td>\n      <td>0.514478</td>\n      <td>0.828224</td>\n      <td>1.342702</td>\n      <td>0.000000</td>\n      <td>0.000000</td>\n      <td>5.705203</td>\n      <td>8.308504</td>\n      <td>4.328171</td>\n      <td>2.272317</td>\n      <td>635</td>\n    </tr>\n    <tr>\n      <td>2006</td>\n      <td>2006</td>\n      <td>0.609734</td>\n      <td>1.009904</td>\n      <td>1.619638</td>\n      <td>0.000000</td>\n      <td>0.000000</td>\n      <td>6.174615</td>\n      <td>8.911111</td>\n      <td>4.131063</td>\n      <td>2.882364</td>\n      <td>630</td>\n    </tr>\n    <tr>\n      <td>2007</td>\n      <td>2007</td>\n      <td>0.576399</td>\n      <td>0.966838</td>\n      <td>1.543237</td>\n      <td>0.000000</td>\n      <td>0.000000</td>\n      <td>6.090347</td>\n      <td>8.576645</td>\n      <td>3.631224</td>\n      <td>2.395814</td>\n      <td>608</td>\n    </tr>\n    <tr>\n      <td>2008</td>\n      <td>2008</td>\n      <td>0.534129</td>\n      <td>0.888737</td>\n      <td>1.422866</td>\n      <td>4.500742</td>\n      <td>2.339818</td>\n      <td>5.935895</td>\n      <td>8.137239</td>\n      <td>3.691121</td>\n      <td>2.148876</td>\n      <td>623</td>\n    </tr>\n    <tr>\n      <td>2009</td>\n      <td>2009</td>\n      <td>0.569995</td>\n      <td>0.951735</td>\n      <td>1.521730</td>\n      <td>2.477101</td>\n      <td>1.288872</td>\n      <td>6.098845</td>\n      <td>8.465959</td>\n      <td>3.611024</td>\n      <td>2.240199</td>\n      <td>1225</td>\n    </tr>\n  </tbody>\n</table>\n</div>"
     },
     "metadata": {},
     "execution_count": 11
    }
   ],
   "source": [
    "# season_df = groupby_avg(forwards_data, \"Season\")\n",
    "season_df = groupby_avg(complete_nhl_df, \"Season\")\n",
    "season_df.head()"
   ]
  },
  {
   "cell_type": "code",
   "execution_count": null,
   "metadata": {},
   "outputs": [],
   "source": [
    "# d_season_df = groupby_avg(defensemen_data, \"Season\")\n",
    "# d_season_df.head()"
   ]
  },
  {
   "cell_type": "code",
   "execution_count": 12,
   "metadata": {},
   "outputs": [
    {
     "output_type": "execute_result",
     "data": {
      "text/plain": "   Age Season_group  Avg G/60min  Avg A/60min  Avg PTS/60min  Avg HIT/60min  \\\n0   18      2004-06     0.883036     1.195262       2.078298       0.000000   \n1   18      2009-11     0.976715     0.915516       1.892232       3.255349   \n2   18      2016-18     0.737517     1.102058       1.839575       3.845750   \n3   19      2004-06     0.694262     0.948142       1.642404       0.000000   \n4   19      2009-11     0.536097     0.978881       1.514978       2.966969   \n\n   Avg BLK/60min  Avg PIM/60min  Med PIM/60min  Avg S/60min  Avg Players  \n0       0.000000       2.834081       2.766808     6.985746            4  \n1       1.585714       2.219968       1.997356     7.609746            6  \n2       2.887081       1.862130       1.904762     7.240534            3  \n3       0.000000       2.855172       3.200000     7.466544            7  \n4       1.969593       1.614716       1.368243     5.973797           35  ",
      "text/html": "<div>\n<style scoped>\n    .dataframe tbody tr th:only-of-type {\n        vertical-align: middle;\n    }\n\n    .dataframe tbody tr th {\n        vertical-align: top;\n    }\n\n    .dataframe thead th {\n        text-align: right;\n    }\n</style>\n<table border=\"1\" class=\"dataframe\">\n  <thead>\n    <tr style=\"text-align: right;\">\n      <th></th>\n      <th>Age</th>\n      <th>Season_group</th>\n      <th>Avg G/60min</th>\n      <th>Avg A/60min</th>\n      <th>Avg PTS/60min</th>\n      <th>Avg HIT/60min</th>\n      <th>Avg BLK/60min</th>\n      <th>Avg PIM/60min</th>\n      <th>Med PIM/60min</th>\n      <th>Avg S/60min</th>\n      <th>Avg Players</th>\n    </tr>\n  </thead>\n  <tbody>\n    <tr>\n      <td>0</td>\n      <td>18</td>\n      <td>2004-06</td>\n      <td>0.883036</td>\n      <td>1.195262</td>\n      <td>2.078298</td>\n      <td>0.000000</td>\n      <td>0.000000</td>\n      <td>2.834081</td>\n      <td>2.766808</td>\n      <td>6.985746</td>\n      <td>4</td>\n    </tr>\n    <tr>\n      <td>1</td>\n      <td>18</td>\n      <td>2009-11</td>\n      <td>0.976715</td>\n      <td>0.915516</td>\n      <td>1.892232</td>\n      <td>3.255349</td>\n      <td>1.585714</td>\n      <td>2.219968</td>\n      <td>1.997356</td>\n      <td>7.609746</td>\n      <td>6</td>\n    </tr>\n    <tr>\n      <td>2</td>\n      <td>18</td>\n      <td>2016-18</td>\n      <td>0.737517</td>\n      <td>1.102058</td>\n      <td>1.839575</td>\n      <td>3.845750</td>\n      <td>2.887081</td>\n      <td>1.862130</td>\n      <td>1.904762</td>\n      <td>7.240534</td>\n      <td>3</td>\n    </tr>\n    <tr>\n      <td>3</td>\n      <td>19</td>\n      <td>2004-06</td>\n      <td>0.694262</td>\n      <td>0.948142</td>\n      <td>1.642404</td>\n      <td>0.000000</td>\n      <td>0.000000</td>\n      <td>2.855172</td>\n      <td>3.200000</td>\n      <td>7.466544</td>\n      <td>7</td>\n    </tr>\n    <tr>\n      <td>4</td>\n      <td>19</td>\n      <td>2009-11</td>\n      <td>0.536097</td>\n      <td>0.978881</td>\n      <td>1.514978</td>\n      <td>2.966969</td>\n      <td>1.969593</td>\n      <td>1.614716</td>\n      <td>1.368243</td>\n      <td>5.973797</td>\n      <td>35</td>\n    </tr>\n  </tbody>\n</table>\n</div>"
     },
     "metadata": {},
     "execution_count": 12
    }
   ],
   "source": [
    "#new_df = three_year_group(forwards_data)\n",
    "new_df = three_year_group(complete_nhl_df)\n",
    "year_groups_df = multi_groupby_avg(new_df, \"Age\", \"Season_group\")\n",
    "year_groups_df.reset_index(inplace=True)\n",
    "year_groups_df.head()"
   ]
  },
  {
   "cell_type": "code",
   "execution_count": null,
   "metadata": {},
   "outputs": [],
   "source": [
    "# new_df = three_year_group(defensemen_data)\n",
    "# d_year_groups_df = multi_groupby_avg(new_df, \"Age\", \"Season_group\")\n",
    "# d_year_groups_df.reset_index(inplace=True)\n",
    "# d_year_groups_df.head()"
   ]
  },
  {
   "cell_type": "markdown",
   "metadata": {},
   "source": [
    "# Loading into MongoDB"
   ]
  },
  {
   "cell_type": "code",
   "execution_count": 13,
   "metadata": {},
   "outputs": [],
   "source": [
    "conn ='mongodb://localhost:27017' "
   ]
  },
  {
   "cell_type": "code",
   "execution_count": 14,
   "metadata": {},
   "outputs": [],
   "source": [
    "client = pymongo.MongoClient(conn)"
   ]
  },
  {
   "cell_type": "code",
   "execution_count": 15,
   "metadata": {},
   "outputs": [],
   "source": [
    "client.drop_database('nhl_db')"
   ]
  },
  {
   "cell_type": "code",
   "execution_count": 16,
   "metadata": {},
   "outputs": [],
   "source": [
    "db = client.nhl_db"
   ]
  },
  {
   "cell_type": "code",
   "execution_count": 17,
   "metadata": {},
   "outputs": [],
   "source": [
    "collection = db.nhl_player_data"
   ]
  },
  {
   "cell_type": "code",
   "execution_count": 18,
   "metadata": {},
   "outputs": [
    {
     "output_type": "execute_result",
     "data": {
      "text/plain": "Index(['Unnamed: 0', 'Rk', 'Player', 'ID', 'Age', 'Pos', 'Tm', 'GP', 'G', 'A',\n       'PTS', 'plusminus', 'PIM', 'PS', 'EVG', 'PPG', 'SHG', 'GW', 'EVA',\n       'PPA', 'SHA', 'S', 'S_percent', 'TOI', 'ATOI', 'BLK', 'HIT', 'FOW',\n       'FOL', 'FO_percent', 'HART', 'Votes', 'Season', 'G/60min', 'A/60min',\n       'PTS/60min', 'HIT/60min', 'BLK/60min', 'PIM/60min', 'S/60min'],\n      dtype='object')"
     },
     "metadata": {},
     "execution_count": 18
    }
   ],
   "source": [
    "complete_nhl_df.columns"
   ]
  },
  {
   "cell_type": "code",
   "execution_count": 19,
   "metadata": {},
   "outputs": [
    {
     "output_type": "execute_result",
     "data": {
      "text/plain": "<pymongo.results.InsertManyResult at 0x29bc7001208>"
     },
     "metadata": {},
     "execution_count": 19
    }
   ],
   "source": [
    "data = complete_nhl_df.to_dict(orient='records')\n",
    "collection.insert_many(data)"
   ]
  },
  {
   "cell_type": "code",
   "execution_count": 20,
   "metadata": {
    "tags": []
   },
   "outputs": [],
   "source": [
    "# nhl_col=db.nhl_player_data.find()\n",
    "# for col in nhl_col:\n",
    "#     print(col)"
   ]
  },
  {
   "cell_type": "code",
   "execution_count": 21,
   "metadata": {},
   "outputs": [],
   "source": [
    "collection2 = db.age_groups"
   ]
  },
  {
   "cell_type": "code",
   "execution_count": 22,
   "metadata": {},
   "outputs": [
    {
     "output_type": "execute_result",
     "data": {
      "text/plain": "<pymongo.results.InsertManyResult at 0x29bc490ed08>"
     },
     "metadata": {},
     "execution_count": 22
    }
   ],
   "source": [
    "data2 = age_df.to_dict(orient='records')\n",
    "collection2.insert_many(data2)"
   ]
  },
  {
   "cell_type": "code",
   "execution_count": 23,
   "metadata": {},
   "outputs": [],
   "source": [
    "collection3 = db.season_groups"
   ]
  },
  {
   "cell_type": "code",
   "execution_count": 24,
   "metadata": {},
   "outputs": [
    {
     "output_type": "execute_result",
     "data": {
      "text/plain": "<pymongo.results.InsertManyResult at 0x29bc6fb3188>"
     },
     "metadata": {},
     "execution_count": 24
    }
   ],
   "source": [
    "data3 = season_df.to_dict(orient='records')\n",
    "collection3.insert_many(data3)"
   ]
  },
  {
   "cell_type": "code",
   "execution_count": 25,
   "metadata": {},
   "outputs": [],
   "source": [
    "collection4 = db.age_season_groups"
   ]
  },
  {
   "cell_type": "code",
   "execution_count": 26,
   "metadata": {},
   "outputs": [
    {
     "output_type": "execute_result",
     "data": {
      "text/plain": "<pymongo.results.InsertManyResult at 0x29bc4244888>"
     },
     "metadata": {},
     "execution_count": 26
    }
   ],
   "source": [
    "data4 = year_groups_df.to_dict(orient='records')\n",
    "collection4.insert_many(data4)"
   ]
  },
  {
   "cell_type": "code",
   "execution_count": 27,
   "metadata": {},
   "outputs": [],
   "source": [
    "collection5 = db.nhl2020_players"
   ]
  },
  {
   "cell_type": "code",
   "execution_count": 28,
   "metadata": {},
   "outputs": [
    {
     "output_type": "execute_result",
     "data": {
      "text/plain": "<pymongo.results.InsertManyResult at 0x29bc42fea08>"
     },
     "metadata": {},
     "execution_count": 28
    }
   ],
   "source": [
    "data5 = nhl2020_df.to_dict(orient='records')\n",
    "collection5.insert_many(data5)"
   ]
  },
  {
   "cell_type": "code",
   "execution_count": 29,
   "metadata": {
    "tags": []
   },
   "outputs": [
    {
     "output_type": "stream",
     "name": "stdout",
     "text": "Complete\n"
    }
   ],
   "source": [
    "print(\"Complete\")"
   ]
  },
  {
   "cell_type": "code",
   "execution_count": null,
   "metadata": {},
   "outputs": [],
   "source": []
  }
 ],
 "metadata": {
  "language_info": {
   "codemirror_mode": {
    "name": "ipython",
    "version": 3
   },
   "file_extension": ".py",
   "mimetype": "text/x-python",
   "name": "python",
   "nbconvert_exporter": "python",
   "pygments_lexer": "ipython3",
   "version": "3.7.4-final"
  },
  "orig_nbformat": 2,
  "kernelspec": {
   "name": "python3",
   "display_name": "Python 3"
  }
 },
 "nbformat": 4,
 "nbformat_minor": 2
}
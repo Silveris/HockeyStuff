{
 "cells": [
  {
   "cell_type": "code",
   "execution_count": 1,
   "metadata": {},
   "outputs": [],
   "source": [
    "import pandas as pd\n",
    "# import matplotlib.pyplot as plt\n",
    "import pymongo"
   ]
  },
  {
   "cell_type": "code",
   "execution_count": 2,
   "metadata": {},
   "outputs": [],
   "source": [
    "file = \"../data/clean_hockey_data.csv\"\n",
    "nhl_df = pd.read_csv(file)"
   ]
  },
  {
   "cell_type": "code",
   "execution_count": 3,
   "metadata": {},
   "outputs": [],
   "source": [
    "file2 = \"../data/clean2020.csv\"\n",
    "nhl2020_df = pd.read_csv(file2)"
   ]
  },
  {
   "cell_type": "code",
   "execution_count": 4,
   "metadata": {},
   "outputs": [
    {
     "output_type": "execute_result",
     "data": {
      "text/plain": "   Unnamed: 0  Rk             Player         ID  Age Pos   Tm    GP   G   A  \\\n0           0   1     Connor McDavid  mcdavco01   20   C  EDM  82.0  30  70   \n1           1   2      Sidney Crosby  crosbsi01   29   C  PIT  75.0  44  45   \n2           2   3       Patrick Kane   kanepa01   28  RW  CHI  82.0  34  55   \n3           3   4  Nicklas Backstrom  backsni02   29   C  WSH  82.0  23  63   \n4           4   5    Nikita Kucherov  kucheni01   23  RW  TBL  74.0  40  45   \n\n   ...  HART  Votes  Season   G/60min   A/60min  PTS/60min  HIT/60min  \\\n0  ...     1   1604    2017  1.038661  2.423543   3.462204   1.177149   \n1  ...     0   1104    2017  1.770624  1.810865   3.581489   3.219316   \n2  ...     0    206    2017  1.163056  1.881414   3.044470   0.957811   \n3  ...     0     60    2017  0.921844  2.525050   3.446894   1.803607   \n4  ...     0    119    2017  1.668985  1.877608   3.546592   1.251739   \n\n   BLK/60min  PIM/60min    S/60min  \n0   1.004039   0.900173   8.690133  \n1   1.086519   0.965795  10.261569  \n2   0.513113   1.094641   9.988597  \n3   1.322645   1.523046   6.492986  \n4   0.834492   1.585535  10.264256  \n\n[5 rows x 40 columns]",
      "text/html": "<div>\n<style scoped>\n    .dataframe tbody tr th:only-of-type {\n        vertical-align: middle;\n    }\n\n    .dataframe tbody tr th {\n        vertical-align: top;\n    }\n\n    .dataframe thead th {\n        text-align: right;\n    }\n</style>\n<table border=\"1\" class=\"dataframe\">\n  <thead>\n    <tr style=\"text-align: right;\">\n      <th></th>\n      <th>Unnamed: 0</th>\n      <th>Rk</th>\n      <th>Player</th>\n      <th>ID</th>\n      <th>Age</th>\n      <th>Pos</th>\n      <th>Tm</th>\n      <th>GP</th>\n      <th>G</th>\n      <th>A</th>\n      <th>...</th>\n      <th>HART</th>\n      <th>Votes</th>\n      <th>Season</th>\n      <th>G/60min</th>\n      <th>A/60min</th>\n      <th>PTS/60min</th>\n      <th>HIT/60min</th>\n      <th>BLK/60min</th>\n      <th>PIM/60min</th>\n      <th>S/60min</th>\n    </tr>\n  </thead>\n  <tbody>\n    <tr>\n      <td>0</td>\n      <td>0</td>\n      <td>1</td>\n      <td>Connor McDavid</td>\n      <td>mcdavco01</td>\n      <td>20</td>\n      <td>C</td>\n      <td>EDM</td>\n      <td>82.0</td>\n      <td>30</td>\n      <td>70</td>\n      <td>...</td>\n      <td>1</td>\n      <td>1604</td>\n      <td>2017</td>\n      <td>1.038661</td>\n      <td>2.423543</td>\n      <td>3.462204</td>\n      <td>1.177149</td>\n      <td>1.004039</td>\n      <td>0.900173</td>\n      <td>8.690133</td>\n    </tr>\n    <tr>\n      <td>1</td>\n      <td>1</td>\n      <td>2</td>\n      <td>Sidney Crosby</td>\n      <td>crosbsi01</td>\n      <td>29</td>\n      <td>C</td>\n      <td>PIT</td>\n      <td>75.0</td>\n      <td>44</td>\n      <td>45</td>\n      <td>...</td>\n      <td>0</td>\n      <td>1104</td>\n      <td>2017</td>\n      <td>1.770624</td>\n      <td>1.810865</td>\n      <td>3.581489</td>\n      <td>3.219316</td>\n      <td>1.086519</td>\n      <td>0.965795</td>\n      <td>10.261569</td>\n    </tr>\n    <tr>\n      <td>2</td>\n      <td>2</td>\n      <td>3</td>\n      <td>Patrick Kane</td>\n      <td>kanepa01</td>\n      <td>28</td>\n      <td>RW</td>\n      <td>CHI</td>\n      <td>82.0</td>\n      <td>34</td>\n      <td>55</td>\n      <td>...</td>\n      <td>0</td>\n      <td>206</td>\n      <td>2017</td>\n      <td>1.163056</td>\n      <td>1.881414</td>\n      <td>3.044470</td>\n      <td>0.957811</td>\n      <td>0.513113</td>\n      <td>1.094641</td>\n      <td>9.988597</td>\n    </tr>\n    <tr>\n      <td>3</td>\n      <td>3</td>\n      <td>4</td>\n      <td>Nicklas Backstrom</td>\n      <td>backsni02</td>\n      <td>29</td>\n      <td>C</td>\n      <td>WSH</td>\n      <td>82.0</td>\n      <td>23</td>\n      <td>63</td>\n      <td>...</td>\n      <td>0</td>\n      <td>60</td>\n      <td>2017</td>\n      <td>0.921844</td>\n      <td>2.525050</td>\n      <td>3.446894</td>\n      <td>1.803607</td>\n      <td>1.322645</td>\n      <td>1.523046</td>\n      <td>6.492986</td>\n    </tr>\n    <tr>\n      <td>4</td>\n      <td>4</td>\n      <td>5</td>\n      <td>Nikita Kucherov</td>\n      <td>kucheni01</td>\n      <td>23</td>\n      <td>RW</td>\n      <td>TBL</td>\n      <td>74.0</td>\n      <td>40</td>\n      <td>45</td>\n      <td>...</td>\n      <td>0</td>\n      <td>119</td>\n      <td>2017</td>\n      <td>1.668985</td>\n      <td>1.877608</td>\n      <td>3.546592</td>\n      <td>1.251739</td>\n      <td>0.834492</td>\n      <td>1.585535</td>\n      <td>10.264256</td>\n    </tr>\n  </tbody>\n</table>\n<p>5 rows × 40 columns</p>\n</div>"
     },
     "metadata": {},
     "execution_count": 4
    }
   ],
   "source": [
    "nhl_df.head()"
   ]
  },
  {
   "cell_type": "code",
   "execution_count": 5,
   "metadata": {},
   "outputs": [
    {
     "output_type": "execute_result",
     "data": {
      "text/plain": "   Unnamed: 0               Player  Age   Tm Pos  GP  G   A  PTS  +/-  ...  \\\n0           2         Nick Ritchie   24  ANA  LW  41  8  11   19    3  ...   \n1           5           Troy Terry   22  ANA   C  47  4  11   15   -5  ...   \n2           6  Nicolas Deslauriers   28  ANA  LW  59  7   6   13   -1  ...   \n3           7            Max Jones   21  ANA  LW  59  8   4   12   -6  ...   \n4           8          Max Comtois   21  ANA  LW  29  5   6   11   -4  ...   \n\n   SH_A    S    S%  TOI   ATOI  BLK  HIT  FOW  FOL   FO%  \n0     0   70  11.4  590  14:23   13   79    1    7  12.5  \n1     0   73   5.5  682  14:31    9    3    3    5  37.5  \n2     0   64  10.9  577   9:47   32  137    0    0   NaN  \n3     0  102   7.8  842  14:16   18   82   11   16  40.7  \n4     0   32  15.6  405  13:58    8   61    3   13  18.8  \n\n[5 rows x 28 columns]",
      "text/html": "<div>\n<style scoped>\n    .dataframe tbody tr th:only-of-type {\n        vertical-align: middle;\n    }\n\n    .dataframe tbody tr th {\n        vertical-align: top;\n    }\n\n    .dataframe thead th {\n        text-align: right;\n    }\n</style>\n<table border=\"1\" class=\"dataframe\">\n  <thead>\n    <tr style=\"text-align: right;\">\n      <th></th>\n      <th>Unnamed: 0</th>\n      <th>Player</th>\n      <th>Age</th>\n      <th>Tm</th>\n      <th>Pos</th>\n      <th>GP</th>\n      <th>G</th>\n      <th>A</th>\n      <th>PTS</th>\n      <th>+/-</th>\n      <th>...</th>\n      <th>SH_A</th>\n      <th>S</th>\n      <th>S%</th>\n      <th>TOI</th>\n      <th>ATOI</th>\n      <th>BLK</th>\n      <th>HIT</th>\n      <th>FOW</th>\n      <th>FOL</th>\n      <th>FO%</th>\n    </tr>\n  </thead>\n  <tbody>\n    <tr>\n      <td>0</td>\n      <td>2</td>\n      <td>Nick Ritchie</td>\n      <td>24</td>\n      <td>ANA</td>\n      <td>LW</td>\n      <td>41</td>\n      <td>8</td>\n      <td>11</td>\n      <td>19</td>\n      <td>3</td>\n      <td>...</td>\n      <td>0</td>\n      <td>70</td>\n      <td>11.4</td>\n      <td>590</td>\n      <td>14:23</td>\n      <td>13</td>\n      <td>79</td>\n      <td>1</td>\n      <td>7</td>\n      <td>12.5</td>\n    </tr>\n    <tr>\n      <td>1</td>\n      <td>5</td>\n      <td>Troy Terry</td>\n      <td>22</td>\n      <td>ANA</td>\n      <td>C</td>\n      <td>47</td>\n      <td>4</td>\n      <td>11</td>\n      <td>15</td>\n      <td>-5</td>\n      <td>...</td>\n      <td>0</td>\n      <td>73</td>\n      <td>5.5</td>\n      <td>682</td>\n      <td>14:31</td>\n      <td>9</td>\n      <td>3</td>\n      <td>3</td>\n      <td>5</td>\n      <td>37.5</td>\n    </tr>\n    <tr>\n      <td>2</td>\n      <td>6</td>\n      <td>Nicolas Deslauriers</td>\n      <td>28</td>\n      <td>ANA</td>\n      <td>LW</td>\n      <td>59</td>\n      <td>7</td>\n      <td>6</td>\n      <td>13</td>\n      <td>-1</td>\n      <td>...</td>\n      <td>0</td>\n      <td>64</td>\n      <td>10.9</td>\n      <td>577</td>\n      <td>9:47</td>\n      <td>32</td>\n      <td>137</td>\n      <td>0</td>\n      <td>0</td>\n      <td>NaN</td>\n    </tr>\n    <tr>\n      <td>3</td>\n      <td>7</td>\n      <td>Max Jones</td>\n      <td>21</td>\n      <td>ANA</td>\n      <td>LW</td>\n      <td>59</td>\n      <td>8</td>\n      <td>4</td>\n      <td>12</td>\n      <td>-6</td>\n      <td>...</td>\n      <td>0</td>\n      <td>102</td>\n      <td>7.8</td>\n      <td>842</td>\n      <td>14:16</td>\n      <td>18</td>\n      <td>82</td>\n      <td>11</td>\n      <td>16</td>\n      <td>40.7</td>\n    </tr>\n    <tr>\n      <td>4</td>\n      <td>8</td>\n      <td>Max Comtois</td>\n      <td>21</td>\n      <td>ANA</td>\n      <td>LW</td>\n      <td>29</td>\n      <td>5</td>\n      <td>6</td>\n      <td>11</td>\n      <td>-4</td>\n      <td>...</td>\n      <td>0</td>\n      <td>32</td>\n      <td>15.6</td>\n      <td>405</td>\n      <td>13:58</td>\n      <td>8</td>\n      <td>61</td>\n      <td>3</td>\n      <td>13</td>\n      <td>18.8</td>\n    </tr>\n  </tbody>\n</table>\n<p>5 rows × 28 columns</p>\n</div>"
     },
     "metadata": {},
     "execution_count": 5
    }
   ],
   "source": [
    "nhl2020_df.head()"
   ]
  },
  {
   "cell_type": "code",
   "execution_count": 6,
   "metadata": {},
   "outputs": [],
   "source": [
    "# Pass in a df and a category, and the function will produce a new df grouped by that category and displaying \n",
    "# the average (or median) of each category\n",
    "def groupby_avg(df, category):\n",
    "    # Groups the df by a category\n",
    "    temp_df = df.groupby([category])\n",
    "\n",
    "    # Calculates the average stats for each group\n",
    "    cat_group = temp_df[category].max()\n",
    "    avg_goals = temp_df[\"G/60min\"].mean()\n",
    "    avg_assists = temp_df[\"A/60min\"].mean()\n",
    "    avg_pts = temp_df[\"PTS/60min\"].mean()\n",
    "    avg_hits = temp_df[\"HIT/60min\"].mean()\n",
    "    avg_blocks = temp_df[\"BLK/60min\"].mean()\n",
    "    avg_s = temp_df[\"S/60min\"].mean()\n",
    "    avg_shootperc = temp_df[\"S_percent\"].mean()\n",
    "    avg_pim = temp_df[\"PIM/60min\"].mean()\n",
    "    med_pim = temp_df[\"PIM/60min\"].median()\n",
    "    count = temp_df[\"Player\"].count()\n",
    "\n",
    "    # Builds the new df\n",
    "    new_df = pd.DataFrame({\n",
    "        category: cat_group,\n",
    "        \"Avg G/60min\" : avg_goals,\n",
    "        \"Avg A/60min\" : avg_assists,\n",
    "        \"Avg PTS/60min\" : avg_pts,\n",
    "        \"Avg HIT/60min\" : avg_hits,\n",
    "        \"Avg BLK/60min\" : avg_blocks,\n",
    "        \"Avg S/60min\" : avg_s,\n",
    "        \"Avg S_percent\" : avg_shootperc,\n",
    "        \"Avg PIM/60min\" : avg_pim,\n",
    "        \"Med PIM/60min\" : med_pim,\n",
    "        \"Num Players\" : count\n",
    "    })\n",
    "    return new_df\n",
    "\n",
    "\n",
    "def groupby_median(df, category):\n",
    "    temp_df = df.groupby([category])\n",
    "\n",
    "    med_goals = temp_df[\"G/60min\"].median()\n",
    "    med_assists = temp_df[\"A/60min\"].median()\n",
    "    med_pts = temp_df[\"PTS/60min\"].median()\n",
    "    med_hits = temp_df[\"HIT/60min\"].median()\n",
    "    med_blocks = temp_df[\"BLK/60min\"].median()\n",
    "    med_shhotperc = temp_df[\"S_percent\"].median()\n",
    "    med_pim = temp_df[\"PIM/60min\"].median()\n",
    "    count = temp_df[\"Player\"].count()\n",
    "\n",
    "\n",
    "    new_df = pd.DataFrame({\n",
    "        \"Med G/60min\" : med_goals,\n",
    "        \"Med A/60min\" : med_assists,\n",
    "        \"Med PTS/60min\" : med_pts,\n",
    "        \"Med HIT/60min\" : med_hits,\n",
    "        \"Med BLK/60min\" : med_blocks,\n",
    "        \"Med PIM/60min\" : med_pim,\n",
    "        \"Num Players\" : count\n",
    "    })\n",
    "    return new_df"
   ]
  },
  {
   "cell_type": "code",
   "execution_count": 7,
   "metadata": {},
   "outputs": [],
   "source": [
    "# Df grouping by 2 categories\n",
    "def multi_groupby_med(df, category1, category2):\n",
    "    temp_df = df.groupby([category1, category2])\n",
    "\n",
    "    med_goals = temp_df[\"G/60min\"].median()\n",
    "    med_assists = temp_df[\"A/60min\"].median()\n",
    "    med_pts = temp_df[\"PTS/60min\"].median()\n",
    "    med_hits = temp_df[\"HIT/60min\"].median()\n",
    "    med_blocks = temp_df[\"BLK/60min\"].median()\n",
    "    med_pim = temp_df[\"PIM/60min\"].median()\n",
    "    count = temp_df[\"Age\"].count()\n",
    "\n",
    "    new_df = pd.DataFrame({\n",
    "        \"Med G/60min\" : med_goals,\n",
    "        \"Med A/60min\" : med_assists,\n",
    "        \"Med PTS/60min\" : med_pts,\n",
    "        \"Med HIT/60min\" : med_hits,\n",
    "        \"Med BLK/60min\" : med_blocks,\n",
    "        \"Med PIM/60min\" : med_pim,\n",
    "        \"Num Players\" : count\n",
    "    })\n",
    "    return new_df\n",
    "\n",
    "def multi_groupby_avg(df, category1, category2):\n",
    "    temp_df = df.groupby([category1, category2])\n",
    "\n",
    "    avg_goals = temp_df[\"G/60min\"].mean()\n",
    "    avg_assists = temp_df[\"A/60min\"].mean()\n",
    "    avg_pts = temp_df[\"PTS/60min\"].mean()\n",
    "    avg_hits = temp_df[\"HIT/60min\"].mean()\n",
    "    avg_blocks = temp_df[\"BLK/60min\"].mean()\n",
    "    avg_pim = temp_df[\"PIM/60min\"].mean()\n",
    "    med_pim = temp_df[\"PIM/60min\"].median()\n",
    "    avg_s = temp_df[\"S/60min\"].mean()\n",
    "    count = temp_df[\"Age\"].count()\n",
    "\n",
    "    new_df = pd.DataFrame({\n",
    "        \"Avg G/60min\" : avg_goals,\n",
    "        \"Avg A/60min\" : avg_assists,\n",
    "        \"Avg PTS/60min\" : avg_pts,\n",
    "        \"Avg HIT/60min\" : avg_hits,\n",
    "        \"Avg BLK/60min\" : avg_blocks,\n",
    "        \"Avg PIM/60min\" : avg_pim,\n",
    "        \"Med PIM/60min\" : med_pim,\n",
    "        \"Avg S/60min\" : avg_s,\n",
    "        \"Avg Players\" : count\n",
    "    })\n",
    "    return new_df"
   ]
  },
  {
   "cell_type": "code",
   "execution_count": 8,
   "metadata": {},
   "outputs": [],
   "source": [
    "def seasonyears_filter(df, years_list):\n",
    "    new_df = df[df.Season.isin(years_list)]\n",
    "    return new_df\n",
    "\n",
    "# Groups a df into 3 sets of 3 years\n",
    "def three_year_group(df):\n",
    "    years = [2004, 2005, 2006, 2009, 2010, 2011, 2016, 2017, 2018]\n",
    "    new_df = df[df.Season.isin(years)]\n",
    "\n",
    "    bins = [2004, 2006, 2011, 2018]\n",
    "    groups = [\"2004-06\", \"2009-11\", \"2016-18\"]\n",
    "    new_df[\"Season_group\"] = pd.cut(new_df[\"Season\"], bins, labels=groups, include_lowest=True)\n",
    "    # grouped_df = multi_groupby_avg(new_df, \"Age\", \"Season_group\")\n",
    "    return new_df"
   ]
  },
  {
   "cell_type": "code",
   "execution_count": 9,
   "metadata": {},
   "outputs": [],
   "source": [
    "forwards_data = nhl_df[(nhl_df[\"Pos\"] != \"D\") & (nhl_df[\"Age\"] >= 20)]\n",
    "defensemen_data = nhl_df[(nhl_df[\"Pos\"] == \"D\") & (nhl_df[\"Age\"] >= 20)]"
   ]
  },
  {
   "cell_type": "markdown",
   "metadata": {},
   "source": [
    "# dfs to be moved to database"
   ]
  },
  {
   "cell_type": "code",
   "execution_count": 10,
   "metadata": {},
   "outputs": [
    {
     "output_type": "execute_result",
     "data": {
      "text/plain": "   Unnamed: 0  Rk             Player         ID  Age Pos   Tm    GP   G   A  \\\n0           0   1     Connor McDavid  mcdavco01   20   C  EDM  82.0  30  70   \n1           1   2      Sidney Crosby  crosbsi01   29   C  PIT  75.0  44  45   \n2           2   3       Patrick Kane   kanepa01   28  RW  CHI  82.0  34  55   \n3           3   4  Nicklas Backstrom  backsni02   29   C  WSH  82.0  23  63   \n4           4   5    Nikita Kucherov  kucheni01   23  RW  TBL  74.0  40  45   \n\n   ...  HART  Votes  Season   G/60min   A/60min  PTS/60min  HIT/60min  \\\n0  ...     1   1604    2017  1.038661  2.423543   3.462204   1.177149   \n1  ...     0   1104    2017  1.770624  1.810865   3.581489   3.219316   \n2  ...     0    206    2017  1.163056  1.881414   3.044470   0.957811   \n3  ...     0     60    2017  0.921844  2.525050   3.446894   1.803607   \n4  ...     0    119    2017  1.668985  1.877608   3.546592   1.251739   \n\n   BLK/60min  PIM/60min    S/60min  \n0   1.004039   0.900173   8.690133  \n1   1.086519   0.965795  10.261569  \n2   0.513113   1.094641   9.988597  \n3   1.322645   1.523046   6.492986  \n4   0.834492   1.585535  10.264256  \n\n[5 rows x 40 columns]",
      "text/html": "<div>\n<style scoped>\n    .dataframe tbody tr th:only-of-type {\n        vertical-align: middle;\n    }\n\n    .dataframe tbody tr th {\n        vertical-align: top;\n    }\n\n    .dataframe thead th {\n        text-align: right;\n    }\n</style>\n<table border=\"1\" class=\"dataframe\">\n  <thead>\n    <tr style=\"text-align: right;\">\n      <th></th>\n      <th>Unnamed: 0</th>\n      <th>Rk</th>\n      <th>Player</th>\n      <th>ID</th>\n      <th>Age</th>\n      <th>Pos</th>\n      <th>Tm</th>\n      <th>GP</th>\n      <th>G</th>\n      <th>A</th>\n      <th>...</th>\n      <th>HART</th>\n      <th>Votes</th>\n      <th>Season</th>\n      <th>G/60min</th>\n      <th>A/60min</th>\n      <th>PTS/60min</th>\n      <th>HIT/60min</th>\n      <th>BLK/60min</th>\n      <th>PIM/60min</th>\n      <th>S/60min</th>\n    </tr>\n  </thead>\n  <tbody>\n    <tr>\n      <td>0</td>\n      <td>0</td>\n      <td>1</td>\n      <td>Connor McDavid</td>\n      <td>mcdavco01</td>\n      <td>20</td>\n      <td>C</td>\n      <td>EDM</td>\n      <td>82.0</td>\n      <td>30</td>\n      <td>70</td>\n      <td>...</td>\n      <td>1</td>\n      <td>1604</td>\n      <td>2017</td>\n      <td>1.038661</td>\n      <td>2.423543</td>\n      <td>3.462204</td>\n      <td>1.177149</td>\n      <td>1.004039</td>\n      <td>0.900173</td>\n      <td>8.690133</td>\n    </tr>\n    <tr>\n      <td>1</td>\n      <td>1</td>\n      <td>2</td>\n      <td>Sidney Crosby</td>\n      <td>crosbsi01</td>\n      <td>29</td>\n      <td>C</td>\n      <td>PIT</td>\n      <td>75.0</td>\n      <td>44</td>\n      <td>45</td>\n      <td>...</td>\n      <td>0</td>\n      <td>1104</td>\n      <td>2017</td>\n      <td>1.770624</td>\n      <td>1.810865</td>\n      <td>3.581489</td>\n      <td>3.219316</td>\n      <td>1.086519</td>\n      <td>0.965795</td>\n      <td>10.261569</td>\n    </tr>\n    <tr>\n      <td>2</td>\n      <td>2</td>\n      <td>3</td>\n      <td>Patrick Kane</td>\n      <td>kanepa01</td>\n      <td>28</td>\n      <td>RW</td>\n      <td>CHI</td>\n      <td>82.0</td>\n      <td>34</td>\n      <td>55</td>\n      <td>...</td>\n      <td>0</td>\n      <td>206</td>\n      <td>2017</td>\n      <td>1.163056</td>\n      <td>1.881414</td>\n      <td>3.044470</td>\n      <td>0.957811</td>\n      <td>0.513113</td>\n      <td>1.094641</td>\n      <td>9.988597</td>\n    </tr>\n    <tr>\n      <td>3</td>\n      <td>3</td>\n      <td>4</td>\n      <td>Nicklas Backstrom</td>\n      <td>backsni02</td>\n      <td>29</td>\n      <td>C</td>\n      <td>WSH</td>\n      <td>82.0</td>\n      <td>23</td>\n      <td>63</td>\n      <td>...</td>\n      <td>0</td>\n      <td>60</td>\n      <td>2017</td>\n      <td>0.921844</td>\n      <td>2.525050</td>\n      <td>3.446894</td>\n      <td>1.803607</td>\n      <td>1.322645</td>\n      <td>1.523046</td>\n      <td>6.492986</td>\n    </tr>\n    <tr>\n      <td>4</td>\n      <td>4</td>\n      <td>5</td>\n      <td>Nikita Kucherov</td>\n      <td>kucheni01</td>\n      <td>23</td>\n      <td>RW</td>\n      <td>TBL</td>\n      <td>74.0</td>\n      <td>40</td>\n      <td>45</td>\n      <td>...</td>\n      <td>0</td>\n      <td>119</td>\n      <td>2017</td>\n      <td>1.668985</td>\n      <td>1.877608</td>\n      <td>3.546592</td>\n      <td>1.251739</td>\n      <td>0.834492</td>\n      <td>1.585535</td>\n      <td>10.264256</td>\n    </tr>\n  </tbody>\n</table>\n<p>5 rows × 40 columns</p>\n</div>"
     },
     "metadata": {},
     "execution_count": 10
    }
   ],
   "source": [
    "complete_nhl_df = nhl_df\n",
    "complete_nhl_df.head()"
   ]
  },
  {
   "cell_type": "code",
   "execution_count": 11,
   "metadata": {},
   "outputs": [
    {
     "output_type": "execute_result",
     "data": {
      "text/plain": "     Age  Avg G/60min  Avg A/60min  Avg PTS/60min  Avg HIT/60min  \\\nAge                                                                \n20    20     0.840733     1.127471       1.968204       3.260776   \n21    21     0.777082     1.053516       1.830598       3.890954   \n22    22     0.785635     1.040312       1.825947       4.229377   \n23    23     0.757673     0.997122       1.754795       3.878317   \n24    24     0.752985     0.954510       1.707494       4.645364   \n\n     Avg BLK/60min  Avg S/60min  Avg S_percent  Avg PIM/60min  Med PIM/60min  \\\nAge                                                                            \n20        1.231604     7.634152      11.013855       2.001279       1.399642   \n21        1.260016     7.447861      10.213621       2.561668       1.728000   \n22        1.326418     7.483212      10.483422       2.724527       1.652640   \n23        1.287825     7.346227      10.303113       3.172917       1.882780   \n24        1.440101     7.339764      10.121780       3.613162       1.884296   \n\n     Num Players  \nAge               \n20           166  \n21           301  \n22           374  \n23           514  \n24           528  ",
      "text/html": "<div>\n<style scoped>\n    .dataframe tbody tr th:only-of-type {\n        vertical-align: middle;\n    }\n\n    .dataframe tbody tr th {\n        vertical-align: top;\n    }\n\n    .dataframe thead th {\n        text-align: right;\n    }\n</style>\n<table border=\"1\" class=\"dataframe\">\n  <thead>\n    <tr style=\"text-align: right;\">\n      <th></th>\n      <th>Age</th>\n      <th>Avg G/60min</th>\n      <th>Avg A/60min</th>\n      <th>Avg PTS/60min</th>\n      <th>Avg HIT/60min</th>\n      <th>Avg BLK/60min</th>\n      <th>Avg S/60min</th>\n      <th>Avg S_percent</th>\n      <th>Avg PIM/60min</th>\n      <th>Med PIM/60min</th>\n      <th>Num Players</th>\n    </tr>\n    <tr>\n      <th>Age</th>\n      <th></th>\n      <th></th>\n      <th></th>\n      <th></th>\n      <th></th>\n      <th></th>\n      <th></th>\n      <th></th>\n      <th></th>\n      <th></th>\n      <th></th>\n    </tr>\n  </thead>\n  <tbody>\n    <tr>\n      <td>20</td>\n      <td>20</td>\n      <td>0.840733</td>\n      <td>1.127471</td>\n      <td>1.968204</td>\n      <td>3.260776</td>\n      <td>1.231604</td>\n      <td>7.634152</td>\n      <td>11.013855</td>\n      <td>2.001279</td>\n      <td>1.399642</td>\n      <td>166</td>\n    </tr>\n    <tr>\n      <td>21</td>\n      <td>21</td>\n      <td>0.777082</td>\n      <td>1.053516</td>\n      <td>1.830598</td>\n      <td>3.890954</td>\n      <td>1.260016</td>\n      <td>7.447861</td>\n      <td>10.213621</td>\n      <td>2.561668</td>\n      <td>1.728000</td>\n      <td>301</td>\n    </tr>\n    <tr>\n      <td>22</td>\n      <td>22</td>\n      <td>0.785635</td>\n      <td>1.040312</td>\n      <td>1.825947</td>\n      <td>4.229377</td>\n      <td>1.326418</td>\n      <td>7.483212</td>\n      <td>10.483422</td>\n      <td>2.724527</td>\n      <td>1.652640</td>\n      <td>374</td>\n    </tr>\n    <tr>\n      <td>23</td>\n      <td>23</td>\n      <td>0.757673</td>\n      <td>0.997122</td>\n      <td>1.754795</td>\n      <td>3.878317</td>\n      <td>1.287825</td>\n      <td>7.346227</td>\n      <td>10.303113</td>\n      <td>3.172917</td>\n      <td>1.882780</td>\n      <td>514</td>\n    </tr>\n    <tr>\n      <td>24</td>\n      <td>24</td>\n      <td>0.752985</td>\n      <td>0.954510</td>\n      <td>1.707494</td>\n      <td>4.645364</td>\n      <td>1.440101</td>\n      <td>7.339764</td>\n      <td>10.121780</td>\n      <td>3.613162</td>\n      <td>1.884296</td>\n      <td>528</td>\n    </tr>\n  </tbody>\n</table>\n</div>"
     },
     "metadata": {},
     "execution_count": 11
    }
   ],
   "source": [
    "f_age_df = groupby_avg(forwards_data, \"Age\")\n",
    "# age_df = groupby_avg(complete_nhl_df, \"Age\")\n",
    "f_age_df.head()"
   ]
  },
  {
   "cell_type": "code",
   "execution_count": 12,
   "metadata": {},
   "outputs": [
    {
     "output_type": "execute_result",
     "data": {
      "text/plain": "     Age  Avg G/60min  Avg A/60min  Avg PTS/60min  Avg HIT/60min  \\\nAge                                                                \n20    20     0.224997     0.642685       0.867683       2.536200   \n21    21     0.218103     0.706959       0.925062       2.815564   \n22    22     0.206391     0.708246       0.914637       3.406178   \n23    23     0.213710     0.704615       0.918326       3.237406   \n24    24     0.201712     0.681077       0.882788       3.634415   \n\n     Avg BLK/60min  Avg S/60min  Avg S_percent  Avg PIM/60min  Med PIM/60min  \\\nAge                                                                            \n20        2.578409     4.340440       4.888710       1.913071       1.498987   \n21        2.876368     4.311231       4.867200       1.706745       1.558442   \n22        3.109825     4.356887       4.461257       2.077295       1.722488   \n23        2.977277     4.212295       4.871324       2.284778       1.860890   \n24        3.487691     4.195409       4.649042       2.168885       1.747573   \n\n     Num Players  \nAge               \n20            62  \n21           125  \n22           191  \n23           272  \n24           261  ",
      "text/html": "<div>\n<style scoped>\n    .dataframe tbody tr th:only-of-type {\n        vertical-align: middle;\n    }\n\n    .dataframe tbody tr th {\n        vertical-align: top;\n    }\n\n    .dataframe thead th {\n        text-align: right;\n    }\n</style>\n<table border=\"1\" class=\"dataframe\">\n  <thead>\n    <tr style=\"text-align: right;\">\n      <th></th>\n      <th>Age</th>\n      <th>Avg G/60min</th>\n      <th>Avg A/60min</th>\n      <th>Avg PTS/60min</th>\n      <th>Avg HIT/60min</th>\n      <th>Avg BLK/60min</th>\n      <th>Avg S/60min</th>\n      <th>Avg S_percent</th>\n      <th>Avg PIM/60min</th>\n      <th>Med PIM/60min</th>\n      <th>Num Players</th>\n    </tr>\n    <tr>\n      <th>Age</th>\n      <th></th>\n      <th></th>\n      <th></th>\n      <th></th>\n      <th></th>\n      <th></th>\n      <th></th>\n      <th></th>\n      <th></th>\n      <th></th>\n      <th></th>\n    </tr>\n  </thead>\n  <tbody>\n    <tr>\n      <td>20</td>\n      <td>20</td>\n      <td>0.224997</td>\n      <td>0.642685</td>\n      <td>0.867683</td>\n      <td>2.536200</td>\n      <td>2.578409</td>\n      <td>4.340440</td>\n      <td>4.888710</td>\n      <td>1.913071</td>\n      <td>1.498987</td>\n      <td>62</td>\n    </tr>\n    <tr>\n      <td>21</td>\n      <td>21</td>\n      <td>0.218103</td>\n      <td>0.706959</td>\n      <td>0.925062</td>\n      <td>2.815564</td>\n      <td>2.876368</td>\n      <td>4.311231</td>\n      <td>4.867200</td>\n      <td>1.706745</td>\n      <td>1.558442</td>\n      <td>125</td>\n    </tr>\n    <tr>\n      <td>22</td>\n      <td>22</td>\n      <td>0.206391</td>\n      <td>0.708246</td>\n      <td>0.914637</td>\n      <td>3.406178</td>\n      <td>3.109825</td>\n      <td>4.356887</td>\n      <td>4.461257</td>\n      <td>2.077295</td>\n      <td>1.722488</td>\n      <td>191</td>\n    </tr>\n    <tr>\n      <td>23</td>\n      <td>23</td>\n      <td>0.213710</td>\n      <td>0.704615</td>\n      <td>0.918326</td>\n      <td>3.237406</td>\n      <td>2.977277</td>\n      <td>4.212295</td>\n      <td>4.871324</td>\n      <td>2.284778</td>\n      <td>1.860890</td>\n      <td>272</td>\n    </tr>\n    <tr>\n      <td>24</td>\n      <td>24</td>\n      <td>0.201712</td>\n      <td>0.681077</td>\n      <td>0.882788</td>\n      <td>3.634415</td>\n      <td>3.487691</td>\n      <td>4.195409</td>\n      <td>4.649042</td>\n      <td>2.168885</td>\n      <td>1.747573</td>\n      <td>261</td>\n    </tr>\n  </tbody>\n</table>\n</div>"
     },
     "metadata": {},
     "execution_count": 12
    }
   ],
   "source": [
    "d_age_df = groupby_avg(defensemen_data, \"Age\")\n",
    "d_age_df.head()"
   ]
  },
  {
   "cell_type": "code",
   "execution_count": 13,
   "metadata": {},
   "outputs": [
    {
     "output_type": "execute_result",
     "data": {
      "text/plain": "        Season  Avg G/60min  Avg A/60min  Avg PTS/60min  Avg HIT/60min  \\\nSeason                                                                   \n2004      2004     0.681370     0.951867       1.633237       0.000000   \n2006      2006     0.821541     1.151141       1.972682       0.000000   \n2007      2007     0.773952     1.095150       1.869102       0.000000   \n2008      2008     0.713288     1.012382       1.725670       4.898246   \n2009      2009     0.766447     1.075203       1.841649       2.731269   \n\n        Avg BLK/60min  Avg S/60min  Avg S_percent  Avg PIM/60min  \\\nSeason                                                             \n2004         0.000000     6.635724      10.255392       4.865217   \n2006         0.000000     7.416797      10.905882       4.409147   \n2007         0.000000     7.346906      10.430789       4.151551   \n2008         1.508602     7.134911       9.804250       4.362433   \n2009         0.837175     7.349092      10.315297       4.191945   \n\n        Med PIM/60min  Num Players  \nSeason                              \n2004         2.219883          408  \n2006         2.819389          408  \n2007         2.423453          393  \n2008         2.146824          400  \n2009         2.281879          791  ",
      "text/html": "<div>\n<style scoped>\n    .dataframe tbody tr th:only-of-type {\n        vertical-align: middle;\n    }\n\n    .dataframe tbody tr th {\n        vertical-align: top;\n    }\n\n    .dataframe thead th {\n        text-align: right;\n    }\n</style>\n<table border=\"1\" class=\"dataframe\">\n  <thead>\n    <tr style=\"text-align: right;\">\n      <th></th>\n      <th>Season</th>\n      <th>Avg G/60min</th>\n      <th>Avg A/60min</th>\n      <th>Avg PTS/60min</th>\n      <th>Avg HIT/60min</th>\n      <th>Avg BLK/60min</th>\n      <th>Avg S/60min</th>\n      <th>Avg S_percent</th>\n      <th>Avg PIM/60min</th>\n      <th>Med PIM/60min</th>\n      <th>Num Players</th>\n    </tr>\n    <tr>\n      <th>Season</th>\n      <th></th>\n      <th></th>\n      <th></th>\n      <th></th>\n      <th></th>\n      <th></th>\n      <th></th>\n      <th></th>\n      <th></th>\n      <th></th>\n      <th></th>\n    </tr>\n  </thead>\n  <tbody>\n    <tr>\n      <td>2004</td>\n      <td>2004</td>\n      <td>0.681370</td>\n      <td>0.951867</td>\n      <td>1.633237</td>\n      <td>0.000000</td>\n      <td>0.000000</td>\n      <td>6.635724</td>\n      <td>10.255392</td>\n      <td>4.865217</td>\n      <td>2.219883</td>\n      <td>408</td>\n    </tr>\n    <tr>\n      <td>2006</td>\n      <td>2006</td>\n      <td>0.821541</td>\n      <td>1.151141</td>\n      <td>1.972682</td>\n      <td>0.000000</td>\n      <td>0.000000</td>\n      <td>7.416797</td>\n      <td>10.905882</td>\n      <td>4.409147</td>\n      <td>2.819389</td>\n      <td>408</td>\n    </tr>\n    <tr>\n      <td>2007</td>\n      <td>2007</td>\n      <td>0.773952</td>\n      <td>1.095150</td>\n      <td>1.869102</td>\n      <td>0.000000</td>\n      <td>0.000000</td>\n      <td>7.346906</td>\n      <td>10.430789</td>\n      <td>4.151551</td>\n      <td>2.423453</td>\n      <td>393</td>\n    </tr>\n    <tr>\n      <td>2008</td>\n      <td>2008</td>\n      <td>0.713288</td>\n      <td>1.012382</td>\n      <td>1.725670</td>\n      <td>4.898246</td>\n      <td>1.508602</td>\n      <td>7.134911</td>\n      <td>9.804250</td>\n      <td>4.362433</td>\n      <td>2.146824</td>\n      <td>400</td>\n    </tr>\n    <tr>\n      <td>2009</td>\n      <td>2009</td>\n      <td>0.766447</td>\n      <td>1.075203</td>\n      <td>1.841649</td>\n      <td>2.731269</td>\n      <td>0.837175</td>\n      <td>7.349092</td>\n      <td>10.315297</td>\n      <td>4.191945</td>\n      <td>2.281879</td>\n      <td>791</td>\n    </tr>\n  </tbody>\n</table>\n</div>"
     },
     "metadata": {},
     "execution_count": 13
    }
   ],
   "source": [
    "f_season_df = groupby_avg(forwards_data, \"Season\")\n",
    "# season_df = groupby_avg(complete_nhl_df, \"Season\")\n",
    "f_season_df.head()"
   ]
  },
  {
   "cell_type": "code",
   "execution_count": 14,
   "metadata": {},
   "outputs": [
    {
     "output_type": "execute_result",
     "data": {
      "text/plain": "        Season  Avg G/60min  Avg A/60min  Avg PTS/60min  Avg HIT/60min  \\\nSeason                                                                   \n2004      2004     0.192341     0.591988       0.784329       0.000000   \n2006      2006     0.214969     0.743235       0.958204       0.000000   \n2007      2007     0.196161     0.714944       0.911105       0.000000   \n2008      2008     0.189477     0.639152       0.828629       3.801852   \n2009      2009     0.195541     0.713007       0.908548       1.981902   \n\n        Avg BLK/60min  Avg S/60min  Avg S_percent  Avg PIM/60min  \\\nSeason                                                             \n2004         0.000000     3.896097       4.605069       3.392195   \n2006         0.000000     3.862992       5.205430       3.618048   \n2007         0.000000     3.695476       4.996172       2.716438   \n2008         3.946133     3.662821       4.875587       2.498616   \n2009         2.142302     3.717603       4.934856       2.578607   \n\n        Med PIM/60min  Num Players  \nSeason                              \n2004         2.338308          217  \n2006         2.943925          221  \n2007         2.382671          209  \n2008         2.177020          213  \n2009         2.208897          416  ",
      "text/html": "<div>\n<style scoped>\n    .dataframe tbody tr th:only-of-type {\n        vertical-align: middle;\n    }\n\n    .dataframe tbody tr th {\n        vertical-align: top;\n    }\n\n    .dataframe thead th {\n        text-align: right;\n    }\n</style>\n<table border=\"1\" class=\"dataframe\">\n  <thead>\n    <tr style=\"text-align: right;\">\n      <th></th>\n      <th>Season</th>\n      <th>Avg G/60min</th>\n      <th>Avg A/60min</th>\n      <th>Avg PTS/60min</th>\n      <th>Avg HIT/60min</th>\n      <th>Avg BLK/60min</th>\n      <th>Avg S/60min</th>\n      <th>Avg S_percent</th>\n      <th>Avg PIM/60min</th>\n      <th>Med PIM/60min</th>\n      <th>Num Players</th>\n    </tr>\n    <tr>\n      <th>Season</th>\n      <th></th>\n      <th></th>\n      <th></th>\n      <th></th>\n      <th></th>\n      <th></th>\n      <th></th>\n      <th></th>\n      <th></th>\n      <th></th>\n      <th></th>\n    </tr>\n  </thead>\n  <tbody>\n    <tr>\n      <td>2004</td>\n      <td>2004</td>\n      <td>0.192341</td>\n      <td>0.591988</td>\n      <td>0.784329</td>\n      <td>0.000000</td>\n      <td>0.000000</td>\n      <td>3.896097</td>\n      <td>4.605069</td>\n      <td>3.392195</td>\n      <td>2.338308</td>\n      <td>217</td>\n    </tr>\n    <tr>\n      <td>2006</td>\n      <td>2006</td>\n      <td>0.214969</td>\n      <td>0.743235</td>\n      <td>0.958204</td>\n      <td>0.000000</td>\n      <td>0.000000</td>\n      <td>3.862992</td>\n      <td>5.205430</td>\n      <td>3.618048</td>\n      <td>2.943925</td>\n      <td>221</td>\n    </tr>\n    <tr>\n      <td>2007</td>\n      <td>2007</td>\n      <td>0.196161</td>\n      <td>0.714944</td>\n      <td>0.911105</td>\n      <td>0.000000</td>\n      <td>0.000000</td>\n      <td>3.695476</td>\n      <td>4.996172</td>\n      <td>2.716438</td>\n      <td>2.382671</td>\n      <td>209</td>\n    </tr>\n    <tr>\n      <td>2008</td>\n      <td>2008</td>\n      <td>0.189477</td>\n      <td>0.639152</td>\n      <td>0.828629</td>\n      <td>3.801852</td>\n      <td>3.946133</td>\n      <td>3.662821</td>\n      <td>4.875587</td>\n      <td>2.498616</td>\n      <td>2.177020</td>\n      <td>213</td>\n    </tr>\n    <tr>\n      <td>2009</td>\n      <td>2009</td>\n      <td>0.195541</td>\n      <td>0.713007</td>\n      <td>0.908548</td>\n      <td>1.981902</td>\n      <td>2.142302</td>\n      <td>3.717603</td>\n      <td>4.934856</td>\n      <td>2.578607</td>\n      <td>2.208897</td>\n      <td>416</td>\n    </tr>\n  </tbody>\n</table>\n</div>"
     },
     "metadata": {},
     "execution_count": 14
    }
   ],
   "source": [
    "d_season_df = groupby_avg(defensemen_data, \"Season\")\n",
    "d_season_df.head()"
   ]
  },
  {
   "cell_type": "code",
   "execution_count": 15,
   "metadata": {},
   "outputs": [
    {
     "output_type": "execute_result",
     "data": {
      "text/plain": "   Age Season_group  Avg G/60min  Avg A/60min  Avg PTS/60min  Avg HIT/60min  \\\n0   20      2004-06     0.834759     1.106270       1.941030       0.000000   \n1   20      2009-11     0.881385     1.162425       2.043810       3.614000   \n2   20      2016-18     0.890148     1.174341       2.064489       3.279627   \n3   21      2004-06     0.733420     0.874595       1.608016       0.000000   \n4   21      2009-11     0.825584     1.090114       1.915698       3.799960   \n\n   Avg BLK/60min  Avg PIM/60min  Med PIM/60min  Avg S/60min  Avg Players  \n0       0.000000       2.959426       1.889764     7.685480           25  \n1       1.260343       2.006151       1.513936     7.578810           38  \n2       1.470308       1.397482       1.085082     7.822259           42  \n3       0.000000       4.056223       2.558635     7.098771           33  \n4       1.098090       2.767486       1.815088     7.592502           78  ",
      "text/html": "<div>\n<style scoped>\n    .dataframe tbody tr th:only-of-type {\n        vertical-align: middle;\n    }\n\n    .dataframe tbody tr th {\n        vertical-align: top;\n    }\n\n    .dataframe thead th {\n        text-align: right;\n    }\n</style>\n<table border=\"1\" class=\"dataframe\">\n  <thead>\n    <tr style=\"text-align: right;\">\n      <th></th>\n      <th>Age</th>\n      <th>Season_group</th>\n      <th>Avg G/60min</th>\n      <th>Avg A/60min</th>\n      <th>Avg PTS/60min</th>\n      <th>Avg HIT/60min</th>\n      <th>Avg BLK/60min</th>\n      <th>Avg PIM/60min</th>\n      <th>Med PIM/60min</th>\n      <th>Avg S/60min</th>\n      <th>Avg Players</th>\n    </tr>\n  </thead>\n  <tbody>\n    <tr>\n      <td>0</td>\n      <td>20</td>\n      <td>2004-06</td>\n      <td>0.834759</td>\n      <td>1.106270</td>\n      <td>1.941030</td>\n      <td>0.000000</td>\n      <td>0.000000</td>\n      <td>2.959426</td>\n      <td>1.889764</td>\n      <td>7.685480</td>\n      <td>25</td>\n    </tr>\n    <tr>\n      <td>1</td>\n      <td>20</td>\n      <td>2009-11</td>\n      <td>0.881385</td>\n      <td>1.162425</td>\n      <td>2.043810</td>\n      <td>3.614000</td>\n      <td>1.260343</td>\n      <td>2.006151</td>\n      <td>1.513936</td>\n      <td>7.578810</td>\n      <td>38</td>\n    </tr>\n    <tr>\n      <td>2</td>\n      <td>20</td>\n      <td>2016-18</td>\n      <td>0.890148</td>\n      <td>1.174341</td>\n      <td>2.064489</td>\n      <td>3.279627</td>\n      <td>1.470308</td>\n      <td>1.397482</td>\n      <td>1.085082</td>\n      <td>7.822259</td>\n      <td>42</td>\n    </tr>\n    <tr>\n      <td>3</td>\n      <td>21</td>\n      <td>2004-06</td>\n      <td>0.733420</td>\n      <td>0.874595</td>\n      <td>1.608016</td>\n      <td>0.000000</td>\n      <td>0.000000</td>\n      <td>4.056223</td>\n      <td>2.558635</td>\n      <td>7.098771</td>\n      <td>33</td>\n    </tr>\n    <tr>\n      <td>4</td>\n      <td>21</td>\n      <td>2009-11</td>\n      <td>0.825584</td>\n      <td>1.090114</td>\n      <td>1.915698</td>\n      <td>3.799960</td>\n      <td>1.098090</td>\n      <td>2.767486</td>\n      <td>1.815088</td>\n      <td>7.592502</td>\n      <td>78</td>\n    </tr>\n  </tbody>\n</table>\n</div>"
     },
     "metadata": {},
     "execution_count": 15
    }
   ],
   "source": [
    "new_df = three_year_group(forwards_data)\n",
    "#new_df = three_year_group(complete_nhl_df)\n",
    "f_year_groups_df = multi_groupby_avg(new_df, \"Age\", \"Season_group\")\n",
    "f_year_groups_df.reset_index(inplace=True)\n",
    "f_year_groups_df.head()"
   ]
  },
  {
   "cell_type": "code",
   "execution_count": 16,
   "metadata": {},
   "outputs": [
    {
     "output_type": "execute_result",
     "data": {
      "text/plain": "   Age Season_group  Avg G/60min  Avg A/60min  Avg PTS/60min  Avg HIT/60min  \\\n0   20      2004-06     0.258857     0.732265       0.991123       0.000000   \n1   20      2009-11     0.206615     0.693635       0.900251       3.168668   \n2   20      2016-18     0.258628     0.594078       0.852705       3.499624   \n3   21      2004-06     0.167095     0.637146       0.804241       0.000000   \n4   21      2009-11     0.230688     0.731749       0.962437       2.757875   \n\n   Avg BLK/60min  Avg PIM/60min  Med PIM/60min  Avg S/60min  Avg Players  \n0       0.000000       3.169811       2.868117     4.805188           12  \n1       2.951367       1.946087       1.582031     3.972513           13  \n2       3.383882       1.646813       2.073814     5.104897            9  \n3       0.000000       1.927772       1.881533     3.722481           13  \n4       2.934771       1.993728       1.978022     4.135869           27  ",
      "text/html": "<div>\n<style scoped>\n    .dataframe tbody tr th:only-of-type {\n        vertical-align: middle;\n    }\n\n    .dataframe tbody tr th {\n        vertical-align: top;\n    }\n\n    .dataframe thead th {\n        text-align: right;\n    }\n</style>\n<table border=\"1\" class=\"dataframe\">\n  <thead>\n    <tr style=\"text-align: right;\">\n      <th></th>\n      <th>Age</th>\n      <th>Season_group</th>\n      <th>Avg G/60min</th>\n      <th>Avg A/60min</th>\n      <th>Avg PTS/60min</th>\n      <th>Avg HIT/60min</th>\n      <th>Avg BLK/60min</th>\n      <th>Avg PIM/60min</th>\n      <th>Med PIM/60min</th>\n      <th>Avg S/60min</th>\n      <th>Avg Players</th>\n    </tr>\n  </thead>\n  <tbody>\n    <tr>\n      <td>0</td>\n      <td>20</td>\n      <td>2004-06</td>\n      <td>0.258857</td>\n      <td>0.732265</td>\n      <td>0.991123</td>\n      <td>0.000000</td>\n      <td>0.000000</td>\n      <td>3.169811</td>\n      <td>2.868117</td>\n      <td>4.805188</td>\n      <td>12</td>\n    </tr>\n    <tr>\n      <td>1</td>\n      <td>20</td>\n      <td>2009-11</td>\n      <td>0.206615</td>\n      <td>0.693635</td>\n      <td>0.900251</td>\n      <td>3.168668</td>\n      <td>2.951367</td>\n      <td>1.946087</td>\n      <td>1.582031</td>\n      <td>3.972513</td>\n      <td>13</td>\n    </tr>\n    <tr>\n      <td>2</td>\n      <td>20</td>\n      <td>2016-18</td>\n      <td>0.258628</td>\n      <td>0.594078</td>\n      <td>0.852705</td>\n      <td>3.499624</td>\n      <td>3.383882</td>\n      <td>1.646813</td>\n      <td>2.073814</td>\n      <td>5.104897</td>\n      <td>9</td>\n    </tr>\n    <tr>\n      <td>3</td>\n      <td>21</td>\n      <td>2004-06</td>\n      <td>0.167095</td>\n      <td>0.637146</td>\n      <td>0.804241</td>\n      <td>0.000000</td>\n      <td>0.000000</td>\n      <td>1.927772</td>\n      <td>1.881533</td>\n      <td>3.722481</td>\n      <td>13</td>\n    </tr>\n    <tr>\n      <td>4</td>\n      <td>21</td>\n      <td>2009-11</td>\n      <td>0.230688</td>\n      <td>0.731749</td>\n      <td>0.962437</td>\n      <td>2.757875</td>\n      <td>2.934771</td>\n      <td>1.993728</td>\n      <td>1.978022</td>\n      <td>4.135869</td>\n      <td>27</td>\n    </tr>\n  </tbody>\n</table>\n</div>"
     },
     "metadata": {},
     "execution_count": 16
    }
   ],
   "source": [
    "new_df = three_year_group(defensemen_data)\n",
    "d_year_groups_df = multi_groupby_avg(new_df, \"Age\", \"Season_group\")\n",
    "d_year_groups_df.reset_index(inplace=True)\n",
    "d_year_groups_df.head()"
   ]
  },
  {
   "cell_type": "markdown",
   "metadata": {},
   "source": [
    "# Loading into MongoDB"
   ]
  },
  {
   "cell_type": "code",
   "execution_count": 17,
   "metadata": {},
   "outputs": [],
   "source": [
    "conn ='mongodb://localhost:27017' "
   ]
  },
  {
   "cell_type": "code",
   "execution_count": 18,
   "metadata": {},
   "outputs": [],
   "source": [
    "client = pymongo.MongoClient(conn)"
   ]
  },
  {
   "cell_type": "code",
   "execution_count": 19,
   "metadata": {},
   "outputs": [],
   "source": [
    "client.drop_database('nhl_db')"
   ]
  },
  {
   "cell_type": "code",
   "execution_count": 20,
   "metadata": {},
   "outputs": [],
   "source": [
    "db = client.nhl_db"
   ]
  },
  {
   "cell_type": "code",
   "execution_count": 21,
   "metadata": {},
   "outputs": [],
   "source": [
    "collection = db.nhl_player_data"
   ]
  },
  {
   "cell_type": "code",
   "execution_count": 22,
   "metadata": {},
   "outputs": [
    {
     "output_type": "execute_result",
     "data": {
      "text/plain": "Index(['Unnamed: 0', 'Rk', 'Player', 'ID', 'Age', 'Pos', 'Tm', 'GP', 'G', 'A',\n       'PTS', 'plusminus', 'PIM', 'PS', 'EVG', 'PPG', 'SHG', 'GW', 'EVA',\n       'PPA', 'SHA', 'S', 'S_percent', 'TOI', 'ATOI', 'BLK', 'HIT', 'FOW',\n       'FOL', 'FO_percent', 'HART', 'Votes', 'Season', 'G/60min', 'A/60min',\n       'PTS/60min', 'HIT/60min', 'BLK/60min', 'PIM/60min', 'S/60min'],\n      dtype='object')"
     },
     "metadata": {},
     "execution_count": 22
    }
   ],
   "source": [
    "complete_nhl_df.columns"
   ]
  },
  {
   "cell_type": "code",
   "execution_count": 23,
   "metadata": {},
   "outputs": [
    {
     "output_type": "execute_result",
     "data": {
      "text/plain": "<pymongo.results.InsertManyResult at 0x1ee6a5c2308>"
     },
     "metadata": {},
     "execution_count": 23
    }
   ],
   "source": [
    "data = complete_nhl_df.to_dict(orient='records')\n",
    "collection.insert_many(data)"
   ]
  },
  {
   "cell_type": "code",
   "execution_count": 24,
   "metadata": {
    "tags": []
   },
   "outputs": [],
   "source": [
    "# nhl_col=db.nhl_player_data.find()\n",
    "# for col in nhl_col:\n",
    "#     print(col)"
   ]
  },
  {
   "cell_type": "code",
   "execution_count": 25,
   "metadata": {},
   "outputs": [],
   "source": [
    "collection2 = db.f_age_groups"
   ]
  },
  {
   "cell_type": "code",
   "execution_count": 26,
   "metadata": {},
   "outputs": [
    {
     "output_type": "execute_result",
     "data": {
      "text/plain": "<pymongo.results.InsertManyResult at 0x1ee68a90c08>"
     },
     "metadata": {},
     "execution_count": 26
    }
   ],
   "source": [
    "data2 = f_age_df.to_dict(orient='records')\n",
    "collection2.insert_many(data2)"
   ]
  },
  {
   "cell_type": "code",
   "execution_count": 27,
   "metadata": {},
   "outputs": [],
   "source": [
    "collection3 = db.f_season_groups"
   ]
  },
  {
   "cell_type": "code",
   "execution_count": 28,
   "metadata": {},
   "outputs": [
    {
     "output_type": "execute_result",
     "data": {
      "text/plain": "<pymongo.results.InsertManyResult at 0x1ee68aa0cc8>"
     },
     "metadata": {},
     "execution_count": 28
    }
   ],
   "source": [
    "data3 = f_season_df.to_dict(orient='records')\n",
    "collection3.insert_many(data3)"
   ]
  },
  {
   "cell_type": "code",
   "execution_count": 29,
   "metadata": {},
   "outputs": [],
   "source": [
    "collection4 = db.f_age_season_groups"
   ]
  },
  {
   "cell_type": "code",
   "execution_count": 30,
   "metadata": {},
   "outputs": [
    {
     "output_type": "execute_result",
     "data": {
      "text/plain": "<pymongo.results.InsertManyResult at 0x1ee68aa0dc8>"
     },
     "metadata": {},
     "execution_count": 30
    }
   ],
   "source": [
    "data4 = f_year_groups_df.to_dict(orient='records')\n",
    "collection4.insert_many(data4)"
   ]
  },
  {
   "cell_type": "code",
   "execution_count": 31,
   "metadata": {},
   "outputs": [],
   "source": [
    "collection5 = db.nhl2020_players"
   ]
  },
  {
   "cell_type": "code",
   "execution_count": 32,
   "metadata": {},
   "outputs": [
    {
     "output_type": "execute_result",
     "data": {
      "text/plain": "<pymongo.results.InsertManyResult at 0x1ee68a96188>"
     },
     "metadata": {},
     "execution_count": 32
    }
   ],
   "source": [
    "data5 = nhl2020_df.to_dict(orient='records')\n",
    "collection5.insert_many(data5)"
   ]
  },
  {
   "cell_type": "code",
   "execution_count": 33,
   "metadata": {},
   "outputs": [],
   "source": [
    "collection6 = db.d_age_season_groups"
   ]
  },
  {
   "cell_type": "code",
   "execution_count": 34,
   "metadata": {},
   "outputs": [
    {
     "output_type": "execute_result",
     "data": {
      "text/plain": "<pymongo.results.InsertManyResult at 0x1ee66b5d388>"
     },
     "metadata": {},
     "execution_count": 34
    }
   ],
   "source": [
    "data6 = d_year_groups_df.to_dict(orient='records')\n",
    "collection6.insert_many(data6)"
   ]
  },
  {
   "cell_type": "code",
   "execution_count": 35,
   "metadata": {},
   "outputs": [],
   "source": [
    "collection7 = db.d_season_groups"
   ]
  },
  {
   "cell_type": "code",
   "execution_count": 36,
   "metadata": {},
   "outputs": [
    {
     "output_type": "execute_result",
     "data": {
      "text/plain": "<pymongo.results.InsertManyResult at 0x1ee687b4e88>"
     },
     "metadata": {},
     "execution_count": 36
    }
   ],
   "source": [
    "data7 = d_season_df.to_dict(orient='records')\n",
    "collection7.insert_many(data7)"
   ]
  },
  {
   "cell_type": "code",
   "execution_count": 37,
   "metadata": {},
   "outputs": [],
   "source": [
    "collection8 = db.d_age_groups"
   ]
  },
  {
   "cell_type": "code",
   "execution_count": 38,
   "metadata": {},
   "outputs": [
    {
     "output_type": "execute_result",
     "data": {
      "text/plain": "<pymongo.results.InsertManyResult at 0x1ee68b6c908>"
     },
     "metadata": {},
     "execution_count": 38
    }
   ],
   "source": [
    "data8 = d_age_df.to_dict(orient='records')\n",
    "collection8.insert_many(data8)"
   ]
  },
  {
   "cell_type": "code",
   "execution_count": 39,
   "metadata": {
    "tags": []
   },
   "outputs": [
    {
     "output_type": "stream",
     "name": "stdout",
     "text": "Complete\n"
    }
   ],
   "source": [
    "print(\"Complete\")"
   ]
  },
  {
   "cell_type": "code",
   "execution_count": null,
   "metadata": {},
   "outputs": [],
   "source": []
  }
 ],
 "metadata": {
  "language_info": {
   "codemirror_mode": {
    "name": "ipython",
    "version": 3
   },
   "file_extension": ".py",
   "mimetype": "text/x-python",
   "name": "python",
   "nbconvert_exporter": "python",
   "pygments_lexer": "ipython3",
   "version": "3.7.4-final"
  },
  "orig_nbformat": 2,
  "kernelspec": {
   "name": "python3",
   "display_name": "Python 3"
  }
 },
 "nbformat": 4,
 "nbformat_minor": 2
}
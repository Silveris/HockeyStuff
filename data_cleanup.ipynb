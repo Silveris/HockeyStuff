{
 "cells": [
  {
   "cell_type": "code",
   "execution_count": 1,
   "metadata": {},
   "outputs": [],
   "source": [
    "import pandas as pd"
   ]
  },
  {
   "cell_type": "code",
   "execution_count": 2,
   "metadata": {},
   "outputs": [],
   "source": [
    "file = \"data\\HockeyData.csv\"\n",
    "nhl_data = pd.read_csv(file, encoding = \"latin-1\")"
   ]
  },
  {
   "cell_type": "code",
   "execution_count": 3,
   "metadata": {},
   "outputs": [
    {
     "output_type": "execute_result",
     "data": {
      "text/plain": "      Rk                      Player  Age Pos   Tm  GP   G   A  PTS  \\\n3554   1  Martin St. Louis\\stlouma01   37  RW  TBL  48  17  43   60   \n3555   2    Steven Stamkos\\stamkst01   22   C  TBL  48  29  28   57   \n3556   3     Alex Ovechkin\\ovechal01   27  RW  WSH  48  32  24   56   \n3557   4     Sidney Crosby\\crosbsi01   25   C  PIT  36  15  41   56   \n3558   5       Patrick Kane\\kanepa01   24  RW  CHI  47  23  32   55   \n\n      plusminus  ...   TOI       ATOI   BLK  HIT    FOW    FOL  FO_percent  \\\n3554          0  ...  1055  21.983333  32.0   23   12.0   16.0        42.9   \n3555         -4  ...  1057  22.016667  17.0   63  406.0  413.0        49.6   \n3556          2  ...  1002  20.883333  18.0  120    0.0    1.0         0.0   \n3557         26  ...   760  21.100000  18.0   21  453.0  381.0        54.3   \n3558         11  ...   943  20.050000   9.0   11    2.0    8.0        20.0   \n\n      HART  Votes  Season  \n3554     0     20    2013  \n3555     0     28    2013  \n3556     1   1090    2013  \n3557     0   1058    2013  \n3558     0    157    2013  \n\n[5 rows x 31 columns]",
      "text/html": "<div>\n<style scoped>\n    .dataframe tbody tr th:only-of-type {\n        vertical-align: middle;\n    }\n\n    .dataframe tbody tr th {\n        vertical-align: top;\n    }\n\n    .dataframe thead th {\n        text-align: right;\n    }\n</style>\n<table border=\"1\" class=\"dataframe\">\n  <thead>\n    <tr style=\"text-align: right;\">\n      <th></th>\n      <th>Rk</th>\n      <th>Player</th>\n      <th>Age</th>\n      <th>Pos</th>\n      <th>Tm</th>\n      <th>GP</th>\n      <th>G</th>\n      <th>A</th>\n      <th>PTS</th>\n      <th>plusminus</th>\n      <th>...</th>\n      <th>TOI</th>\n      <th>ATOI</th>\n      <th>BLK</th>\n      <th>HIT</th>\n      <th>FOW</th>\n      <th>FOL</th>\n      <th>FO_percent</th>\n      <th>HART</th>\n      <th>Votes</th>\n      <th>Season</th>\n    </tr>\n  </thead>\n  <tbody>\n    <tr>\n      <td>3554</td>\n      <td>1</td>\n      <td>Martin St. Louis\\stlouma01</td>\n      <td>37</td>\n      <td>RW</td>\n      <td>TBL</td>\n      <td>48</td>\n      <td>17</td>\n      <td>43</td>\n      <td>60</td>\n      <td>0</td>\n      <td>...</td>\n      <td>1055</td>\n      <td>21.983333</td>\n      <td>32.0</td>\n      <td>23</td>\n      <td>12.0</td>\n      <td>16.0</td>\n      <td>42.9</td>\n      <td>0</td>\n      <td>20</td>\n      <td>2013</td>\n    </tr>\n    <tr>\n      <td>3555</td>\n      <td>2</td>\n      <td>Steven Stamkos\\stamkst01</td>\n      <td>22</td>\n      <td>C</td>\n      <td>TBL</td>\n      <td>48</td>\n      <td>29</td>\n      <td>28</td>\n      <td>57</td>\n      <td>-4</td>\n      <td>...</td>\n      <td>1057</td>\n      <td>22.016667</td>\n      <td>17.0</td>\n      <td>63</td>\n      <td>406.0</td>\n      <td>413.0</td>\n      <td>49.6</td>\n      <td>0</td>\n      <td>28</td>\n      <td>2013</td>\n    </tr>\n    <tr>\n      <td>3556</td>\n      <td>3</td>\n      <td>Alex Ovechkin\\ovechal01</td>\n      <td>27</td>\n      <td>RW</td>\n      <td>WSH</td>\n      <td>48</td>\n      <td>32</td>\n      <td>24</td>\n      <td>56</td>\n      <td>2</td>\n      <td>...</td>\n      <td>1002</td>\n      <td>20.883333</td>\n      <td>18.0</td>\n      <td>120</td>\n      <td>0.0</td>\n      <td>1.0</td>\n      <td>0.0</td>\n      <td>1</td>\n      <td>1090</td>\n      <td>2013</td>\n    </tr>\n    <tr>\n      <td>3557</td>\n      <td>4</td>\n      <td>Sidney Crosby\\crosbsi01</td>\n      <td>25</td>\n      <td>C</td>\n      <td>PIT</td>\n      <td>36</td>\n      <td>15</td>\n      <td>41</td>\n      <td>56</td>\n      <td>26</td>\n      <td>...</td>\n      <td>760</td>\n      <td>21.100000</td>\n      <td>18.0</td>\n      <td>21</td>\n      <td>453.0</td>\n      <td>381.0</td>\n      <td>54.3</td>\n      <td>0</td>\n      <td>1058</td>\n      <td>2013</td>\n    </tr>\n    <tr>\n      <td>3558</td>\n      <td>5</td>\n      <td>Patrick Kane\\kanepa01</td>\n      <td>24</td>\n      <td>RW</td>\n      <td>CHI</td>\n      <td>47</td>\n      <td>23</td>\n      <td>32</td>\n      <td>55</td>\n      <td>11</td>\n      <td>...</td>\n      <td>943</td>\n      <td>20.050000</td>\n      <td>9.0</td>\n      <td>11</td>\n      <td>2.0</td>\n      <td>8.0</td>\n      <td>20.0</td>\n      <td>0</td>\n      <td>157</td>\n      <td>2013</td>\n    </tr>\n  </tbody>\n</table>\n<p>5 rows × 31 columns</p>\n</div>"
     },
     "metadata": {},
     "execution_count": 3
    }
   ],
   "source": [
    "nhl_df = nhl_data.copy()\n",
    "nhl_df[nhl_df[\"Season\"] == 2013].head()"
   ]
  },
  {
   "cell_type": "code",
   "execution_count": 4,
   "metadata": {},
   "outputs": [
    {
     "output_type": "execute_result",
     "data": {
      "text/plain": "Index(['Rk', 'Player', 'Age', 'Pos', 'Tm', 'GP', 'G', 'A', 'PTS', 'plusminus',\n       'PIM', 'PS', 'EV', 'PP', 'SH', 'GW', 'EV.1', 'PP.1', 'SH.1', 'S',\n       'S_percent', 'TOI', 'ATOI', 'BLK', 'HIT', 'FOW', 'FOL', 'FO_percent',\n       'HART', 'Votes', 'Season'],\n      dtype='object')"
     },
     "metadata": {},
     "execution_count": 4
    }
   ],
   "source": [
    "nhl_df.columns"
   ]
  },
  {
   "cell_type": "code",
   "execution_count": 5,
   "metadata": {
    "tags": []
   },
   "outputs": [],
   "source": [
    "# for index, row in nhl_df.iterrows():\n",
    "#     if row[\"Season\"] == 2013:\n",
    "#         row[\"GP\"] = row[\"GP\"] * (82 / 48)\n",
    "#         print(row[\"GP\"])\n",
    "# nhl_df[nhl_df[\"Season\"] == 2013].head()"
   ]
  },
  {
   "cell_type": "code",
   "execution_count": 6,
   "metadata": {},
   "outputs": [
    {
     "output_type": "execute_result",
     "data": {
      "text/plain": "      Rk                      Player  Age Pos   Tm    GP   G   A  PTS  \\\n3554   1  Martin St. Louis\\stlouma01   37  RW  TBL  82.0  17  43   60   \n3555   2    Steven Stamkos\\stamkst01   22   C  TBL  82.0  29  28   57   \n3556   3     Alex Ovechkin\\ovechal01   27  RW  WSH  82.0  32  24   56   \n3557   4     Sidney Crosby\\crosbsi01   25   C  PIT  62.0  15  41   56   \n3558   5       Patrick Kane\\kanepa01   24  RW  CHI  80.0  23  32   55   \n\n      plusminus  ...   TOI       ATOI   BLK  HIT    FOW    FOL  FO_percent  \\\n3554          0  ...  1055  21.983333  32.0   23   12.0   16.0        42.9   \n3555         -4  ...  1057  22.016667  17.0   63  406.0  413.0        49.6   \n3556          2  ...  1002  20.883333  18.0  120    0.0    1.0         0.0   \n3557         26  ...   760  21.100000  18.0   21  453.0  381.0        54.3   \n3558         11  ...   943  20.050000   9.0   11    2.0    8.0        20.0   \n\n      HART  Votes  Season  \n3554     0     20    2013  \n3555     0     28    2013  \n3556     1   1090    2013  \n3557     0   1058    2013  \n3558     0    157    2013  \n\n[5 rows x 31 columns]",
      "text/html": "<div>\n<style scoped>\n    .dataframe tbody tr th:only-of-type {\n        vertical-align: middle;\n    }\n\n    .dataframe tbody tr th {\n        vertical-align: top;\n    }\n\n    .dataframe thead th {\n        text-align: right;\n    }\n</style>\n<table border=\"1\" class=\"dataframe\">\n  <thead>\n    <tr style=\"text-align: right;\">\n      <th></th>\n      <th>Rk</th>\n      <th>Player</th>\n      <th>Age</th>\n      <th>Pos</th>\n      <th>Tm</th>\n      <th>GP</th>\n      <th>G</th>\n      <th>A</th>\n      <th>PTS</th>\n      <th>plusminus</th>\n      <th>...</th>\n      <th>TOI</th>\n      <th>ATOI</th>\n      <th>BLK</th>\n      <th>HIT</th>\n      <th>FOW</th>\n      <th>FOL</th>\n      <th>FO_percent</th>\n      <th>HART</th>\n      <th>Votes</th>\n      <th>Season</th>\n    </tr>\n  </thead>\n  <tbody>\n    <tr>\n      <td>3554</td>\n      <td>1</td>\n      <td>Martin St. Louis\\stlouma01</td>\n      <td>37</td>\n      <td>RW</td>\n      <td>TBL</td>\n      <td>82.0</td>\n      <td>17</td>\n      <td>43</td>\n      <td>60</td>\n      <td>0</td>\n      <td>...</td>\n      <td>1055</td>\n      <td>21.983333</td>\n      <td>32.0</td>\n      <td>23</td>\n      <td>12.0</td>\n      <td>16.0</td>\n      <td>42.9</td>\n      <td>0</td>\n      <td>20</td>\n      <td>2013</td>\n    </tr>\n    <tr>\n      <td>3555</td>\n      <td>2</td>\n      <td>Steven Stamkos\\stamkst01</td>\n      <td>22</td>\n      <td>C</td>\n      <td>TBL</td>\n      <td>82.0</td>\n      <td>29</td>\n      <td>28</td>\n      <td>57</td>\n      <td>-4</td>\n      <td>...</td>\n      <td>1057</td>\n      <td>22.016667</td>\n      <td>17.0</td>\n      <td>63</td>\n      <td>406.0</td>\n      <td>413.0</td>\n      <td>49.6</td>\n      <td>0</td>\n      <td>28</td>\n      <td>2013</td>\n    </tr>\n    <tr>\n      <td>3556</td>\n      <td>3</td>\n      <td>Alex Ovechkin\\ovechal01</td>\n      <td>27</td>\n      <td>RW</td>\n      <td>WSH</td>\n      <td>82.0</td>\n      <td>32</td>\n      <td>24</td>\n      <td>56</td>\n      <td>2</td>\n      <td>...</td>\n      <td>1002</td>\n      <td>20.883333</td>\n      <td>18.0</td>\n      <td>120</td>\n      <td>0.0</td>\n      <td>1.0</td>\n      <td>0.0</td>\n      <td>1</td>\n      <td>1090</td>\n      <td>2013</td>\n    </tr>\n    <tr>\n      <td>3557</td>\n      <td>4</td>\n      <td>Sidney Crosby\\crosbsi01</td>\n      <td>25</td>\n      <td>C</td>\n      <td>PIT</td>\n      <td>62.0</td>\n      <td>15</td>\n      <td>41</td>\n      <td>56</td>\n      <td>26</td>\n      <td>...</td>\n      <td>760</td>\n      <td>21.100000</td>\n      <td>18.0</td>\n      <td>21</td>\n      <td>453.0</td>\n      <td>381.0</td>\n      <td>54.3</td>\n      <td>0</td>\n      <td>1058</td>\n      <td>2013</td>\n    </tr>\n    <tr>\n      <td>3558</td>\n      <td>5</td>\n      <td>Patrick Kane\\kanepa01</td>\n      <td>24</td>\n      <td>RW</td>\n      <td>CHI</td>\n      <td>80.0</td>\n      <td>23</td>\n      <td>32</td>\n      <td>55</td>\n      <td>11</td>\n      <td>...</td>\n      <td>943</td>\n      <td>20.050000</td>\n      <td>9.0</td>\n      <td>11</td>\n      <td>2.0</td>\n      <td>8.0</td>\n      <td>20.0</td>\n      <td>0</td>\n      <td>157</td>\n      <td>2013</td>\n    </tr>\n  </tbody>\n</table>\n<p>5 rows × 31 columns</p>\n</div>"
     },
     "metadata": {},
     "execution_count": 6
    }
   ],
   "source": [
    "# The 2012-2013 NHL Season was shortened to only 48 games due to a lockout. This prorates the games played \n",
    "# column to be consistent with other seasons. \n",
    "nhl_df.loc[nhl_df[\"Season\"] == 2013, [\"GP\"]] = round(nhl_df[\"GP\"] * (82 / 48), 0)\n",
    "nhl_df[nhl_df[\"Season\"] == 2013].head()"
   ]
  },
  {
   "cell_type": "code",
   "execution_count": 11,
   "metadata": {},
   "outputs": [],
   "source": [
    "# Rename columns\n",
    "nhl_df = nhl_df.rename(columns={\"EV\" : \"EVG\", \"PP\" : \"PPG\", \"SH\" : \"SHG\",\n",
    "                       \"EV.1\" : \"EVA\", \"PP.1\" : \"PPA\", \"SH.1\" : \"SHA\"})"
   ]
  },
  {
   "cell_type": "code",
   "execution_count": 24,
   "metadata": {},
   "outputs": [
    {
     "output_type": "execute_result",
     "data": {
      "text/plain": "25.0"
     },
     "metadata": {},
     "execution_count": 24
    }
   ],
   "source": [
    "# Filter out players with less than X games in a season\n",
    "nhl_df = nhl_df[nhl_df[\"GP\"] >= 25]\n",
    "nhl_df[\"GP\"].min()"
   ]
  },
  {
   "cell_type": "code",
   "execution_count": 25,
   "metadata": {},
   "outputs": [
    {
     "output_type": "execute_result",
     "data": {
      "text/plain": "   Rk                       Player  Age Pos   Tm    GP   G   A  PTS  \\\n0   1     Connor McDavid\\mcdavco01   20   C  EDM  82.0  30  70  100   \n1   2      Sidney Crosby\\crosbsi01   29   C  PIT  75.0  44  45   89   \n2   3        Patrick Kane\\kanepa01   28  RW  CHI  82.0  34  55   89   \n3   4  Nicklas Backstrom\\backsni02   29   C  WSH  82.0  23  63   86   \n4   5    Nikita Kucherov\\kucheni01   23  RW  TBL  74.0  40  45   85   \n\n   plusminus  ...    FOL  FO_percent  HART  Votes  Season     G/TOI     A/TOI  \\\n0         27  ...  458.0        43.2     1   1604    2017  1.038661  2.423543   \n1         17  ...  906.0        48.2     0   1104    2017  1.770624  1.810865   \n2         11  ...   44.0        13.7     0    206    2017  1.163056  1.881414   \n3         17  ...  648.0        51.4     0     60    2017  0.921844  2.525050   \n4         13  ...    0.0         0.0     0    119    2017  1.668985  1.877608   \n\n    PTS/TOI   HIT/TOI   BLK/TOI  \n0  3.462204  1.177149  1.004039  \n1  3.581489  3.219316  1.086519  \n2  3.044470  0.957811  0.513113  \n3  3.446894  1.803607  1.322645  \n4  3.546592  1.251739  0.834492  \n\n[5 rows x 36 columns]",
      "text/html": "<div>\n<style scoped>\n    .dataframe tbody tr th:only-of-type {\n        vertical-align: middle;\n    }\n\n    .dataframe tbody tr th {\n        vertical-align: top;\n    }\n\n    .dataframe thead th {\n        text-align: right;\n    }\n</style>\n<table border=\"1\" class=\"dataframe\">\n  <thead>\n    <tr style=\"text-align: right;\">\n      <th></th>\n      <th>Rk</th>\n      <th>Player</th>\n      <th>Age</th>\n      <th>Pos</th>\n      <th>Tm</th>\n      <th>GP</th>\n      <th>G</th>\n      <th>A</th>\n      <th>PTS</th>\n      <th>plusminus</th>\n      <th>...</th>\n      <th>FOL</th>\n      <th>FO_percent</th>\n      <th>HART</th>\n      <th>Votes</th>\n      <th>Season</th>\n      <th>G/TOI</th>\n      <th>A/TOI</th>\n      <th>PTS/TOI</th>\n      <th>HIT/TOI</th>\n      <th>BLK/TOI</th>\n    </tr>\n  </thead>\n  <tbody>\n    <tr>\n      <td>0</td>\n      <td>1</td>\n      <td>Connor McDavid\\mcdavco01</td>\n      <td>20</td>\n      <td>C</td>\n      <td>EDM</td>\n      <td>82.0</td>\n      <td>30</td>\n      <td>70</td>\n      <td>100</td>\n      <td>27</td>\n      <td>...</td>\n      <td>458.0</td>\n      <td>43.2</td>\n      <td>1</td>\n      <td>1604</td>\n      <td>2017</td>\n      <td>1.038661</td>\n      <td>2.423543</td>\n      <td>3.462204</td>\n      <td>1.177149</td>\n      <td>1.004039</td>\n    </tr>\n    <tr>\n      <td>1</td>\n      <td>2</td>\n      <td>Sidney Crosby\\crosbsi01</td>\n      <td>29</td>\n      <td>C</td>\n      <td>PIT</td>\n      <td>75.0</td>\n      <td>44</td>\n      <td>45</td>\n      <td>89</td>\n      <td>17</td>\n      <td>...</td>\n      <td>906.0</td>\n      <td>48.2</td>\n      <td>0</td>\n      <td>1104</td>\n      <td>2017</td>\n      <td>1.770624</td>\n      <td>1.810865</td>\n      <td>3.581489</td>\n      <td>3.219316</td>\n      <td>1.086519</td>\n    </tr>\n    <tr>\n      <td>2</td>\n      <td>3</td>\n      <td>Patrick Kane\\kanepa01</td>\n      <td>28</td>\n      <td>RW</td>\n      <td>CHI</td>\n      <td>82.0</td>\n      <td>34</td>\n      <td>55</td>\n      <td>89</td>\n      <td>11</td>\n      <td>...</td>\n      <td>44.0</td>\n      <td>13.7</td>\n      <td>0</td>\n      <td>206</td>\n      <td>2017</td>\n      <td>1.163056</td>\n      <td>1.881414</td>\n      <td>3.044470</td>\n      <td>0.957811</td>\n      <td>0.513113</td>\n    </tr>\n    <tr>\n      <td>3</td>\n      <td>4</td>\n      <td>Nicklas Backstrom\\backsni02</td>\n      <td>29</td>\n      <td>C</td>\n      <td>WSH</td>\n      <td>82.0</td>\n      <td>23</td>\n      <td>63</td>\n      <td>86</td>\n      <td>17</td>\n      <td>...</td>\n      <td>648.0</td>\n      <td>51.4</td>\n      <td>0</td>\n      <td>60</td>\n      <td>2017</td>\n      <td>0.921844</td>\n      <td>2.525050</td>\n      <td>3.446894</td>\n      <td>1.803607</td>\n      <td>1.322645</td>\n    </tr>\n    <tr>\n      <td>4</td>\n      <td>5</td>\n      <td>Nikita Kucherov\\kucheni01</td>\n      <td>23</td>\n      <td>RW</td>\n      <td>TBL</td>\n      <td>74.0</td>\n      <td>40</td>\n      <td>45</td>\n      <td>85</td>\n      <td>13</td>\n      <td>...</td>\n      <td>0.0</td>\n      <td>0.0</td>\n      <td>0</td>\n      <td>119</td>\n      <td>2017</td>\n      <td>1.668985</td>\n      <td>1.877608</td>\n      <td>3.546592</td>\n      <td>1.251739</td>\n      <td>0.834492</td>\n    </tr>\n  </tbody>\n</table>\n<p>5 rows × 36 columns</p>\n</div>"
     },
     "metadata": {},
     "execution_count": 25
    }
   ],
   "source": [
    "# Create new columns based on TOI: G, A, Pts, Hits, Blocks\n",
    "# Multiplied by 60 to make the number more understandable: ex. avg num of goals per 60min of play\n",
    "nhl_df[\"G/60min\"] = nhl_df[\"G\"] / nhl_df[\"TOI\"] * 60\n",
    "nhl_df[\"A/60min\"] = nhl_df[\"A\"] / nhl_df[\"TOI\"] * 60\n",
    "nhl_df[\"PTS/60min\"] = nhl_df[\"PTS\"] / nhl_df[\"TOI\"] * 60\n",
    "nhl_df[\"HIT/60min\"] = nhl_df[\"HIT\"] / nhl_df[\"TOI\"] * 60\n",
    "nhl_df[\"BLK/60min\"] = nhl_df[\"BLK\"] / nhl_df[\"TOI\"] * 60\n",
    "nhl_df.head()"
   ]
  },
  {
   "cell_type": "code",
   "execution_count": 26,
   "metadata": {},
   "outputs": [
    {
     "output_type": "execute_result",
     "data": {
      "text/plain": "36"
     },
     "metadata": {},
     "execution_count": 26
    }
   ],
   "source": [
    "# Remove players over age 36 (and under age 20?)\\\n",
    "nhl_df = nhl_df[nhl_df[\"Age\"] <= 36]\n",
    "nhl_df[\"Age\"].max()"
   ]
  },
  {
   "cell_type": "code",
   "execution_count": 30,
   "metadata": {},
   "outputs": [
    {
     "output_type": "execute_result",
     "data": {
      "text/plain": "   Rk  Age Pos   Tm    GP   G   A  PTS  plusminus  PIM  ...  HART  Votes  \\\n0   1   20   C  EDM  82.0  30  70  100         27   26  ...     1   1604   \n1   2   29   C  PIT  75.0  44  45   89         17   24  ...     0   1104   \n2   3   28  RW  CHI  82.0  34  55   89         11   32  ...     0    206   \n3   4   29   C  WSH  82.0  23  63   86         17   38  ...     0     60   \n4   5   23  RW  TBL  74.0  40  45   85         13   38  ...     0    119   \n\n   Season     G/TOI     A/TOI   PTS/TOI   HIT/TOI   BLK/TOI  \\\n0    2017  1.038661  2.423543  3.462204  1.177149  1.004039   \n1    2017  1.770624  1.810865  3.581489  3.219316  1.086519   \n2    2017  1.163056  1.881414  3.044470  0.957811  0.513113   \n3    2017  0.921844  2.525050  3.446894  1.803607  1.322645   \n4    2017  1.668985  1.877608  3.546592  1.251739  0.834492   \n\n              Player         ID  \n0     Connor McDavid  mcdavco01  \n1      Sidney Crosby  crosbsi01  \n2       Patrick Kane   kanepa01  \n3  Nicklas Backstrom  backsni02  \n4    Nikita Kucherov  kucheni01  \n\n[5 rows x 37 columns]",
      "text/html": "<div>\n<style scoped>\n    .dataframe tbody tr th:only-of-type {\n        vertical-align: middle;\n    }\n\n    .dataframe tbody tr th {\n        vertical-align: top;\n    }\n\n    .dataframe thead th {\n        text-align: right;\n    }\n</style>\n<table border=\"1\" class=\"dataframe\">\n  <thead>\n    <tr style=\"text-align: right;\">\n      <th></th>\n      <th>Rk</th>\n      <th>Age</th>\n      <th>Pos</th>\n      <th>Tm</th>\n      <th>GP</th>\n      <th>G</th>\n      <th>A</th>\n      <th>PTS</th>\n      <th>plusminus</th>\n      <th>PIM</th>\n      <th>...</th>\n      <th>HART</th>\n      <th>Votes</th>\n      <th>Season</th>\n      <th>G/TOI</th>\n      <th>A/TOI</th>\n      <th>PTS/TOI</th>\n      <th>HIT/TOI</th>\n      <th>BLK/TOI</th>\n      <th>Player</th>\n      <th>ID</th>\n    </tr>\n  </thead>\n  <tbody>\n    <tr>\n      <td>0</td>\n      <td>1</td>\n      <td>20</td>\n      <td>C</td>\n      <td>EDM</td>\n      <td>82.0</td>\n      <td>30</td>\n      <td>70</td>\n      <td>100</td>\n      <td>27</td>\n      <td>26</td>\n      <td>...</td>\n      <td>1</td>\n      <td>1604</td>\n      <td>2017</td>\n      <td>1.038661</td>\n      <td>2.423543</td>\n      <td>3.462204</td>\n      <td>1.177149</td>\n      <td>1.004039</td>\n      <td>Connor McDavid</td>\n      <td>mcdavco01</td>\n    </tr>\n    <tr>\n      <td>1</td>\n      <td>2</td>\n      <td>29</td>\n      <td>C</td>\n      <td>PIT</td>\n      <td>75.0</td>\n      <td>44</td>\n      <td>45</td>\n      <td>89</td>\n      <td>17</td>\n      <td>24</td>\n      <td>...</td>\n      <td>0</td>\n      <td>1104</td>\n      <td>2017</td>\n      <td>1.770624</td>\n      <td>1.810865</td>\n      <td>3.581489</td>\n      <td>3.219316</td>\n      <td>1.086519</td>\n      <td>Sidney Crosby</td>\n      <td>crosbsi01</td>\n    </tr>\n    <tr>\n      <td>2</td>\n      <td>3</td>\n      <td>28</td>\n      <td>RW</td>\n      <td>CHI</td>\n      <td>82.0</td>\n      <td>34</td>\n      <td>55</td>\n      <td>89</td>\n      <td>11</td>\n      <td>32</td>\n      <td>...</td>\n      <td>0</td>\n      <td>206</td>\n      <td>2017</td>\n      <td>1.163056</td>\n      <td>1.881414</td>\n      <td>3.044470</td>\n      <td>0.957811</td>\n      <td>0.513113</td>\n      <td>Patrick Kane</td>\n      <td>kanepa01</td>\n    </tr>\n    <tr>\n      <td>3</td>\n      <td>4</td>\n      <td>29</td>\n      <td>C</td>\n      <td>WSH</td>\n      <td>82.0</td>\n      <td>23</td>\n      <td>63</td>\n      <td>86</td>\n      <td>17</td>\n      <td>38</td>\n      <td>...</td>\n      <td>0</td>\n      <td>60</td>\n      <td>2017</td>\n      <td>0.921844</td>\n      <td>2.525050</td>\n      <td>3.446894</td>\n      <td>1.803607</td>\n      <td>1.322645</td>\n      <td>Nicklas Backstrom</td>\n      <td>backsni02</td>\n    </tr>\n    <tr>\n      <td>4</td>\n      <td>5</td>\n      <td>23</td>\n      <td>RW</td>\n      <td>TBL</td>\n      <td>74.0</td>\n      <td>40</td>\n      <td>45</td>\n      <td>85</td>\n      <td>13</td>\n      <td>38</td>\n      <td>...</td>\n      <td>0</td>\n      <td>119</td>\n      <td>2017</td>\n      <td>1.668985</td>\n      <td>1.877608</td>\n      <td>3.546592</td>\n      <td>1.251739</td>\n      <td>0.834492</td>\n      <td>Nikita Kucherov</td>\n      <td>kucheni01</td>\n    </tr>\n  </tbody>\n</table>\n<p>5 rows × 37 columns</p>\n</div>"
     },
     "metadata": {},
     "execution_count": 30
    }
   ],
   "source": [
    "# Separate player name and identifier\n",
    "new = nhl_df[\"Player\"].str.split(\"\\\\\", n = 1, expand = True)\n",
    "nhl_df.drop(columns =[\"Player\"], inplace = True)\n",
    "nhl_df[\"Player\"] = new[0]\n",
    "nhl_df[\"ID\"] = new[1]\n",
    "nhl_df.head()"
   ]
  },
  {
   "cell_type": "code",
   "execution_count": 32,
   "metadata": {},
   "outputs": [],
   "source": [
    "# Reorder columns\n",
    "nhl_df = nhl_df[['Rk', 'Player', 'ID', 'Age', 'Pos', 'Tm', 'GP', 'G', 'A', 'PTS', 'plusminus', 'PIM',\n",
    "       'PS', 'EVG', 'PPG', 'SHG', 'GW', 'EVA', 'PPA', 'SHA', 'S', 'S_percent',\n",
    "       'TOI', 'ATOI', 'BLK', 'HIT', 'FOW', 'FOL', 'FO_percent', 'HART',\n",
    "       'Votes', 'Season', 'G/TOI', 'A/TOI', 'PTS/TOI', 'HIT/TOI', 'BLK/TOI']]"
   ]
  },
  {
   "cell_type": "code",
   "execution_count": 33,
   "metadata": {},
   "outputs": [
    {
     "output_type": "execute_result",
     "data": {
      "text/plain": "   Rk             Player         ID  Age Pos   Tm    GP   G   A  PTS  ...  \\\n0   1     Connor McDavid  mcdavco01   20   C  EDM  82.0  30  70  100  ...   \n1   2      Sidney Crosby  crosbsi01   29   C  PIT  75.0  44  45   89  ...   \n2   3       Patrick Kane   kanepa01   28  RW  CHI  82.0  34  55   89  ...   \n3   4  Nicklas Backstrom  backsni02   29   C  WSH  82.0  23  63   86  ...   \n4   5    Nikita Kucherov  kucheni01   23  RW  TBL  74.0  40  45   85  ...   \n\n     FOL  FO_percent  HART  Votes  Season     G/TOI     A/TOI   PTS/TOI  \\\n0  458.0        43.2     1   1604    2017  1.038661  2.423543  3.462204   \n1  906.0        48.2     0   1104    2017  1.770624  1.810865  3.581489   \n2   44.0        13.7     0    206    2017  1.163056  1.881414  3.044470   \n3  648.0        51.4     0     60    2017  0.921844  2.525050  3.446894   \n4    0.0         0.0     0    119    2017  1.668985  1.877608  3.546592   \n\n    HIT/TOI   BLK/TOI  \n0  1.177149  1.004039  \n1  3.219316  1.086519  \n2  0.957811  0.513113  \n3  1.803607  1.322645  \n4  1.251739  0.834492  \n\n[5 rows x 37 columns]",
      "text/html": "<div>\n<style scoped>\n    .dataframe tbody tr th:only-of-type {\n        vertical-align: middle;\n    }\n\n    .dataframe tbody tr th {\n        vertical-align: top;\n    }\n\n    .dataframe thead th {\n        text-align: right;\n    }\n</style>\n<table border=\"1\" class=\"dataframe\">\n  <thead>\n    <tr style=\"text-align: right;\">\n      <th></th>\n      <th>Rk</th>\n      <th>Player</th>\n      <th>ID</th>\n      <th>Age</th>\n      <th>Pos</th>\n      <th>Tm</th>\n      <th>GP</th>\n      <th>G</th>\n      <th>A</th>\n      <th>PTS</th>\n      <th>...</th>\n      <th>FOL</th>\n      <th>FO_percent</th>\n      <th>HART</th>\n      <th>Votes</th>\n      <th>Season</th>\n      <th>G/TOI</th>\n      <th>A/TOI</th>\n      <th>PTS/TOI</th>\n      <th>HIT/TOI</th>\n      <th>BLK/TOI</th>\n    </tr>\n  </thead>\n  <tbody>\n    <tr>\n      <td>0</td>\n      <td>1</td>\n      <td>Connor McDavid</td>\n      <td>mcdavco01</td>\n      <td>20</td>\n      <td>C</td>\n      <td>EDM</td>\n      <td>82.0</td>\n      <td>30</td>\n      <td>70</td>\n      <td>100</td>\n      <td>...</td>\n      <td>458.0</td>\n      <td>43.2</td>\n      <td>1</td>\n      <td>1604</td>\n      <td>2017</td>\n      <td>1.038661</td>\n      <td>2.423543</td>\n      <td>3.462204</td>\n      <td>1.177149</td>\n      <td>1.004039</td>\n    </tr>\n    <tr>\n      <td>1</td>\n      <td>2</td>\n      <td>Sidney Crosby</td>\n      <td>crosbsi01</td>\n      <td>29</td>\n      <td>C</td>\n      <td>PIT</td>\n      <td>75.0</td>\n      <td>44</td>\n      <td>45</td>\n      <td>89</td>\n      <td>...</td>\n      <td>906.0</td>\n      <td>48.2</td>\n      <td>0</td>\n      <td>1104</td>\n      <td>2017</td>\n      <td>1.770624</td>\n      <td>1.810865</td>\n      <td>3.581489</td>\n      <td>3.219316</td>\n      <td>1.086519</td>\n    </tr>\n    <tr>\n      <td>2</td>\n      <td>3</td>\n      <td>Patrick Kane</td>\n      <td>kanepa01</td>\n      <td>28</td>\n      <td>RW</td>\n      <td>CHI</td>\n      <td>82.0</td>\n      <td>34</td>\n      <td>55</td>\n      <td>89</td>\n      <td>...</td>\n      <td>44.0</td>\n      <td>13.7</td>\n      <td>0</td>\n      <td>206</td>\n      <td>2017</td>\n      <td>1.163056</td>\n      <td>1.881414</td>\n      <td>3.044470</td>\n      <td>0.957811</td>\n      <td>0.513113</td>\n    </tr>\n    <tr>\n      <td>3</td>\n      <td>4</td>\n      <td>Nicklas Backstrom</td>\n      <td>backsni02</td>\n      <td>29</td>\n      <td>C</td>\n      <td>WSH</td>\n      <td>82.0</td>\n      <td>23</td>\n      <td>63</td>\n      <td>86</td>\n      <td>...</td>\n      <td>648.0</td>\n      <td>51.4</td>\n      <td>0</td>\n      <td>60</td>\n      <td>2017</td>\n      <td>0.921844</td>\n      <td>2.525050</td>\n      <td>3.446894</td>\n      <td>1.803607</td>\n      <td>1.322645</td>\n    </tr>\n    <tr>\n      <td>4</td>\n      <td>5</td>\n      <td>Nikita Kucherov</td>\n      <td>kucheni01</td>\n      <td>23</td>\n      <td>RW</td>\n      <td>TBL</td>\n      <td>74.0</td>\n      <td>40</td>\n      <td>45</td>\n      <td>85</td>\n      <td>...</td>\n      <td>0.0</td>\n      <td>0.0</td>\n      <td>0</td>\n      <td>119</td>\n      <td>2017</td>\n      <td>1.668985</td>\n      <td>1.877608</td>\n      <td>3.546592</td>\n      <td>1.251739</td>\n      <td>0.834492</td>\n    </tr>\n  </tbody>\n</table>\n<p>5 rows × 37 columns</p>\n</div>"
     },
     "metadata": {},
     "execution_count": 33
    }
   ],
   "source": [
    "nhl_df.head()"
   ]
  },
  {
   "cell_type": "code",
   "execution_count": 34,
   "metadata": {},
   "outputs": [],
   "source": [
    "nhl_df.to_csv(\"data/clean_hockey_data.csv\")"
   ]
  },
  {
   "cell_type": "code",
   "execution_count": null,
   "metadata": {},
   "outputs": [],
   "source": []
  }
 ],
 "metadata": {
  "language_info": {
   "codemirror_mode": {
    "name": "ipython",
    "version": 3
   },
   "file_extension": ".py",
   "mimetype": "text/x-python",
   "name": "python",
   "nbconvert_exporter": "python",
   "pygments_lexer": "ipython3",
   "version": "3.7.4-final"
  },
  "orig_nbformat": 2,
  "kernelspec": {
   "name": "python3",
   "display_name": "Python 3"
  }
 },
 "nbformat": 4,
 "nbformat_minor": 2
}
{
 "cells": [
  {
   "cell_type": "code",
   "execution_count": 1,
   "metadata": {},
   "outputs": [],
   "source": [
    "import pandas as pd"
   ]
  },
  {
   "cell_type": "code",
   "execution_count": 2,
   "metadata": {},
   "outputs": [],
   "source": [
    "file = \"data\\HockeyData.csv\"\n",
    "nhl_data = pd.read_csv(file, encoding = \"latin-1\")"
   ]
  },
  {
   "cell_type": "code",
   "execution_count": 3,
   "metadata": {},
   "outputs": [
    {
     "output_type": "execute_result",
     "data": {
      "text/plain": "      Rk                      Player  Age Pos   Tm  GP   G   A  PTS  \\\n3554   1  Martin St. Louis\\stlouma01   37  RW  TBL  48  17  43   60   \n3555   2    Steven Stamkos\\stamkst01   22   C  TBL  48  29  28   57   \n3556   3     Alex Ovechkin\\ovechal01   27  RW  WSH  48  32  24   56   \n3557   4     Sidney Crosby\\crosbsi01   25   C  PIT  36  15  41   56   \n3558   5       Patrick Kane\\kanepa01   24  RW  CHI  47  23  32   55   \n\n      plusminus  ...   TOI       ATOI   BLK  HIT    FOW    FOL  FO_percent  \\\n3554          0  ...  1055  21.983333  32.0   23   12.0   16.0        42.9   \n3555         -4  ...  1057  22.016667  17.0   63  406.0  413.0        49.6   \n3556          2  ...  1002  20.883333  18.0  120    0.0    1.0         0.0   \n3557         26  ...   760  21.100000  18.0   21  453.0  381.0        54.3   \n3558         11  ...   943  20.050000   9.0   11    2.0    8.0        20.0   \n\n      HART  Votes  Season  \n3554     0     20    2013  \n3555     0     28    2013  \n3556     1   1090    2013  \n3557     0   1058    2013  \n3558     0    157    2013  \n\n[5 rows x 31 columns]",
      "text/html": "<div>\n<style scoped>\n    .dataframe tbody tr th:only-of-type {\n        vertical-align: middle;\n    }\n\n    .dataframe tbody tr th {\n        vertical-align: top;\n    }\n\n    .dataframe thead th {\n        text-align: right;\n    }\n</style>\n<table border=\"1\" class=\"dataframe\">\n  <thead>\n    <tr style=\"text-align: right;\">\n      <th></th>\n      <th>Rk</th>\n      <th>Player</th>\n      <th>Age</th>\n      <th>Pos</th>\n      <th>Tm</th>\n      <th>GP</th>\n      <th>G</th>\n      <th>A</th>\n      <th>PTS</th>\n      <th>plusminus</th>\n      <th>...</th>\n      <th>TOI</th>\n      <th>ATOI</th>\n      <th>BLK</th>\n      <th>HIT</th>\n      <th>FOW</th>\n      <th>FOL</th>\n      <th>FO_percent</th>\n      <th>HART</th>\n      <th>Votes</th>\n      <th>Season</th>\n    </tr>\n  </thead>\n  <tbody>\n    <tr>\n      <td>3554</td>\n      <td>1</td>\n      <td>Martin St. Louis\\stlouma01</td>\n      <td>37</td>\n      <td>RW</td>\n      <td>TBL</td>\n      <td>48</td>\n      <td>17</td>\n      <td>43</td>\n      <td>60</td>\n      <td>0</td>\n      <td>...</td>\n      <td>1055</td>\n      <td>21.983333</td>\n      <td>32.0</td>\n      <td>23</td>\n      <td>12.0</td>\n      <td>16.0</td>\n      <td>42.9</td>\n      <td>0</td>\n      <td>20</td>\n      <td>2013</td>\n    </tr>\n    <tr>\n      <td>3555</td>\n      <td>2</td>\n      <td>Steven Stamkos\\stamkst01</td>\n      <td>22</td>\n      <td>C</td>\n      <td>TBL</td>\n      <td>48</td>\n      <td>29</td>\n      <td>28</td>\n      <td>57</td>\n      <td>-4</td>\n      <td>...</td>\n      <td>1057</td>\n      <td>22.016667</td>\n      <td>17.0</td>\n      <td>63</td>\n      <td>406.0</td>\n      <td>413.0</td>\n      <td>49.6</td>\n      <td>0</td>\n      <td>28</td>\n      <td>2013</td>\n    </tr>\n    <tr>\n      <td>3556</td>\n      <td>3</td>\n      <td>Alex Ovechkin\\ovechal01</td>\n      <td>27</td>\n      <td>RW</td>\n      <td>WSH</td>\n      <td>48</td>\n      <td>32</td>\n      <td>24</td>\n      <td>56</td>\n      <td>2</td>\n      <td>...</td>\n      <td>1002</td>\n      <td>20.883333</td>\n      <td>18.0</td>\n      <td>120</td>\n      <td>0.0</td>\n      <td>1.0</td>\n      <td>0.0</td>\n      <td>1</td>\n      <td>1090</td>\n      <td>2013</td>\n    </tr>\n    <tr>\n      <td>3557</td>\n      <td>4</td>\n      <td>Sidney Crosby\\crosbsi01</td>\n      <td>25</td>\n      <td>C</td>\n      <td>PIT</td>\n      <td>36</td>\n      <td>15</td>\n      <td>41</td>\n      <td>56</td>\n      <td>26</td>\n      <td>...</td>\n      <td>760</td>\n      <td>21.100000</td>\n      <td>18.0</td>\n      <td>21</td>\n      <td>453.0</td>\n      <td>381.0</td>\n      <td>54.3</td>\n      <td>0</td>\n      <td>1058</td>\n      <td>2013</td>\n    </tr>\n    <tr>\n      <td>3558</td>\n      <td>5</td>\n      <td>Patrick Kane\\kanepa01</td>\n      <td>24</td>\n      <td>RW</td>\n      <td>CHI</td>\n      <td>47</td>\n      <td>23</td>\n      <td>32</td>\n      <td>55</td>\n      <td>11</td>\n      <td>...</td>\n      <td>943</td>\n      <td>20.050000</td>\n      <td>9.0</td>\n      <td>11</td>\n      <td>2.0</td>\n      <td>8.0</td>\n      <td>20.0</td>\n      <td>0</td>\n      <td>157</td>\n      <td>2013</td>\n    </tr>\n  </tbody>\n</table>\n<p>5 rows × 31 columns</p>\n</div>"
     },
     "metadata": {},
     "execution_count": 3
    }
   ],
   "source": [
    "nhl_df = nhl_data.copy()\n",
    "nhl_df[nhl_df[\"Season\"] == 2013].head()"
   ]
  },
  {
   "cell_type": "code",
   "execution_count": 4,
   "metadata": {},
   "outputs": [
    {
     "output_type": "execute_result",
     "data": {
      "text/plain": "Index(['Rk', 'Player', 'Age', 'Pos', 'Tm', 'GP', 'G', 'A', 'PTS', 'plusminus',\n       'PIM', 'PS', 'EV', 'PP', 'SH', 'GW', 'EV.1', 'PP.1', 'SH.1', 'S',\n       'S_percent', 'TOI', 'ATOI', 'BLK', 'HIT', 'FOW', 'FOL', 'FO_percent',\n       'HART', 'Votes', 'Season'],\n      dtype='object')"
     },
     "metadata": {},
     "execution_count": 4
    }
   ],
   "source": [
    "nhl_df.columns"
   ]
  },
  {
   "cell_type": "code",
   "execution_count": 5,
   "metadata": {
    "tags": []
   },
   "outputs": [],
   "source": [
    "# for index, row in nhl_df.iterrows():\n",
    "#     if row[\"Season\"] == 2013:\n",
    "#         row[\"GP\"] = row[\"GP\"] * (82 / 48)\n",
    "#         print(row[\"GP\"])\n",
    "# nhl_df[nhl_df[\"Season\"] == 2013].head()"
   ]
  },
  {
   "cell_type": "code",
   "execution_count": 7,
   "metadata": {},
   "outputs": [
    {
     "output_type": "execute_result",
     "data": {
      "text/plain": "      Rk                      Player  Age Pos   Tm    GP   G   A  PTS  \\\n3554   1  Martin St. Louis\\stlouma01   37  RW  TBL  82.0  17  43   60   \n3555   2    Steven Stamkos\\stamkst01   22   C  TBL  82.0  29  28   57   \n3556   3     Alex Ovechkin\\ovechal01   27  RW  WSH  82.0  32  24   56   \n3557   4     Sidney Crosby\\crosbsi01   25   C  PIT  62.0  15  41   56   \n3558   5       Patrick Kane\\kanepa01   24  RW  CHI  80.0  23  32   55   \n\n      plusminus  ...   TOI       ATOI   BLK  HIT    FOW    FOL  FO_percent  \\\n3554          0  ...  1055  21.983333  32.0   23   12.0   16.0        42.9   \n3555         -4  ...  1057  22.016667  17.0   63  406.0  413.0        49.6   \n3556          2  ...  1002  20.883333  18.0  120    0.0    1.0         0.0   \n3557         26  ...   760  21.100000  18.0   21  453.0  381.0        54.3   \n3558         11  ...   943  20.050000   9.0   11    2.0    8.0        20.0   \n\n      HART  Votes  Season  \n3554     0     20    2013  \n3555     0     28    2013  \n3556     1   1090    2013  \n3557     0   1058    2013  \n3558     0    157    2013  \n\n[5 rows x 31 columns]",
      "text/html": "<div>\n<style scoped>\n    .dataframe tbody tr th:only-of-type {\n        vertical-align: middle;\n    }\n\n    .dataframe tbody tr th {\n        vertical-align: top;\n    }\n\n    .dataframe thead th {\n        text-align: right;\n    }\n</style>\n<table border=\"1\" class=\"dataframe\">\n  <thead>\n    <tr style=\"text-align: right;\">\n      <th></th>\n      <th>Rk</th>\n      <th>Player</th>\n      <th>Age</th>\n      <th>Pos</th>\n      <th>Tm</th>\n      <th>GP</th>\n      <th>G</th>\n      <th>A</th>\n      <th>PTS</th>\n      <th>plusminus</th>\n      <th>...</th>\n      <th>TOI</th>\n      <th>ATOI</th>\n      <th>BLK</th>\n      <th>HIT</th>\n      <th>FOW</th>\n      <th>FOL</th>\n      <th>FO_percent</th>\n      <th>HART</th>\n      <th>Votes</th>\n      <th>Season</th>\n    </tr>\n  </thead>\n  <tbody>\n    <tr>\n      <td>3554</td>\n      <td>1</td>\n      <td>Martin St. Louis\\stlouma01</td>\n      <td>37</td>\n      <td>RW</td>\n      <td>TBL</td>\n      <td>82.0</td>\n      <td>17</td>\n      <td>43</td>\n      <td>60</td>\n      <td>0</td>\n      <td>...</td>\n      <td>1055</td>\n      <td>21.983333</td>\n      <td>32.0</td>\n      <td>23</td>\n      <td>12.0</td>\n      <td>16.0</td>\n      <td>42.9</td>\n      <td>0</td>\n      <td>20</td>\n      <td>2013</td>\n    </tr>\n    <tr>\n      <td>3555</td>\n      <td>2</td>\n      <td>Steven Stamkos\\stamkst01</td>\n      <td>22</td>\n      <td>C</td>\n      <td>TBL</td>\n      <td>82.0</td>\n      <td>29</td>\n      <td>28</td>\n      <td>57</td>\n      <td>-4</td>\n      <td>...</td>\n      <td>1057</td>\n      <td>22.016667</td>\n      <td>17.0</td>\n      <td>63</td>\n      <td>406.0</td>\n      <td>413.0</td>\n      <td>49.6</td>\n      <td>0</td>\n      <td>28</td>\n      <td>2013</td>\n    </tr>\n    <tr>\n      <td>3556</td>\n      <td>3</td>\n      <td>Alex Ovechkin\\ovechal01</td>\n      <td>27</td>\n      <td>RW</td>\n      <td>WSH</td>\n      <td>82.0</td>\n      <td>32</td>\n      <td>24</td>\n      <td>56</td>\n      <td>2</td>\n      <td>...</td>\n      <td>1002</td>\n      <td>20.883333</td>\n      <td>18.0</td>\n      <td>120</td>\n      <td>0.0</td>\n      <td>1.0</td>\n      <td>0.0</td>\n      <td>1</td>\n      <td>1090</td>\n      <td>2013</td>\n    </tr>\n    <tr>\n      <td>3557</td>\n      <td>4</td>\n      <td>Sidney Crosby\\crosbsi01</td>\n      <td>25</td>\n      <td>C</td>\n      <td>PIT</td>\n      <td>62.0</td>\n      <td>15</td>\n      <td>41</td>\n      <td>56</td>\n      <td>26</td>\n      <td>...</td>\n      <td>760</td>\n      <td>21.100000</td>\n      <td>18.0</td>\n      <td>21</td>\n      <td>453.0</td>\n      <td>381.0</td>\n      <td>54.3</td>\n      <td>0</td>\n      <td>1058</td>\n      <td>2013</td>\n    </tr>\n    <tr>\n      <td>3558</td>\n      <td>5</td>\n      <td>Patrick Kane\\kanepa01</td>\n      <td>24</td>\n      <td>RW</td>\n      <td>CHI</td>\n      <td>80.0</td>\n      <td>23</td>\n      <td>32</td>\n      <td>55</td>\n      <td>11</td>\n      <td>...</td>\n      <td>943</td>\n      <td>20.050000</td>\n      <td>9.0</td>\n      <td>11</td>\n      <td>2.0</td>\n      <td>8.0</td>\n      <td>20.0</td>\n      <td>0</td>\n      <td>157</td>\n      <td>2013</td>\n    </tr>\n  </tbody>\n</table>\n<p>5 rows × 31 columns</p>\n</div>"
     },
     "metadata": {},
     "execution_count": 7
    }
   ],
   "source": [
    "# The 2012-2013 NHL Season was shortened to only 48 games due to a lockout. This prorates the games played \n",
    "# column to be consistent with other seasons. \n",
    "nhl_df.loc[nhl_df[\"Season\"] == 2013, [\"GP\"]] = round(nhl_df[\"GP\"] * (82 / 48), 0)\n",
    "nhl_df[nhl_df[\"Season\"] == 2013].head()"
   ]
  },
  {
   "cell_type": "code",
   "execution_count": null,
   "metadata": {},
   "outputs": [],
   "source": [
    "# Rename columns"
   ]
  },
  {
   "cell_type": "code",
   "execution_count": 8,
   "metadata": {},
   "outputs": [],
   "source": [
    "# Filter out players with less than X games in a season"
   ]
  },
  {
   "cell_type": "code",
   "execution_count": 9,
   "metadata": {},
   "outputs": [],
   "source": [
    "# Create new columns based on TOI: G, A, Pts, Hits, Blocks"
   ]
  },
  {
   "cell_type": "code",
   "execution_count": null,
   "metadata": {},
   "outputs": [],
   "source": [
    "# Remove players over age 36 (and under age 20?)"
   ]
  }
 ],
 "metadata": {
  "language_info": {
   "codemirror_mode": {
    "name": "ipython",
    "version": 3
   },
   "file_extension": ".py",
   "mimetype": "text/x-python",
   "name": "python",
   "nbconvert_exporter": "python",
   "pygments_lexer": "ipython3",
   "version": "3.7.4-final"
  },
  "orig_nbformat": 2,
  "kernelspec": {
   "name": "python3",
   "display_name": "Python 3"
  }
 },
 "nbformat": 4,
 "nbformat_minor": 2
}
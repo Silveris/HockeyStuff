{
 "cells": [
  {
   "cell_type": "code",
   "execution_count": 1,
   "metadata": {},
   "outputs": [],
   "source": [
    "import pymongo"
   ]
  },
  {
   "cell_type": "code",
   "execution_count": 23,
   "metadata": {},
   "outputs": [],
   "source": [
    "conn = 'mongodb://localhost:27017/'\n",
    "client = pymongo.MongoClient(conn)\n",
    "\n",
    "nhl_db = client['nhl_db']\n"
   ]
  },
  {
   "cell_type": "code",
   "execution_count": 29,
   "metadata": {},
   "outputs": [],
   "source": [
    "player = nhl_db['nhl_player_data']"
   ]
  },
  {
   "cell_type": "code",
   "execution_count": 25,
   "metadata": {},
   "outputs": [
    {
     "data": {
      "text/plain": [
       "<bound method Database.collection_names of Database(MongoClient(host=['localhost:27017'], document_class=dict, tz_aware=False, connect=True), 'nhl_db')>"
      ]
     },
     "execution_count": 25,
     "metadata": {},
     "output_type": "execute_result"
    }
   ],
   "source": [
    "nhl_db.collection_names"
   ]
  },
  {
   "cell_type": "code",
   "execution_count": 26,
   "metadata": {},
   "outputs": [
    {
     "data": {
      "text/plain": [
       "Database(MongoClient(host=['localhost:27017'], document_class=dict, tz_aware=False, connect=True), 'nhl_db')"
      ]
     },
     "execution_count": 26,
     "metadata": {},
     "output_type": "execute_result"
    }
   ],
   "source": [
    "nhl_db"
   ]
  },
  {
   "cell_type": "code",
   "execution_count": 47,
   "metadata": {},
   "outputs": [],
   "source": [
    "testCall = player.find_one({'Rk' : 1})"
   ]
  },
  {
   "cell_type": "code",
   "execution_count": 48,
   "metadata": {},
   "outputs": [
    {
     "name": "stdout",
     "output_type": "stream",
     "text": [
      "_id\n",
      "Unnamed: 0\n",
      "Rk\n",
      "Player\n",
      "ID\n",
      "Age\n",
      "Pos\n",
      "Tm\n",
      "GP\n",
      "G\n",
      "A\n",
      "PTS\n",
      "plusminus\n",
      "PIM\n",
      "PS\n",
      "EVG\n",
      "PPG\n",
      "SHG\n",
      "GW\n",
      "EVA\n",
      "PPA\n",
      "SHA\n",
      "S\n",
      "S_percent\n",
      "TOI\n",
      "ATOI\n",
      "BLK\n",
      "HIT\n",
      "FOW\n",
      "FOL\n",
      "FO_percent\n",
      "HART\n",
      "Votes\n",
      "Season\n",
      "G/60min\n",
      "A/60min\n",
      "PTS/60min\n",
      "HIT/60min\n",
      "BLK/60min\n",
      "PIM/60min\n",
      "S/60min\n"
     ]
    }
   ],
   "source": [
    "for x in testCall:\n",
    "    print(x)"
   ]
  },
  {
   "cell_type": "code",
   "execution_count": 42,
   "metadata": {},
   "outputs": [
    {
     "data": {
      "text/plain": [
       "<pymongo.cursor.Cursor at 0x212664e5c08>"
      ]
     },
     "execution_count": 42,
     "metadata": {},
     "output_type": "execute_result"
    }
   ],
   "source": [
    "testCall"
   ]
  },
  {
   "cell_type": "code",
   "execution_count": null,
   "metadata": {},
   "outputs": [],
   "source": []
  },
  {
   "cell_type": "code",
   "execution_count": null,
   "metadata": {},
   "outputs": [],
   "source": []
  }
 ],
 "metadata": {
  "kernelspec": {
   "display_name": "Python 3",
   "language": "python",
   "name": "python3"
  },
  "language_info": {
   "codemirror_mode": {
    "name": "ipython",
    "version": 3
   },
   "file_extension": ".py",
   "mimetype": "text/x-python",
   "name": "python",
   "nbconvert_exporter": "python",
   "pygments_lexer": "ipython3",
   "version": "3.7.6"
  }
 },
 "nbformat": 4,
 "nbformat_minor": 4
}

{
 "cells": [
  {
   "cell_type": "code",
   "execution_count": 1,
   "metadata": {},
   "outputs": [],
   "source": [
    "import pandas as pd\n",
    "import matplotlib.pyplot as plt\n",
    "import pymongo"
   ]
  },
  {
   "cell_type": "code",
   "execution_count": 2,
   "metadata": {},
   "outputs": [],
   "source": [
    "file = \"data/clean_hockey_data.csv\"\n",
    "nhl_df = pd.read_csv(file)"
   ]
  },
  {
   "cell_type": "code",
   "execution_count": 3,
   "metadata": {},
   "outputs": [
    {
     "output_type": "execute_result",
     "data": {
      "text/plain": "   Unnamed: 0  Rk             Player         ID  Age Pos   Tm    GP   G   A  \\\n0           0   1     Connor McDavid  mcdavco01   20   C  EDM  82.0  30  70   \n1           1   2      Sidney Crosby  crosbsi01   29   C  PIT  75.0  44  45   \n2           2   3       Patrick Kane   kanepa01   28  RW  CHI  82.0  34  55   \n3           3   4  Nicklas Backstrom  backsni02   29   C  WSH  82.0  23  63   \n4           4   5    Nikita Kucherov  kucheni01   23  RW  TBL  74.0  40  45   \n\n   ...  HART  Votes  Season   G/60min   A/60min  PTS/60min  HIT/60min  \\\n0  ...     1   1604    2017  1.038661  2.423543   3.462204   1.177149   \n1  ...     0   1104    2017  1.770624  1.810865   3.581489   3.219316   \n2  ...     0    206    2017  1.163056  1.881414   3.044470   0.957811   \n3  ...     0     60    2017  0.921844  2.525050   3.446894   1.803607   \n4  ...     0    119    2017  1.668985  1.877608   3.546592   1.251739   \n\n   BLK/60min  PIM/60min    S/60min  \n0   1.004039   0.900173   8.690133  \n1   1.086519   0.965795  10.261569  \n2   0.513113   1.094641   9.988597  \n3   1.322645   1.523046   6.492986  \n4   0.834492   1.585535  10.264256  \n\n[5 rows x 40 columns]",
      "text/html": "<div>\n<style scoped>\n    .dataframe tbody tr th:only-of-type {\n        vertical-align: middle;\n    }\n\n    .dataframe tbody tr th {\n        vertical-align: top;\n    }\n\n    .dataframe thead th {\n        text-align: right;\n    }\n</style>\n<table border=\"1\" class=\"dataframe\">\n  <thead>\n    <tr style=\"text-align: right;\">\n      <th></th>\n      <th>Unnamed: 0</th>\n      <th>Rk</th>\n      <th>Player</th>\n      <th>ID</th>\n      <th>Age</th>\n      <th>Pos</th>\n      <th>Tm</th>\n      <th>GP</th>\n      <th>G</th>\n      <th>A</th>\n      <th>...</th>\n      <th>HART</th>\n      <th>Votes</th>\n      <th>Season</th>\n      <th>G/60min</th>\n      <th>A/60min</th>\n      <th>PTS/60min</th>\n      <th>HIT/60min</th>\n      <th>BLK/60min</th>\n      <th>PIM/60min</th>\n      <th>S/60min</th>\n    </tr>\n  </thead>\n  <tbody>\n    <tr>\n      <td>0</td>\n      <td>0</td>\n      <td>1</td>\n      <td>Connor McDavid</td>\n      <td>mcdavco01</td>\n      <td>20</td>\n      <td>C</td>\n      <td>EDM</td>\n      <td>82.0</td>\n      <td>30</td>\n      <td>70</td>\n      <td>...</td>\n      <td>1</td>\n      <td>1604</td>\n      <td>2017</td>\n      <td>1.038661</td>\n      <td>2.423543</td>\n      <td>3.462204</td>\n      <td>1.177149</td>\n      <td>1.004039</td>\n      <td>0.900173</td>\n      <td>8.690133</td>\n    </tr>\n    <tr>\n      <td>1</td>\n      <td>1</td>\n      <td>2</td>\n      <td>Sidney Crosby</td>\n      <td>crosbsi01</td>\n      <td>29</td>\n      <td>C</td>\n      <td>PIT</td>\n      <td>75.0</td>\n      <td>44</td>\n      <td>45</td>\n      <td>...</td>\n      <td>0</td>\n      <td>1104</td>\n      <td>2017</td>\n      <td>1.770624</td>\n      <td>1.810865</td>\n      <td>3.581489</td>\n      <td>3.219316</td>\n      <td>1.086519</td>\n      <td>0.965795</td>\n      <td>10.261569</td>\n    </tr>\n    <tr>\n      <td>2</td>\n      <td>2</td>\n      <td>3</td>\n      <td>Patrick Kane</td>\n      <td>kanepa01</td>\n      <td>28</td>\n      <td>RW</td>\n      <td>CHI</td>\n      <td>82.0</td>\n      <td>34</td>\n      <td>55</td>\n      <td>...</td>\n      <td>0</td>\n      <td>206</td>\n      <td>2017</td>\n      <td>1.163056</td>\n      <td>1.881414</td>\n      <td>3.044470</td>\n      <td>0.957811</td>\n      <td>0.513113</td>\n      <td>1.094641</td>\n      <td>9.988597</td>\n    </tr>\n    <tr>\n      <td>3</td>\n      <td>3</td>\n      <td>4</td>\n      <td>Nicklas Backstrom</td>\n      <td>backsni02</td>\n      <td>29</td>\n      <td>C</td>\n      <td>WSH</td>\n      <td>82.0</td>\n      <td>23</td>\n      <td>63</td>\n      <td>...</td>\n      <td>0</td>\n      <td>60</td>\n      <td>2017</td>\n      <td>0.921844</td>\n      <td>2.525050</td>\n      <td>3.446894</td>\n      <td>1.803607</td>\n      <td>1.322645</td>\n      <td>1.523046</td>\n      <td>6.492986</td>\n    </tr>\n    <tr>\n      <td>4</td>\n      <td>4</td>\n      <td>5</td>\n      <td>Nikita Kucherov</td>\n      <td>kucheni01</td>\n      <td>23</td>\n      <td>RW</td>\n      <td>TBL</td>\n      <td>74.0</td>\n      <td>40</td>\n      <td>45</td>\n      <td>...</td>\n      <td>0</td>\n      <td>119</td>\n      <td>2017</td>\n      <td>1.668985</td>\n      <td>1.877608</td>\n      <td>3.546592</td>\n      <td>1.251739</td>\n      <td>0.834492</td>\n      <td>1.585535</td>\n      <td>10.264256</td>\n    </tr>\n  </tbody>\n</table>\n<p>5 rows × 40 columns</p>\n</div>"
     },
     "metadata": {},
     "execution_count": 3
    }
   ],
   "source": [
    "nhl_df.head()"
   ]
  },
  {
   "cell_type": "code",
   "execution_count": 4,
   "metadata": {},
   "outputs": [],
   "source": [
    "# Pass in a df and a category, and the function will produce a new df grouped by that category and displaying \n",
    "# the average (or median) of each category\n",
    "def groupby_avg(df, category):\n",
    "    # Groups the df by a category\n",
    "    temp_df = df.groupby([category])\n",
    "\n",
    "    # Calculates the average stats for each group\n",
    "    avg_goals = temp_df[\"G/60min\"].mean()\n",
    "    avg_assists = temp_df[\"A/60min\"].mean()\n",
    "    avg_pts = temp_df[\"PTS/60min\"].mean()\n",
    "    avg_hits = temp_df[\"HIT/60min\"].mean()\n",
    "    avg_blocks = temp_df[\"BLK/60min\"].mean()\n",
    "    avg_s = temp_df[\"S/60min\"].mean()\n",
    "    avg_shootperc = temp_df[\"S_percent\"].mean()\n",
    "    avg_pim = temp_df[\"PIM/60min\"].mean()\n",
    "    med_pim = temp_df[\"PIM/60min\"].median()\n",
    "    count = temp_df[\"Player\"].count()\n",
    "\n",
    "    # Builds the new df\n",
    "    new_df = pd.DataFrame({\n",
    "        \"Avg G/60min\" : avg_goals,\n",
    "        \"Avg A/60min\" : avg_assists,\n",
    "        \"Avg PTS/60min\" : avg_pts,\n",
    "        \"Avg HIT/60min\" : avg_hits,\n",
    "        \"Avg BLK/60min\" : avg_blocks,\n",
    "        \"Avg S/60min\" : avg_s,\n",
    "        \"Avg S_percent\" : avg_shootperc,\n",
    "        \"Avg PIM/60min\" : avg_pim,\n",
    "        \"Med PIM/60min\" : med_pim,\n",
    "        \"Num Players\" : count\n",
    "    })\n",
    "    return new_df\n",
    "\n",
    "\n",
    "def groupby_median(df, category):\n",
    "    temp_df = df.groupby([category])\n",
    "\n",
    "    med_goals = temp_df[\"G/60min\"].median()\n",
    "    med_assists = temp_df[\"A/60min\"].median()\n",
    "    med_pts = temp_df[\"PTS/60min\"].median()\n",
    "    med_hits = temp_df[\"HIT/60min\"].median()\n",
    "    med_blocks = temp_df[\"BLK/60min\"].median()\n",
    "    med_shhotperc = temp_df[\"S_percent\"].median()\n",
    "    med_pim = temp_df[\"PIM/60min\"].median()\n",
    "    count = temp_df[\"Player\"].count()\n",
    "\n",
    "\n",
    "    new_df = pd.DataFrame({\n",
    "        \"Med G/60min\" : med_goals,\n",
    "        \"Med A/60min\" : med_assists,\n",
    "        \"Med PTS/60min\" : med_pts,\n",
    "        \"Med HIT/60min\" : med_hits,\n",
    "        \"Med BLK/60min\" : med_blocks,\n",
    "        \"Med PIM/60min\" : med_pim,\n",
    "        \"Num Players\" : count\n",
    "    })\n",
    "    return new_df"
   ]
  },
  {
   "cell_type": "code",
   "execution_count": 5,
   "metadata": {},
   "outputs": [],
   "source": [
    "# Df grouping by 2 categories\n",
    "def multi_groupby_med(df, category1, category2):\n",
    "    temp_df = df.groupby([category1, category2])\n",
    "\n",
    "    med_goals = temp_df[\"G/60min\"].median()\n",
    "    med_assists = temp_df[\"A/60min\"].median()\n",
    "    med_pts = temp_df[\"PTS/60min\"].median()\n",
    "    med_hits = temp_df[\"HIT/60min\"].median()\n",
    "    med_blocks = temp_df[\"BLK/60min\"].median()\n",
    "    med_pim = temp_df[\"PIM/60min\"].median()\n",
    "    count = temp_df[\"Age\"].count()\n",
    "\n",
    "    new_df = pd.DataFrame({\n",
    "        \"Med G/60min\" : med_goals,\n",
    "        \"Med A/60min\" : med_assists,\n",
    "        \"Med PTS/60min\" : med_pts,\n",
    "        \"Med HIT/60min\" : med_hits,\n",
    "        \"Med BLK/60min\" : med_blocks,\n",
    "        \"Med PIM/60min\" : med_pim,\n",
    "        \"Num Players\" : count\n",
    "    })\n",
    "    return new_df\n",
    "\n",
    "def multi_groupby_avg(df, category1, category2):\n",
    "    temp_df = df.groupby([category1, category2])\n",
    "\n",
    "    avg_goals = temp_df[\"G/60min\"].mean()\n",
    "    avg_assists = temp_df[\"A/60min\"].mean()\n",
    "    avg_pts = temp_df[\"PTS/60min\"].mean()\n",
    "    avg_hits = temp_df[\"HIT/60min\"].mean()\n",
    "    avg_blocks = temp_df[\"BLK/60min\"].mean()\n",
    "    avg_pim = temp_df[\"PIM/60min\"].mean()\n",
    "    med_pim = temp_df[\"PIM/60min\"].median()\n",
    "    avg_s = temp_df[\"S/60min\"].mean()\n",
    "    count = temp_df[\"Age\"].count()\n",
    "\n",
    "    new_df = pd.DataFrame({\n",
    "        \"Avg G/60min\" : avg_goals,\n",
    "        \"Avg A/60min\" : avg_assists,\n",
    "        \"Avg PTS/60min\" : avg_pts,\n",
    "        \"Avg HIT/60min\" : avg_hits,\n",
    "        \"Avg BLK/60min\" : avg_blocks,\n",
    "        \"Avg PIM/60min\" : avg_pim,\n",
    "        \"Med PIM/60min\" : med_pim,\n",
    "        \"Avg S/60min\" : avg_s,\n",
    "        \"Avg Players\" : count\n",
    "    })\n",
    "    return new_df"
   ]
  },
  {
   "cell_type": "code",
   "execution_count": 6,
   "metadata": {},
   "outputs": [],
   "source": [
    "def seasonyears_filter(df, years_list):\n",
    "    new_df = df[df.Season.isin(years_list)]\n",
    "    return new_df\n",
    "\n",
    "# Groups a df into 3 sets of 3 years\n",
    "def three_year_group(df):\n",
    "    years = [2004, 2005, 2006, 2009, 2010, 2011, 2016, 2017, 2018]\n",
    "    new_df = df[df.Season.isin(years)]\n",
    "\n",
    "    bins = [2004, 2006, 2011, 2018]\n",
    "    groups = [\"2004-06\", \"2009-11\", \"2016-18\"]\n",
    "    new_df[\"Season_group\"] = pd.cut(new_df[\"Season\"], bins, labels=groups, include_lowest=True)\n",
    "    # grouped_df = multi_groupby_avg(new_df, \"Age\", \"Season_group\")\n",
    "    return new_df"
   ]
  },
  {
   "cell_type": "markdown",
   "metadata": {},
   "source": [
    "# dfs to be moved to database"
   ]
  },
  {
   "cell_type": "code",
   "execution_count": 7,
   "metadata": {},
   "outputs": [
    {
     "output_type": "execute_result",
     "data": {
      "text/plain": "   Unnamed: 0  Rk             Player         ID  Age Pos   Tm    GP   G   A  \\\n0           0   1     Connor McDavid  mcdavco01   20   C  EDM  82.0  30  70   \n1           1   2      Sidney Crosby  crosbsi01   29   C  PIT  75.0  44  45   \n2           2   3       Patrick Kane   kanepa01   28  RW  CHI  82.0  34  55   \n3           3   4  Nicklas Backstrom  backsni02   29   C  WSH  82.0  23  63   \n4           4   5    Nikita Kucherov  kucheni01   23  RW  TBL  74.0  40  45   \n\n   ...  HART  Votes  Season   G/60min   A/60min  PTS/60min  HIT/60min  \\\n0  ...     1   1604    2017  1.038661  2.423543   3.462204   1.177149   \n1  ...     0   1104    2017  1.770624  1.810865   3.581489   3.219316   \n2  ...     0    206    2017  1.163056  1.881414   3.044470   0.957811   \n3  ...     0     60    2017  0.921844  2.525050   3.446894   1.803607   \n4  ...     0    119    2017  1.668985  1.877608   3.546592   1.251739   \n\n   BLK/60min  PIM/60min    S/60min  \n0   1.004039   0.900173   8.690133  \n1   1.086519   0.965795  10.261569  \n2   0.513113   1.094641   9.988597  \n3   1.322645   1.523046   6.492986  \n4   0.834492   1.585535  10.264256  \n\n[5 rows x 40 columns]",
      "text/html": "<div>\n<style scoped>\n    .dataframe tbody tr th:only-of-type {\n        vertical-align: middle;\n    }\n\n    .dataframe tbody tr th {\n        vertical-align: top;\n    }\n\n    .dataframe thead th {\n        text-align: right;\n    }\n</style>\n<table border=\"1\" class=\"dataframe\">\n  <thead>\n    <tr style=\"text-align: right;\">\n      <th></th>\n      <th>Unnamed: 0</th>\n      <th>Rk</th>\n      <th>Player</th>\n      <th>ID</th>\n      <th>Age</th>\n      <th>Pos</th>\n      <th>Tm</th>\n      <th>GP</th>\n      <th>G</th>\n      <th>A</th>\n      <th>...</th>\n      <th>HART</th>\n      <th>Votes</th>\n      <th>Season</th>\n      <th>G/60min</th>\n      <th>A/60min</th>\n      <th>PTS/60min</th>\n      <th>HIT/60min</th>\n      <th>BLK/60min</th>\n      <th>PIM/60min</th>\n      <th>S/60min</th>\n    </tr>\n  </thead>\n  <tbody>\n    <tr>\n      <td>0</td>\n      <td>0</td>\n      <td>1</td>\n      <td>Connor McDavid</td>\n      <td>mcdavco01</td>\n      <td>20</td>\n      <td>C</td>\n      <td>EDM</td>\n      <td>82.0</td>\n      <td>30</td>\n      <td>70</td>\n      <td>...</td>\n      <td>1</td>\n      <td>1604</td>\n      <td>2017</td>\n      <td>1.038661</td>\n      <td>2.423543</td>\n      <td>3.462204</td>\n      <td>1.177149</td>\n      <td>1.004039</td>\n      <td>0.900173</td>\n      <td>8.690133</td>\n    </tr>\n    <tr>\n      <td>1</td>\n      <td>1</td>\n      <td>2</td>\n      <td>Sidney Crosby</td>\n      <td>crosbsi01</td>\n      <td>29</td>\n      <td>C</td>\n      <td>PIT</td>\n      <td>75.0</td>\n      <td>44</td>\n      <td>45</td>\n      <td>...</td>\n      <td>0</td>\n      <td>1104</td>\n      <td>2017</td>\n      <td>1.770624</td>\n      <td>1.810865</td>\n      <td>3.581489</td>\n      <td>3.219316</td>\n      <td>1.086519</td>\n      <td>0.965795</td>\n      <td>10.261569</td>\n    </tr>\n    <tr>\n      <td>2</td>\n      <td>2</td>\n      <td>3</td>\n      <td>Patrick Kane</td>\n      <td>kanepa01</td>\n      <td>28</td>\n      <td>RW</td>\n      <td>CHI</td>\n      <td>82.0</td>\n      <td>34</td>\n      <td>55</td>\n      <td>...</td>\n      <td>0</td>\n      <td>206</td>\n      <td>2017</td>\n      <td>1.163056</td>\n      <td>1.881414</td>\n      <td>3.044470</td>\n      <td>0.957811</td>\n      <td>0.513113</td>\n      <td>1.094641</td>\n      <td>9.988597</td>\n    </tr>\n    <tr>\n      <td>3</td>\n      <td>3</td>\n      <td>4</td>\n      <td>Nicklas Backstrom</td>\n      <td>backsni02</td>\n      <td>29</td>\n      <td>C</td>\n      <td>WSH</td>\n      <td>82.0</td>\n      <td>23</td>\n      <td>63</td>\n      <td>...</td>\n      <td>0</td>\n      <td>60</td>\n      <td>2017</td>\n      <td>0.921844</td>\n      <td>2.525050</td>\n      <td>3.446894</td>\n      <td>1.803607</td>\n      <td>1.322645</td>\n      <td>1.523046</td>\n      <td>6.492986</td>\n    </tr>\n    <tr>\n      <td>4</td>\n      <td>4</td>\n      <td>5</td>\n      <td>Nikita Kucherov</td>\n      <td>kucheni01</td>\n      <td>23</td>\n      <td>RW</td>\n      <td>TBL</td>\n      <td>74.0</td>\n      <td>40</td>\n      <td>45</td>\n      <td>...</td>\n      <td>0</td>\n      <td>119</td>\n      <td>2017</td>\n      <td>1.668985</td>\n      <td>1.877608</td>\n      <td>3.546592</td>\n      <td>1.251739</td>\n      <td>0.834492</td>\n      <td>1.585535</td>\n      <td>10.264256</td>\n    </tr>\n  </tbody>\n</table>\n<p>5 rows × 40 columns</p>\n</div>"
     },
     "metadata": {},
     "execution_count": 7
    }
   ],
   "source": [
    "complete_nhl_df = nhl_df\n",
    "complete_nhl_df.head()"
   ]
  },
  {
   "cell_type": "code",
   "execution_count": 8,
   "metadata": {},
   "outputs": [
    {
     "output_type": "execute_result",
     "data": {
      "text/plain": "     Avg G/60min  Avg A/60min  Avg PTS/60min  Avg HIT/60min  Avg BLK/60min  \\\nAge                                                                          \n18      0.824067     1.148905       1.972972       2.490490       1.401981   \n19      0.616434     1.000604       1.617038       3.519958       1.890612   \n20      0.673296     0.995643       1.668939       3.063742       1.597840   \n21      0.613062     0.951827       1.564889       3.575405       1.734297   \n22      0.589820     0.928056       1.517876       3.951092       1.929304   \n\n     Avg S/60min  Avg S_percent  Avg PIM/60min  Med PIM/60min  Num Players  \nAge                                                                         \n18      7.343056      10.941667       1.739567       1.191372           24  \n19      6.572784       8.770732       1.736700       1.368243          123  \n20      6.738494       9.348246       1.977292       1.416767          228  \n21      6.527488       8.644836       2.310811       1.665270          426  \n22      6.426348       8.447611       2.505728       1.701871          565  ",
      "text/html": "<div>\n<style scoped>\n    .dataframe tbody tr th:only-of-type {\n        vertical-align: middle;\n    }\n\n    .dataframe tbody tr th {\n        vertical-align: top;\n    }\n\n    .dataframe thead th {\n        text-align: right;\n    }\n</style>\n<table border=\"1\" class=\"dataframe\">\n  <thead>\n    <tr style=\"text-align: right;\">\n      <th></th>\n      <th>Avg G/60min</th>\n      <th>Avg A/60min</th>\n      <th>Avg PTS/60min</th>\n      <th>Avg HIT/60min</th>\n      <th>Avg BLK/60min</th>\n      <th>Avg S/60min</th>\n      <th>Avg S_percent</th>\n      <th>Avg PIM/60min</th>\n      <th>Med PIM/60min</th>\n      <th>Num Players</th>\n    </tr>\n    <tr>\n      <th>Age</th>\n      <th></th>\n      <th></th>\n      <th></th>\n      <th></th>\n      <th></th>\n      <th></th>\n      <th></th>\n      <th></th>\n      <th></th>\n      <th></th>\n    </tr>\n  </thead>\n  <tbody>\n    <tr>\n      <td>18</td>\n      <td>0.824067</td>\n      <td>1.148905</td>\n      <td>1.972972</td>\n      <td>2.490490</td>\n      <td>1.401981</td>\n      <td>7.343056</td>\n      <td>10.941667</td>\n      <td>1.739567</td>\n      <td>1.191372</td>\n      <td>24</td>\n    </tr>\n    <tr>\n      <td>19</td>\n      <td>0.616434</td>\n      <td>1.000604</td>\n      <td>1.617038</td>\n      <td>3.519958</td>\n      <td>1.890612</td>\n      <td>6.572784</td>\n      <td>8.770732</td>\n      <td>1.736700</td>\n      <td>1.368243</td>\n      <td>123</td>\n    </tr>\n    <tr>\n      <td>20</td>\n      <td>0.673296</td>\n      <td>0.995643</td>\n      <td>1.668939</td>\n      <td>3.063742</td>\n      <td>1.597840</td>\n      <td>6.738494</td>\n      <td>9.348246</td>\n      <td>1.977292</td>\n      <td>1.416767</td>\n      <td>228</td>\n    </tr>\n    <tr>\n      <td>21</td>\n      <td>0.613062</td>\n      <td>0.951827</td>\n      <td>1.564889</td>\n      <td>3.575405</td>\n      <td>1.734297</td>\n      <td>6.527488</td>\n      <td>8.644836</td>\n      <td>2.310811</td>\n      <td>1.665270</td>\n      <td>426</td>\n    </tr>\n    <tr>\n      <td>22</td>\n      <td>0.589820</td>\n      <td>0.928056</td>\n      <td>1.517876</td>\n      <td>3.951092</td>\n      <td>1.929304</td>\n      <td>6.426348</td>\n      <td>8.447611</td>\n      <td>2.505728</td>\n      <td>1.701871</td>\n      <td>565</td>\n    </tr>\n  </tbody>\n</table>\n</div>"
     },
     "metadata": {},
     "execution_count": 8
    }
   ],
   "source": [
    "age_df = groupby_avg(complete_nhl_df, \"Age\")\n",
    "age_df.head()"
   ]
  },
  {
   "cell_type": "code",
   "execution_count": 9,
   "metadata": {},
   "outputs": [
    {
     "output_type": "execute_result",
     "data": {
      "text/plain": "        Avg G/60min  Avg A/60min  Avg PTS/60min  Avg HIT/60min  Avg BLK/60min  \\\nSeason                                                                          \n2004       0.514478     0.828224       1.342702       0.000000       0.000000   \n2006       0.609734     1.009904       1.619638       0.000000       0.000000   \n2007       0.576399     0.966838       1.543237       0.000000       0.000000   \n2008       0.534129     0.888737       1.422866       4.500742       2.339818   \n2009       0.569995     0.951735       1.521730       2.477101       1.288872   \n\n        Avg S/60min  Avg S_percent  Avg PIM/60min  Med PIM/60min  Num Players  \nSeason                                                                         \n2004       5.705203       8.308504       4.328171       2.272317          635  \n2006       6.174615       8.911111       4.131063       2.882364          630  \n2007       6.090347       8.576645       3.631224       2.395814          608  \n2008       5.935895       8.137239       3.691121       2.148876          623  \n2009       6.098845       8.465959       3.611024       2.240199         1225  ",
      "text/html": "<div>\n<style scoped>\n    .dataframe tbody tr th:only-of-type {\n        vertical-align: middle;\n    }\n\n    .dataframe tbody tr th {\n        vertical-align: top;\n    }\n\n    .dataframe thead th {\n        text-align: right;\n    }\n</style>\n<table border=\"1\" class=\"dataframe\">\n  <thead>\n    <tr style=\"text-align: right;\">\n      <th></th>\n      <th>Avg G/60min</th>\n      <th>Avg A/60min</th>\n      <th>Avg PTS/60min</th>\n      <th>Avg HIT/60min</th>\n      <th>Avg BLK/60min</th>\n      <th>Avg S/60min</th>\n      <th>Avg S_percent</th>\n      <th>Avg PIM/60min</th>\n      <th>Med PIM/60min</th>\n      <th>Num Players</th>\n    </tr>\n    <tr>\n      <th>Season</th>\n      <th></th>\n      <th></th>\n      <th></th>\n      <th></th>\n      <th></th>\n      <th></th>\n      <th></th>\n      <th></th>\n      <th></th>\n      <th></th>\n    </tr>\n  </thead>\n  <tbody>\n    <tr>\n      <td>2004</td>\n      <td>0.514478</td>\n      <td>0.828224</td>\n      <td>1.342702</td>\n      <td>0.000000</td>\n      <td>0.000000</td>\n      <td>5.705203</td>\n      <td>8.308504</td>\n      <td>4.328171</td>\n      <td>2.272317</td>\n      <td>635</td>\n    </tr>\n    <tr>\n      <td>2006</td>\n      <td>0.609734</td>\n      <td>1.009904</td>\n      <td>1.619638</td>\n      <td>0.000000</td>\n      <td>0.000000</td>\n      <td>6.174615</td>\n      <td>8.911111</td>\n      <td>4.131063</td>\n      <td>2.882364</td>\n      <td>630</td>\n    </tr>\n    <tr>\n      <td>2007</td>\n      <td>0.576399</td>\n      <td>0.966838</td>\n      <td>1.543237</td>\n      <td>0.000000</td>\n      <td>0.000000</td>\n      <td>6.090347</td>\n      <td>8.576645</td>\n      <td>3.631224</td>\n      <td>2.395814</td>\n      <td>608</td>\n    </tr>\n    <tr>\n      <td>2008</td>\n      <td>0.534129</td>\n      <td>0.888737</td>\n      <td>1.422866</td>\n      <td>4.500742</td>\n      <td>2.339818</td>\n      <td>5.935895</td>\n      <td>8.137239</td>\n      <td>3.691121</td>\n      <td>2.148876</td>\n      <td>623</td>\n    </tr>\n    <tr>\n      <td>2009</td>\n      <td>0.569995</td>\n      <td>0.951735</td>\n      <td>1.521730</td>\n      <td>2.477101</td>\n      <td>1.288872</td>\n      <td>6.098845</td>\n      <td>8.465959</td>\n      <td>3.611024</td>\n      <td>2.240199</td>\n      <td>1225</td>\n    </tr>\n  </tbody>\n</table>\n</div>"
     },
     "metadata": {},
     "execution_count": 9
    }
   ],
   "source": [
    "season_df = groupby_avg(complete_nhl_df, \"Season\")\n",
    "season_df.head()"
   ]
  },
  {
   "cell_type": "markdown",
   "metadata": {},
   "source": [
    "# Loading into MongoDB"
   ]
  },
  {
   "cell_type": "code",
   "execution_count": 12,
   "metadata": {},
   "outputs": [],
   "source": [
    "conn ='mongodb://localhost:27017' "
   ]
  },
  {
   "cell_type": "code",
   "execution_count": 13,
   "metadata": {},
   "outputs": [],
   "source": [
    "client = pymongo.MongoClient(conn)"
   ]
  },
  {
   "cell_type": "code",
   "execution_count": 27,
   "metadata": {},
   "outputs": [],
   "source": [
    "client.drop_database('nhl_db')"
   ]
  },
  {
   "cell_type": "code",
   "execution_count": 28,
   "metadata": {},
   "outputs": [],
   "source": [
    "db = client.nhl_db"
   ]
  },
  {
   "cell_type": "code",
   "execution_count": 29,
   "metadata": {},
   "outputs": [],
   "source": [
    "collection = db.nhl_player_data"
   ]
  },
  {
   "cell_type": "code",
   "execution_count": 30,
   "metadata": {},
   "outputs": [
    {
     "output_type": "execute_result",
     "data": {
      "text/plain": "Index(['Unnamed: 0', 'Rk', 'Player', 'ID', 'Age', 'Pos', 'Tm', 'GP', 'G', 'A',\n       'PTS', 'plusminus', 'PIM', 'PS', 'EVG', 'PPG', 'SHG', 'GW', 'EVA',\n       'PPA', 'SHA', 'S', 'S_percent', 'TOI', 'ATOI', 'BLK', 'HIT', 'FOW',\n       'FOL', 'FO_percent', 'HART', 'Votes', 'Season', 'G/60min', 'A/60min',\n       'PTS/60min', 'HIT/60min', 'BLK/60min', 'PIM/60min'],\n      dtype='object')"
     },
     "metadata": {},
     "execution_count": 30
    }
   ],
   "source": [
    "complete_nhl_df.columns"
   ]
  },
  {
   "cell_type": "code",
   "execution_count": 31,
   "metadata": {},
   "outputs": [
    {
     "output_type": "execute_result",
     "data": {
      "text/plain": "<pymongo.results.InsertManyResult at 0x21cc6ef0348>"
     },
     "metadata": {},
     "execution_count": 31
    }
   ],
   "source": [
    "data = complete_nhl_df.to_dict(orient='records')\n",
    "collection.insert_many(data)"
   ]
  },
  {
   "cell_type": "code",
   "execution_count": 32,
   "metadata": {
    "tags": [
     "outputPrepend"
    ]
   },
   "outputs": [
    {
     "output_type": "stream",
     "name": "stdout",
     "text": " 0, 'S': 38, 'S_percent': 2.6, 'TOI': 668, 'ATOI': 18.1, 'BLK': 72.0, 'HIT': 33, 'FOW': 0.0, 'FOL': 0.0, 'FO_percent': nan, 'HART': 0, 'Votes': 0, 'Season': 2018, 'G/60min': 0.08982035928143713, 'A/60min': 0.3592814371257485, 'PTS/60min': 0.4491017964071856, 'HIT/60min': 2.9640718562874246, 'BLK/60min': 6.4670658682634725, 'PIM/60min': 0.5389221556886228}\n{'_id': ObjectId('5efe99b91db134b130c3b367'), 'Unnamed: 0': 12951, 'Rk': 656, 'Player': 'Dennis Seidenberg', 'ID': 'seidede01', 'Age': 36, 'Pos': 'D', 'Tm': 'NYI', 'GP': 28.0, 'G': 0, 'A': 5, 'PTS': 5, 'plusminus': -9, 'PIM': 17, 'PS': 0.0, 'EVG': 0, 'PPG': 0, 'SHG': 0, 'GW': 0, 'EVA': 5, 'PPA': 0, 'SHA': 0, 'S': 31, 'S_percent': 0.0, 'TOI': 501, 'ATOI': 17.9, 'BLK': 43.0, 'HIT': 65, 'FOW': 0.0, 'FOL': 0.0, 'FO_percent': nan, 'HART': 0, 'Votes': 0, 'Season': 2018, 'G/60min': 0.0, 'A/60min': 0.5988023952095809, 'PTS/60min': 0.5988023952095809, 'HIT/60min': 7.78443113772455, 'BLK/60min': 5.1497005988023945, 'PIM/60min': 2.035928143712575}\n{'_id': ObjectId('5efe99b91db134b130c3b368'), 'Unnamed: 0': 12953, 'Rk': 658, 'Player': 'Oskar Sundqvist', 'ID': 'sundqos01', 'Age': 23, 'Pos': 'C', 'Tm': 'STL', 'GP': 42.0, 'G': 1, 'A': 4, 'PTS': 5, 'plusminus': -5, 'PIM': 14, 'PS': -0.3, 'EVG': 1, 'PPG': 0, 'SHG': 0, 'GW': 0, 'EVA': 4, 'PPA': 0, 'SHA': 0, 'S': 41, 'S_percent': 2.4, 'TOI': 440, 'ATOI': 10.5, 'BLK': 14.0, 'HIT': 47, 'FOW': 144.0, 'FOL': 179.0, 'FO_percent': 44.6, 'HART': 0, 'Votes': 0, 'Season': 2018, 'G/60min': 0.13636363636363635, 'A/60min': 0.5454545454545454, 'PTS/60min': 0.6818181818181819, 'HIT/60min': 6.409090909090907, 'BLK/60min': 1.9090909090909092, 'PIM/60min': 1.9090909090909092}\n{'_id': ObjectId('5efe99b91db134b130c3b369'), 'Unnamed: 0': 12955, 'Rk': 660, 'Player': 'Yannick Weber', 'ID': 'weberya01', 'Age': 29, 'Pos': 'D', 'Tm': 'NSH', 'GP': 47.0, 'G': 2, 'A': 3, 'PTS': 5, 'plusminus': 2, 'PIM': 16, 'PS': 1.3, 'EVG': 2, 'PPG': 0, 'SHG': 0, 'GW': 0, 'EVA': 3, 'PPA': 0, 'SHA': 0, 'S': 40, 'S_percent': 5.0, 'TOI': 567, 'ATOI': 12.1, 'BLK': 35.0, 'HIT': 47, 'FOW': 0.0, 'FOL': 0.0, 'FO_percent': nan, 'HART': 0, 'Votes': 0, 'Season': 2018, 'G/60min': 0.21164021164021166, 'A/60min': 0.31746031746031744, 'PTS/60min': 0.5291005291005291, 'HIT/60min': 4.973544973544972, 'BLK/60min': 3.7037037037037033, 'PIM/60min': 1.693121693121693}\n{'_id': ObjectId('5efe99b91db134b130c3b36a'), 'Unnamed: 0': 12960, 'Rk': 665, 'Player': 'Taylor Chorney', 'ID': 'chornta01', 'Age': 30, 'Pos': 'D', 'Tm': 'TOT', 'GP': 25.0, 'G': 1, 'A': 3, 'PTS': 4, 'plusminus': 10, 'PIM': 8, 'PS': 1.5, 'EVG': 1, 'PPG': 0, 'SHG': 0, 'GW': 0, 'EVA': 2, 'PPA': 0, 'SHA': 1, 'S': 14, 'S_percent': 7.1, 'TOI': 328, 'ATOI': 13.1, 'BLK': 31.0, 'HIT': 21, 'FOW': 0.0, 'FOL': 0.0, 'FO_percent': nan, 'HART': 0, 'Votes': 0, 'Season': 2018, 'G/60min': 0.18292682926829268, 'A/60min': 0.548780487804878, 'PTS/60min': 0.7317073170731707, 'HIT/60min': 3.841463414634146, 'BLK/60min': 5.670731707317072, 'PIM/60min': 1.4634146341463414}\n{'_id': ObjectId('5efe99b91db134b130c3b36b'), 'Unnamed: 0': 12962, 'Rk': 667, 'Player': 'Nic Dowd', 'ID': 'dowdni01', 'Age': 27, 'Pos': 'C', 'Tm': 'TOT', 'GP': 56.0, 'G': 3, 'A': 1, 'PTS': 4, 'plusminus': -10, 'PIM': 28, 'PS': -0.6, 'EVG': 2, 'PPG': 1, 'SHG': 0, 'GW': 1, 'EVA': 1, 'PPA': 0, 'SHA': 0, 'S': 51, 'S_percent': 5.9, 'TOI': 590, 'ATOI': 10.5, 'BLK': 30.0, 'HIT': 81, 'FOW': 202.0, 'FOL': 194.0, 'FO_percent': 51.0, 'HART': 0, 'Votes': 0, 'Season': 2018, 'G/60min': 0.30508474576271183, 'A/60min': 0.10169491525423728, 'PTS/60min': 0.4067796610169491, 'HIT/60min': 8.23728813559322, 'BLK/60min': 3.050847457627119, 'PIM/60min': 2.8474576271186436}\n{'_id': ObjectId('5efe99b91db134b130c3b36c'), 'Unnamed: 0': 12967, 'Rk': 672, 'Player': 'Julius Honka', 'ID': 'honkaju01', 'Age': 22, 'Pos': 'D', 'Tm': 'DAL', 'GP': 42.0, 'G': 1, 'A': 3, 'PTS': 4, 'plusminus': -1, 'PIM': 14, 'PS': 1.0, 'EVG': 1, 'PPG': 0, 'SHG': 0, 'GW': 0, 'EVA': 2, 'PPA': 1, 'SHA': 0, 'S': 42, 'S_percent': 2.4, 'TOI': 546, 'ATOI': 13.0, 'BLK': 28.0, 'HIT': 20, 'FOW': 0.0, 'FOL': 0.0, 'FO_percent': nan, 'HART': 0, 'Votes': 0, 'Season': 2018, 'G/60min': 0.10989010989010987, 'A/60min': 0.3296703296703297, 'PTS/60min': 0.4395604395604396, 'HIT/60min': 2.1978021978021984, 'BLK/60min': 3.0769230769230766, 'PIM/60min': 1.5384615384615383}\n{'_id': ObjectId('5efe99b91db134b130c3b36d'), 'Unnamed: 0': 12968, 'Rk': 673, 'Player': 'Jacob Josefson', 'ID': 'josefja01', 'Age': 26, 'Pos': 'C', 'Tm': 'BUF', 'GP': 39.0, 'G': 2, 'A': 2, 'PTS': 4, 'plusminus': -4, 'PIM': 6, 'PS': -0.1, 'EVG': 2, 'PPG': 0, 'SHG': 0, 'GW': 0, 'EVA': 2, 'PPA': 0, 'SHA': 0, 'S': 35, 'S_percent': 5.7, 'TOI': 444, 'ATOI': 11.4, 'BLK': 33.0, 'HIT': 26, 'FOW': 141.0, 'FOL': 179.0, 'FO_percent': 44.1, 'HART': 0, 'Votes': 0, 'Season': 2018, 'G/60min': 0.2702702702702703, 'A/60min': 0.2702702702702703, 'PTS/60min': 0.5405405405405406, 'HIT/60min': 3.5135135135135136, 'BLK/60min': 4.45945945945946, 'PIM/60min': 0.8108108108108109}\n{'_id': ObjectId('5efe99b91db134b130c3b36e'), 'Unnamed: 0': 12974, 'Rk': 679, 'Player': 'Anton Lindholm', 'ID': 'lindhan01', 'Age': 23, 'Pos': 'D', 'Tm': 'COL', 'GP': 48.0, 'G': 0, 'A': 4, 'PTS': 4, 'plusminus': 4, 'PIM': 14, 'PS': 1.3, 'EVG': 0, 'PPG': 0, 'SHG': 0, 'GW': 0, 'EVA': 4, 'PPA': 0, 'SHA': 0, 'S': 22, 'S_percent': 0.0, 'TOI': 632, 'ATOI': 13.2, 'BLK': 51.0, 'HIT': 99, 'FOW': 0.0, 'FOL': 0.0, 'FO_percent': nan, 'HART': 0, 'Votes': 0, 'Season': 2018, 'G/60min': 0.0, 'A/60min': 0.3797468354430379, 'PTS/60min': 0.3797468354430379, 'HIT/60min': 9.39873417721519, 'BLK/60min': 4.841772151898733, 'PIM/60min': 1.3291139240506329}\n{'_id': ObjectId('5efe99b91db134b130c3b36f'), 'Unnamed: 0': 12975, 'Rk': 680, 'Player': 'Kurtis MacDermid', 'ID': 'macdeku01', 'Age': 23, 'Pos': 'D', 'Tm': 'LAK', 'GP': 34.0, 'G': 1, 'A': 3, 'PTS': 4, 'plusminus': -4, 'PIM': 57, 'PS': 0.7, 'EVG': 1, 'PPG': 0, 'SHG': 0, 'GW': 0, 'EVA': 3, 'PPA': 0, 'SHA': 0, 'S': 19, 'S_percent': 5.3, 'TOI': 395, 'ATOI': 11.6, 'BLK': 27.0, 'HIT': 77, 'FOW': 0.0, 'FOL': 0.0, 'FO_percent': nan, 'HART': 0, 'Votes': 0, 'Season': 2018, 'G/60min': 0.1518987341772152, 'A/60min': 0.4556962025316456, 'PTS/60min': 0.6075949367088608, 'HIT/60min': 11.69620253164557, 'BLK/60min': 4.1012658227848116, 'PIM/60min': 8.658227848101266}\n{'_id': ObjectId('5efe99b91db134b130c3b370'), 'Unnamed: 0': 12976, 'Rk': 681, 'Player': 'Maxim Mamin', 'ID': 'maminma01', 'Age': 23, 'Pos': 'C', 'Tm': 'FLA', 'GP': 26.0, 'G': 3, 'A': 1, 'PTS': 4, 'plusminus': 2, 'PIM': 7, 'PS': 0.3, 'EVG': 3, 'PPG': 0, 'SHG': 0, 'GW': 1, 'EVA': 1, 'PPA': 0, 'SHA': 0, 'S': 28, 'S_percent': 10.7, 'TOI': 274, 'ATOI': 10.5, 'BLK': 9.0, 'HIT': 51, 'FOW': 0.0, 'FOL': 1.0, 'FO_percent': 0.0, 'HART': 0, 'Votes': 0, 'Season': 2018, 'G/60min': 0.6569343065693432, 'A/60min': 0.218978102189781, 'PTS/60min': 0.875912408759124, 'HIT/60min': 11.16788321167883, 'BLK/60min': 1.9708029197080288, 'PIM/60min': 1.5328467153284668}\n{'_id': ObjectId('5efe99b91db134b130c3b371'), 'Unnamed: 0': 12977, 'Rk': 682, 'Player': 'Ian McCoshen', 'ID': 'mccosia01', 'Age': 22, 'Pos': 'D', 'Tm': 'FLA', 'GP': 38.0, 'G': 3, 'A': 1, 'PTS': 4, 'plusminus': -10, 'PIM': 25, 'PS': 0.4, 'EVG': 3, 'PPG': 0, 'SHG': 0, 'GW': 1, 'EVA': 1, 'PPA': 0, 'SHA': 0, 'S': 26, 'S_percent': 11.5, 'TOI': 573, 'ATOI': 15.1, 'BLK': 43.0, 'HIT': 71, 'FOW': 0.0, 'FOL': 0.0, 'FO_percent': nan, 'HART': 0, 'Votes': 0, 'Season': 2018, 'G/60min': 0.31413612565445026, 'A/60min': 0.10471204188481677, 'PTS/60min': 0.418848167539267, 'HIT/60min': 7.4345549738219905, 'BLK/60min': 4.502617801047121, 'PIM/60min': 2.6178010471204187}\n{'_id': ObjectId('5efe99b91db134b130c3b372'), 'Unnamed: 0': 12978, 'Rk': 683, 'Player': 'Greg McKegg', 'ID': 'mckeggr01', 'Age': 25, 'Pos': 'C', 'Tm': 'PIT', 'GP': 26.0, 'G': 2, 'A': 2, 'PTS': 4, 'plusminus': -4, 'PIM': 8, 'PS': 0.0, 'EVG': 1, 'PPG': 0, 'SHG': 1, 'GW': 0, 'EVA': 2, 'PPA': 0, 'SHA': 0, 'S': 21, 'S_percent': 9.5, 'TOI': 252, 'ATOI': 9.7, 'BLK': 10.0, 'HIT': 19, 'FOW': 115.0, 'FOL': 118.0, 'FO_percent': 49.4, 'HART': 0, 'Votes': 0, 'Season': 2018, 'G/60min': 0.4761904761904762, 'A/60min': 0.4761904761904762, 'PTS/60min': 0.9523809523809524, 'HIT/60min': 4.523809523809524, 'BLK/60min': 2.380952380952381, 'PIM/60min': 1.9047619047619049}\n{'_id': ObjectId('5efe99b91db134b130c3b373'), 'Unnamed: 0': 12979, 'Rk': 684, 'Player': 'Cody McLeod', 'ID': 'mcleoco01', 'Age': 33, 'Pos': 'LW', 'Tm': 'TOT', 'GP': 48.0, 'G': 1, 'A': 3, 'PTS': 4, 'plusminus': -11, 'PIM': 111, 'PS': -0.5, 'EVG': 1, 'PPG': 0, 'SHG': 0, 'GW': 0, 'EVA': 3, 'PPA': 0, 'SHA': 0, 'S': 36, 'S_percent': 2.8, 'TOI': 354, 'ATOI': 7.4, 'BLK': 19.0, 'HIT': 131, 'FOW': 0.0, 'FOL': 0.0, 'FO_percent': nan, 'HART': 0, 'Votes': 0, 'Season': 2018, 'G/60min': 0.1694915254237288, 'A/60min': 0.5084745762711864, 'PTS/60min': 0.6779661016949152, 'HIT/60min': 22.203389830508474, 'BLK/60min': 3.2203389830508478, 'PIM/60min': 18.8135593220339}\n{'_id': ObjectId('5efe99b91db134b130c3b374'), 'Unnamed: 0': 12980, 'Rk': 685, 'Player': 'Adam McQuaid', 'ID': 'mcquaad01', 'Age': 31, 'Pos': 'D', 'Tm': 'BOS', 'GP': 38.0, 'G': 1, 'A': 3, 'PTS': 4, 'plusminus': -1, 'PIM': 62, 'PS': 1.0, 'EVG': 1, 'PPG': 0, 'SHG': 0, 'GW': 1, 'EVA': 3, 'PPA': 0, 'SHA': 0, 'S': 39, 'S_percent': 2.6, 'TOI': 597, 'ATOI': 15.7, 'BLK': 56.0, 'HIT': 80, 'FOW': 0.0, 'FOL': 0.0, 'FO_percent': nan, 'HART': 0, 'Votes': 0, 'Season': 2018, 'G/60min': 0.10050251256281408, 'A/60min': 0.30150753768844224, 'PTS/60min': 0.4020100502512563, 'HIT/60min': 8.040201005025125, 'BLK/60min': 5.628140703517587, 'PIM/60min': 6.231155778894472}\n{'_id': ObjectId('5efe99b91db134b130c3b375'), 'Unnamed: 0': 12981, 'Rk': 686, 'Player': 'Mirco Mueller', 'ID': 'muellmi01', 'Age': 22, 'Pos': 'D', 'Tm': 'NJD', 'GP': 28.0, 'G': 0, 'A': 4, 'PTS': 4, 'plusminus': 1, 'PIM': 4, 'PS': 1.0, 'EVG': 0, 'PPG': 0, 'SHG': 0, 'GW': 0, 'EVA': 2, 'PPA': 0, 'SHA': 2, 'S': 19, 'S_percent': 0.0, 'TOI': 467, 'ATOI': 16.7, 'BLK': 42.0, 'HIT': 15, 'FOW': 0.0, 'FOL': 0.0, 'FO_percent': nan, 'HART': 0, 'Votes': 0, 'Season': 2018, 'G/60min': 0.0, 'A/60min': 0.5139186295503212, 'PTS/60min': 0.5139186295503212, 'HIT/60min': 1.9271948608137044, 'BLK/60min': 5.3961456102783725, 'PIM/60min': 0.5139186295503212}\n{'_id': ObjectId('5efe99b91db134b130c3b376'), 'Unnamed: 0': 12984, 'Rk': 689, 'Player': 'Dennis Rasmussen', 'ID': 'rasmude01', 'Age': 27, 'Pos': 'C', 'Tm': 'ANA', 'GP': 27.0, 'G': 1, 'A': 3, 'PTS': 4, 'plusminus': 4, 'PIM': 8, 'PS': 0.3, 'EVG': 1, 'PPG': 0, 'SHG': 0, 'GW': 0, 'EVA': 3, 'PPA': 0, 'SHA': 0, 'S': 19, 'S_percent': 5.3, 'TOI': 241, 'ATOI': 8.9, 'BLK': 15.0, 'HIT': 31, 'FOW': 34.0, 'FOL': 36.0, 'FO_percent': 48.6, 'HART': 0, 'Votes': 0, 'Season': 2018, 'G/60min': 0.2489626556016597, 'A/60min': 0.7468879668049792, 'PTS/60min': 0.995850622406639, 'HIT/60min': 7.7178423236514515, 'BLK/60min': 3.734439834024896, 'PIM/60min': 1.991701244813278}\n{'_id': ObjectId('5efe99b91db134b130c3b377'), 'Unnamed: 0': 12987, 'Rk': 692, 'Player': 'Luke Witkowski', 'ID': 'witkolu01', 'Age': 27, 'Pos': 'D', 'Tm': 'DET', 'GP': 31.0, 'G': 1, 'A': 3, 'PTS': 4, 'plusminus': -1, 'PIM': 68, 'PS': 0.7, 'EVG': 1, 'PPG': 0, 'SHG': 0, 'GW': 0, 'EVA': 3, 'PPA': 0, 'SHA': 0, 'S': 16, 'S_percent': 6.3, 'TOI': 213, 'ATOI': 6.9, 'BLK': 11.0, 'HIT': 57, 'FOW': 1.0, 'FOL': 1.0, 'FO_percent': 50.0, 'HART': 0, 'Votes': 0, 'Season': 2018, 'G/60min': 0.28169014084507044, 'A/60min': 0.8450704225352113, 'PTS/60min': 1.1267605633802815, 'HIT/60min': 16.056338028169012, 'BLK/60min': 3.0985915492957745, 'PIM/60min': 19.154929577464788}\n{'_id': ObjectId('5efe99b91db134b130c3b378'), 'Unnamed: 0': 12989, 'Rk': 694, 'Player': 'Anthony Bitetto', 'ID': 'bitetan01', 'Age': 27, 'Pos': 'D', 'Tm': 'NSH', 'GP': 32.0, 'G': 1, 'A': 2, 'PTS': 3, 'plusminus': -1, 'PIM': 27, 'PS': 0.6, 'EVG': 1, 'PPG': 0, 'SHG': 0, 'GW': 1, 'EVA': 2, 'PPA': 0, 'SHA': 0, 'S': 25, 'S_percent': 4.0, 'TOI': 430, 'ATOI': 13.4, 'BLK': 31.0, 'HIT': 40, 'FOW': 0.0, 'FOL': 0.0, 'FO_percent': nan, 'HART': 0, 'Votes': 0, 'Season': 2018, 'G/60min': 0.13953488372093026, 'A/60min': 0.2790697674418605, 'PTS/60min': 0.41860465116279066, 'HIT/60min': 5.5813953488372094, 'BLK/60min': 4.325581395348838, 'PIM/60min': 3.7674418604651168}\n{'_id': ObjectId('5efe99b91db134b130c3b379'), 'Unnamed: 0': 12991, 'Rk': 696, 'Player': 'William Carrier', 'ID': 'carriwi01', 'Age': 23, 'Pos': 'LW', 'Tm': 'VEG', 'GP': 37.0, 'G': 1, 'A': 2, 'PTS': 3, 'plusminus': -3, 'PIM': 19, 'PS': -0.3, 'EVG': 1, 'PPG': 0, 'SHG': 0, 'GW': 0, 'EVA': 2, 'PPA': 0, 'SHA': 0, 'S': 52, 'S_percent': 1.9, 'TOI': 327, 'ATOI': 8.8, 'BLK': 10.0, 'HIT': 113, 'FOW': 0.0, 'FOL': 0.0, 'FO_percent': nan, 'HART': 0, 'Votes': 0, 'Season': 2018, 'G/60min': 0.1834862385321101, 'A/60min': 0.3669724770642202, 'PTS/60min': 0.5504587155963303, 'HIT/60min': 20.733944954128443, 'BLK/60min': 1.8348623853211008, 'PIM/60min': 3.486238532110092}\n{'_id': ObjectId('5efe99b91db134b130c3b37a'), 'Unnamed: 0': 13007, 'Rk': 712, 'Player': 'Shawn Matthias', 'ID': 'matthsh01', 'Age': 29, 'Pos': 'C', 'Tm': 'WPG', 'GP': 27.0, 'G': 1, 'A': 2, 'PTS': 3, 'plusminus': -1, 'PIM': 10, 'PS': -0.2, 'EVG': 1, 'PPG': 0, 'SHG': 0, 'GW': 0, 'EVA': 2, 'PPA': 0, 'SHA': 0, 'S': 26, 'S_percent': 3.8, 'TOI': 302, 'ATOI': 11.2, 'BLK': 14.0, 'HIT': 22, 'FOW': 12.0, 'FOL': 16.0, 'FO_percent': 42.9, 'HART': 0, 'Votes': 0, 'Season': 2018, 'G/60min': 0.1986754966887417, 'A/60min': 0.3973509933774834, 'PTS/60min': 0.5960264900662252, 'HIT/60min': 4.370860927152318, 'BLK/60min': 2.7814569536423845, 'PIM/60min': 1.9867549668874172}\n{'_id': ObjectId('5efe99b91db134b130c3b37b'), 'Unnamed: 0': 13009, 'Rk': 714, 'Player': 'Jonathon Merrill', 'ID': 'merrijo01', 'Age': 25, 'Pos': 'D', 'Tm': 'VEG', 'GP': 34.0, 'G': 1, 'A': 2, 'PTS': 3, 'plusminus': 7, 'PIM': 22, 'PS': 1.4, 'EVG': 1, 'PPG': 0, 'SHG': 0, 'GW': 1, 'EVA': 2, 'PPA': 0, 'SHA': 0, 'S': 30, 'S_percent': 3.3, 'TOI': 547, 'ATOI': 16.1, 'BLK': 42.0, 'HIT': 35, 'FOW': 0.0, 'FOL': 0.0, 'FO_percent': nan, 'HART': 0, 'Votes': 0, 'Season': 2018, 'G/60min': 0.10968921389396707, 'A/60min': 0.21937842778793415, 'PTS/60min': 0.3290676416819013, 'HIT/60min': 3.839122486288848, 'BLK/60min': 4.606946983546618, 'PIM/60min': 2.4131627056672764}\n{'_id': ObjectId('5efe99b91db134b130c3b37c'), 'Unnamed: 0': 13010, 'Rk': 715, 'Player': 'Marc Methot', 'ID': 'methoma01', 'Age': 32, 'Pos': 'D', 'Tm': 'DAL', 'GP': 36.0, 'G': 1, 'A': 2, 'PTS': 3, 'plusminus': 11, 'PIM': 31, 'PS': 1.9, 'EVG': 1, 'PPG': 0, 'SHG': 0, 'GW': 0, 'EVA': 2, 'PPA': 0, 'SHA': 0, 'S': 25, 'S_percent': 4.0, 'TOI': 644, 'ATOI': 17.9, 'BLK': 52.0, 'HIT': 77, 'FOW': 0.0, 'FOL': 0.0, 'FO_percent': nan, 'HART': 0, 'Votes': 0, 'Season': 2018, 'G/60min': 0.09316770186335403, 'A/60min': 0.18633540372670807, 'PTS/60min': 0.2795031055900621, 'HIT/60min': 7.173913043478262, 'BLK/60min': 4.844720496894411, 'PIM/60min': 2.888198757763975}\n{'_id': ObjectId('5efe99b91db134b130c3b37d'), 'Unnamed: 0': 13013, 'Rk': 718, 'Player': \"Rob O'Gara\", 'ID': 'ogararo01', 'Age': 24, 'Pos': 'D', 'Tm': 'TOT', 'GP': 30.0, 'G': 0, 'A': 3, 'PTS': 3, 'plusminus': -7, 'PIM': 6, 'PS': 0.2, 'EVG': 0, 'PPG': 0, 'SHG': 0, 'GW': 0, 'EVA': 3, 'PPA': 0, 'SHA': 0, 'S': 21, 'S_percent': 0.0, 'TOI': 465, 'ATOI': 15.5, 'BLK': 44.0, 'HIT': 42, 'FOW': 0.0, 'FOL': 0.0, 'FO_percent': nan, 'HART': 0, 'Votes': 0, 'Season': 2018, 'G/60min': 0.0, 'A/60min': 0.3870967741935484, 'PTS/60min': 0.3870967741935484, 'HIT/60min': 5.419354838709676, 'BLK/60min': 5.677419354838709, 'PIM/60min': 0.7741935483870968}\n{'_id': ObjectId('5efe99b91db134b130c3b37e'), 'Unnamed: 0': 13014, 'Rk': 719, 'Player': 'Iiro Pakarinen', 'ID': 'pakarii01', 'Age': 26, 'Pos': 'RW', 'Tm': 'EDM', 'GP': 40.0, 'G': 2, 'A': 1, 'PTS': 3, 'plusminus': 1, 'PIM': 6, 'PS': -0.2, 'EVG': 2, 'PPG': 0, 'SHG': 0, 'GW': 0, 'EVA': 1, 'PPA': 0, 'SHA': 0, 'S': 50, 'S_percent': 4.0, 'TOI': 408, 'ATOI': 10.2, 'BLK': 17.0, 'HIT': 72, 'FOW': 1.0, 'FOL': 5.0, 'FO_percent': 16.7, 'HART': 0, 'Votes': 0, 'Season': 2018, 'G/60min': 0.29411764705882354, 'A/60min': 0.14705882352941174, 'PTS/60min': 0.4411764705882353, 'HIT/60min': 10.588235294117649, 'BLK/60min': 2.5, 'PIM/60min': 0.8823529411764706}\n{'_id': ObjectId('5efe99b91db134b130c3b37f'), 'Unnamed: 0': 13028, 'Rk': 733, 'Player': 'Jason Dickinson', 'ID': 'dickija01', 'Age': 22, 'Pos': 'C', 'Tm': 'DAL', 'GP': 27.0, 'G': 0, 'A': 2, 'PTS': 2, 'plusminus': -2, 'PIM': 17, 'PS': -0.2, 'EVG': 0, 'PPG': 0, 'SHG': 0, 'GW': 0, 'EVA': 2, 'PPA': 0, 'SHA': 0, 'S': 16, 'S_percent': 0.0, 'TOI': 230, 'ATOI': 8.5, 'BLK': 5.0, 'HIT': 45, 'FOW': 69.0, 'FOL': 73.0, 'FO_percent': 48.6, 'HART': 0, 'Votes': 0, 'Season': 2018, 'G/60min': 0.0, 'A/60min': 0.5217391304347826, 'PTS/60min': 0.5217391304347826, 'HIT/60min': 11.73913043478261, 'BLK/60min': 1.3043478260869563, 'PIM/60min': 4.434782608695652}\n{'_id': ObjectId('5efe99b91db134b130c3b380'), 'Unnamed: 0': 13029, 'Rk': 734, 'Player': 'Gabriel Dumont', 'ID': 'dumonga01', 'Age': 27, 'Pos': 'C', 'Tm': 'TOT', 'GP': 30.0, 'G': 1, 'A': 1, 'PTS': 2, 'plusminus': 1, 'PIM': 6, 'PS': -0.1, 'EVG': 1, 'PPG': 0, 'SHG': 0, 'GW': 0, 'EVA': 1, 'PPA': 0, 'SHA': 0, 'S': 38, 'S_percent': 2.6, 'TOI': 271, 'ATOI': 9.1, 'BLK': 16.0, 'HIT': 62, 'FOW': 41.0, 'FOL': 62.0, 'FO_percent': 39.8, 'HART': 0, 'Votes': 0, 'Season': 2018, 'G/60min': 0.22140221402214025, 'A/60min': 0.22140221402214025, 'PTS/60min': 0.4428044280442805, 'HIT/60min': 13.726937269372694, 'BLK/60min': 3.5424354243542435, 'PIM/60min': 1.328413284132841}\n{'_id': ObjectId('5efe99b91db134b130c3b381'), 'Unnamed: 0': 13030, 'Rk': 735, 'Player': 'Justin Falk', 'ID': 'falkju01', 'Age': 29, 'Pos': 'D', 'Tm': 'BUF', 'GP': 46.0, 'G': 1, 'A': 1, 'PTS': 2, 'plusminus': -16, 'PIM': 28, 'PS': 0.1, 'EVG': 1, 'PPG': 0, 'SHG': 0, 'GW': 0, 'EVA': 0, 'PPA': 0, 'SHA': 1, 'S': 36, 'S_percent': 2.8, 'TOI': 740, 'ATOI': 16.1, 'BLK': 62.0, 'HIT': 121, 'FOW': 0.0, 'FOL': 0.0, 'FO_percent': nan, 'HART': 0, 'Votes': 0, 'Season': 2018, 'G/60min': 0.08108108108108109, 'A/60min': 0.08108108108108109, 'PTS/60min': 0.16216216216216214, 'HIT/60min': 9.81081081081081, 'BLK/60min': 5.027027027027027, 'PIM/60min': 2.27027027027027}\n{'_id': ObjectId('5efe99b91db134b130c3b382'), 'Unnamed: 0': 13032, 'Rk': 737, 'Player': 'Josh Gorges', 'ID': 'gorgejo01', 'Age': 33, 'Pos': 'D', 'Tm': 'BUF', 'GP': 34.0, 'G': 0, 'A': 2, 'PTS': 2, 'plusminus': -4, 'PIM': 17, 'PS': 0.6, 'EVG': 0, 'PPG': 0, 'SHG': 0, 'GW': 0, 'EVA': 2, 'PPA': 0, 'SHA': 0, 'S': 15, 'S_percent': 0.0, 'TOI': 508, 'ATOI': 14.9, 'BLK': 54.0, 'HIT': 69, 'FOW': 0.0, 'FOL': 0.0, 'FO_percent': nan, 'HART': 0, 'Votes': 0, 'Season': 2018, 'G/60min': 0.0, 'A/60min': 0.2362204724409449, 'PTS/60min': 0.2362204724409449, 'HIT/60min': 8.149606299212598, 'BLK/60min': 6.377952755905513, 'PIM/60min': 2.0078740157480315}\n{'_id': ObjectId('5efe99b91db134b130c3b383'), 'Unnamed: 0': 13048, 'Rk': 753, 'Player': 'Dominic Toninato', 'ID': 'tonindo01', 'Age': 23, 'Pos': 'C', 'Tm': 'COL', 'GP': 37.0, 'G': 0, 'A': 2, 'PTS': 2, 'plusminus': 0, 'PIM': 12, 'PS': -0.3, 'EVG': 0, 'PPG': 0, 'SHG': 0, 'GW': 0, 'EVA': 2, 'PPA': 0, 'SHA': 0, 'S': 25, 'S_percent': 0.0, 'TOI': 292, 'ATOI': 7.9, 'BLK': 14.0, 'HIT': 24, 'FOW': 83.0, 'FOL': 116.0, 'FO_percent': 41.7, 'HART': 0, 'Votes': 0, 'Season': 2018, 'G/60min': 0.0, 'A/60min': 0.410958904109589, 'PTS/60min': 0.410958904109589, 'HIT/60min': 4.931506849315068, 'BLK/60min': 2.8767123287671232, 'PIM/60min': 2.4657534246575343}\n{'_id': ObjectId('5efe99b91db134b130c3b384'), 'Unnamed: 0': 13071, 'Rk': 776, 'Player': 'Ben Harpur', 'ID': 'harpube01', 'Age': 23, 'Pos': 'D', 'Tm': 'OTT', 'GP': 41.0, 'G': 0, 'A': 1, 'PTS': 1, 'plusminus': -21, 'PIM': 21, 'PS': -0.9, 'EVG': 0, 'PPG': 0, 'SHG': 0, 'GW': 0, 'EVA': 1, 'PPA': 0, 'SHA': 0, 'S': 26, 'S_percent': 0.0, 'TOI': 610, 'ATOI': 14.9, 'BLK': 35.0, 'HIT': 71, 'FOW': 0.0, 'FOL': 0.0, 'FO_percent': nan, 'HART': 0, 'Votes': 0, 'Season': 2018, 'G/60min': 0.0, 'A/60min': 0.09836065573770493, 'PTS/60min': 0.09836065573770493, 'HIT/60min': 6.9836065573770485, 'BLK/60min': 3.4426229508196724, 'PIM/60min': 2.065573770491804}\n"
    }
   ],
   "source": [
    "nhl_col=db.nhl_player_data.find()\n",
    "for col in nhl_col:\n",
    "    print(col)"
   ]
  },
  {
   "cell_type": "code",
   "execution_count": 33,
   "metadata": {},
   "outputs": [],
   "source": [
    "collection2 = db.age_groups"
   ]
  },
  {
   "cell_type": "code",
   "execution_count": 34,
   "metadata": {},
   "outputs": [
    {
     "output_type": "execute_result",
     "data": {
      "text/plain": "<pymongo.results.InsertManyResult at 0x21cc9999488>"
     },
     "metadata": {},
     "execution_count": 34
    }
   ],
   "source": [
    "data2 = age_df.to_dict(orient='records')\n",
    "collection2.insert_many(data2)"
   ]
  },
  {
   "cell_type": "code",
   "execution_count": 35,
   "metadata": {},
   "outputs": [],
   "source": [
    "collection3 = db.season_groups"
   ]
  },
  {
   "cell_type": "code",
   "execution_count": 36,
   "metadata": {},
   "outputs": [
    {
     "output_type": "execute_result",
     "data": {
      "text/plain": "<pymongo.results.InsertManyResult at 0x21cca3c1b08>"
     },
     "metadata": {},
     "execution_count": 36
    }
   ],
   "source": [
    "data3 = season_df.to_dict(orient='records')\n",
    "collection3.insert_many(data3)"
   ]
  },
  {
   "cell_type": "code",
   "execution_count": null,
   "metadata": {},
   "outputs": [],
   "source": []
  }
 ],
 "metadata": {
  "language_info": {
   "codemirror_mode": {
    "name": "ipython",
    "version": 3
   },
   "file_extension": ".py",
   "mimetype": "text/x-python",
   "name": "python",
   "nbconvert_exporter": "python",
   "pygments_lexer": "ipython3",
   "version": "3.7.4-final"
  },
  "orig_nbformat": 2,
  "kernelspec": {
   "name": "python3",
   "display_name": "Python 3"
  }
 },
 "nbformat": 4,
 "nbformat_minor": 2
}